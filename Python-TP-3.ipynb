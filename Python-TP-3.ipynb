{
 "cells": [
  {
   "cell_type": "markdown",
   "id": "d68c1dee",
   "metadata": {
    "id": "d68c1dee"
   },
   "source": [
    "# Practical_3: Iterable objects or Containers"
   ]
  },
  {
   "cell_type": "markdown",
   "id": "df57fa98",
   "metadata": {
    "id": "bea983a3"
   },
   "source": [
    "---\n",
    "\n",
    "### Exercise 1:\n",
    "Create a list of integers from 1 to 10."
   ]
  },
  {
   "cell_type": "markdown",
   "id": "b2da9600",
   "metadata": {
    "id": "bea983a3"
   },
   "source": [
    "```python\n",
    "# Exercise 1\n",
    "```"
   ]
  },
  {
   "cell_type": "code",
   "execution_count": 66,
   "id": "0c79fa05",
   "metadata": {
    "id": "bea983a3"
   },
   "outputs": [],
   "source": [
    "list = [1,2,3,4,5,6,7,8,9]"
   ]
  },
  {
   "cell_type": "markdown",
   "id": "dd4e625a",
   "metadata": {
    "id": "bea983a3"
   },
   "source": [
    "---\n",
    "\n",
    "### Exercise 2:\n",
    "Create a tuple containing the elements `\"apple\"`, `\"banana\"`, and `\"cherry\"`.\n",
    "\n",
    "```python\n",
    "# Exercise 2\n",
    "```"
   ]
  },
  {
   "cell_type": "code",
   "execution_count": 67,
   "id": "d7aa831d",
   "metadata": {
    "id": "bea983a3"
   },
   "outputs": [],
   "source": [
    "nombers_tuple = ('apple', 'banana', 'cherry')"
   ]
  },
  {
   "cell_type": "markdown",
   "id": "9a0ba28e",
   "metadata": {
    "id": "bea983a3"
   },
   "source": [
    "---\n",
    "\n",
    "### Exercise 3:\n",
    "Convert the list `numbers = [10, 20, 30, 40]` into a tuple.\n",
    "\n",
    "```python\n",
    "# Exercise 3\n",
    "```"
   ]
  },
  {
   "cell_type": "code",
   "execution_count": 68,
   "id": "81be26d5",
   "metadata": {
    "id": "bea983a3"
   },
   "outputs": [
    {
     "name": "stdout",
     "output_type": "stream",
     "text": [
      "(10, 20, 30, 40)\n"
     ]
    }
   ],
   "source": [
    "numbers = [10, 20, 30, 40]\n",
    "numbers_tuple = tuple(numbers)\n",
    "print(numbers_tuple)"
   ]
  },
  {
   "cell_type": "markdown",
   "id": "bf9adbe2",
   "metadata": {
    "id": "bea983a3"
   },
   "source": [
    "---\n",
    "\n",
    "### Exercise 4:\n",
    "Create a set containing the elements `1, 2, 3, 4, 5`.\n",
    "\n",
    "```python\n",
    "# Exercise 4\n",
    "```"
   ]
  },
  {
   "cell_type": "code",
   "execution_count": 69,
   "id": "4299c9fb",
   "metadata": {
    "id": "bea983a3"
   },
   "outputs": [
    {
     "name": "stdout",
     "output_type": "stream",
     "text": [
      "{1, 2, 3, 4}\n"
     ]
    }
   ],
   "source": [
    "another_list = [1,2,3,4]\n",
    "container = set(another_list)\n",
    "print(container)"
   ]
  },
  {
   "cell_type": "markdown",
   "id": "4745259d",
   "metadata": {
    "id": "bea983a3"
   },
   "source": [
    "---\n",
    "\n",
    "### Exercise 5:\n",
    "Create a dictionary `student` with the keys `\"name\"`, `\"age\"`, and `\"grade\"` and corresponding values `\"Alice\"`, `20`, and `\"A\"`.\n",
    "\n",
    "```python\n",
    "# Exercise 5\n",
    "```"
   ]
  },
  {
   "cell_type": "code",
   "execution_count": 70,
   "id": "db07b7c1",
   "metadata": {
    "id": "bea983a3"
   },
   "outputs": [
    {
     "name": "stdout",
     "output_type": "stream",
     "text": [
      "{'name': 'LEKOUNDA', 'age': 30, 'grade': 'Master'}\n"
     ]
    }
   ],
   "source": [
    "students = {'name' : \"LEKOUNDA\" , 'age' : 30 , 'grade' : 'Master'}\n",
    "print(students)"
   ]
  },
  {
   "cell_type": "markdown",
   "id": "559b8900",
   "metadata": {
    "id": "bea983a3"
   },
   "source": [
    "---\n",
    "\n",
    "### Exercise 6:\n",
    "Access the second element of the list `[10, 20, 30, 40, 50]` using indexing.\n",
    "\n",
    "```python\n",
    "# Exercise 6\n",
    "```"
   ]
  },
  {
   "cell_type": "code",
   "execution_count": 71,
   "id": "e36b4465",
   "metadata": {
    "id": "bea983a3"
   },
   "outputs": [
    {
     "name": "stdout",
     "output_type": "stream",
     "text": [
      "20\n"
     ]
    }
   ],
   "source": [
    "mylist = [10, 20, 30, 40, 50]\n",
    "print(mylist[1])"
   ]
  },
  {
   "cell_type": "markdown",
   "id": "2b5d72dd",
   "metadata": {
    "id": "bea983a3"
   },
   "source": [
    "---\n",
    "\n",
    "### Exercise 7:\n",
    "Change the third element of the list `fruits = [\"apple\", \"banana\", \"cherry\", \"orange\"]` to `\"mango\"`.\n",
    "\n",
    "```python\n",
    "# Exercise 7\n",
    "```"
   ]
  },
  {
   "cell_type": "code",
   "execution_count": 72,
   "id": "38f174a4",
   "metadata": {
    "id": "bea983a3"
   },
   "outputs": [
    {
     "name": "stdout",
     "output_type": "stream",
     "text": [
      "['apple', 'banana', 'mango', 'orange']\n"
     ]
    }
   ],
   "source": [
    "fruits = [\"apple\", \"banana\", \"cherry\", \"orange\"]\n",
    "fruits[2]=\"mango\" \n",
    "print(fruits)"
   ]
  },
  {
   "cell_type": "markdown",
   "id": "85ce0e72",
   "metadata": {
    "id": "bea983a3"
   },
   "source": [
    "---\n",
    "\n",
    "### Exercise 8:\n",
    "Add the number `6` to the set `numbers = {1, 2, 3, 4, 5}`.\n",
    "\n",
    "```python\n",
    "# Exercise 8\n",
    "```"
   ]
  },
  {
   "cell_type": "code",
   "execution_count": 73,
   "id": "62904f5d",
   "metadata": {
    "id": "bea983a3"
   },
   "outputs": [
    {
     "data": {
      "text/plain": [
       "{1, 2, 3, 4, 5, 6}"
      ]
     },
     "execution_count": 73,
     "metadata": {},
     "output_type": "execute_result"
    }
   ],
   "source": [
    "numbers = {1, 2, 3, 4, 5}\n",
    "numbers.add(6)\n",
    "numbers"
   ]
  },
  {
   "cell_type": "markdown",
   "id": "1040ef05",
   "metadata": {
    "id": "bea983a3"
   },
   "source": [
    "---\n",
    "\n",
    "### Exercise 9:\n",
    "Remove the key `\"age\"` from the dictionary `person = {\"name\": \"John\", \"age\": 25, \"city\": \"New York\"}`.\n",
    "\n",
    "```python\n",
    "# Exercise 9\n",
    "```"
   ]
  },
  {
   "cell_type": "code",
   "execution_count": 74,
   "id": "995adf96",
   "metadata": {
    "id": "bea983a3"
   },
   "outputs": [
    {
     "name": "stdout",
     "output_type": "stream",
     "text": [
      "{'name': 'John', 'city': 'New York'}\n"
     ]
    }
   ],
   "source": [
    "person = {\"name\": \"John\", \"age\": 25, \"city\": \"New York\"}\n",
    "person.pop(\"age\")\n",
    "print(person)"
   ]
  },
  {
   "cell_type": "markdown",
   "id": "a8ed20d5",
   "metadata": {
    "id": "bea983a3"
   },
   "source": [
    "---\n",
    "\n",
    "### Exercise 10:\n",
    "Create a range object starting from 0 to 9.\n",
    "\n",
    "```python\n",
    "# Exercise 10\n",
    "```"
   ]
  },
  {
   "cell_type": "code",
   "execution_count": 75,
   "id": "365400fb",
   "metadata": {
    "id": "bea983a3"
   },
   "outputs": [
    {
     "name": "stdout",
     "output_type": "stream",
     "text": [
      "range(0, 10)\n"
     ]
    }
   ],
   "source": [
    "range_number = range(10)\n",
    "\n",
    "print(range_number)"
   ]
  },
  {
   "cell_type": "markdown",
   "id": "b010b15e",
   "metadata": {
    "id": "bea983a3"
   },
   "source": [
    "---\n",
    "\n",
    "### Exercise 11:\n",
    "Use a list comprehension to create a list of squares of numbers from 1 to 10.\n",
    "\n",
    "```python\n",
    "# Exercise 11\n",
    "```"
   ]
  },
  {
   "cell_type": "code",
   "execution_count": 76,
   "id": "51a5c138",
   "metadata": {
    "id": "bea983a3"
   },
   "outputs": [
    {
     "name": "stdout",
     "output_type": "stream",
     "text": [
      "[1, 4, 9, 16, 25, 36, 49, 64, 81, 100]\n"
     ]
    }
   ],
   "source": [
    "squares = [x**2 for x in range(1, 11)]\n",
    "print(squares)"
   ]
  },
  {
   "cell_type": "markdown",
   "id": "247f40ce",
   "metadata": {
    "id": "bea983a3"
   },
   "source": [
    "---\n",
    "\n",
    "### Exercise 12:\n",
    "Create a tuple of even numbers between 2 and 10 using a tuple comprehension.\n",
    "\n",
    "```python\n",
    "# Exercise 12\n",
    "```"
   ]
  },
  {
   "cell_type": "code",
   "execution_count": 77,
   "id": "e365ce5e",
   "metadata": {},
   "outputs": [
    {
     "data": {
      "text/plain": [
       "(1, 2, 2)"
      ]
     },
     "execution_count": 77,
     "metadata": {},
     "output_type": "execute_result"
    }
   ],
   "source": [
    "cbcb  = (1,2,2)\n",
    "cbcb"
   ]
  },
  {
   "cell_type": "code",
   "execution_count": 78,
   "id": "c80c7745",
   "metadata": {
    "id": "bea983a3"
   },
   "outputs": [
    {
     "data": {
      "text/plain": [
       "(2, 4, 6, 8, 10)"
      ]
     },
     "execution_count": 78,
     "metadata": {},
     "output_type": "execute_result"
    }
   ],
   "source": [
    "numbers_tuple = tuple(num for num in range(2, 11) if num % 2 == 0)\n",
    "numbers_tuple"
   ]
  },
  {
   "cell_type": "markdown",
   "id": "d796d2bd",
   "metadata": {
    "id": "bea983a3"
   },
   "source": [
    "---\n",
    "\n",
    "### Exercise 13:\n",
    "Use a for loop to iterate through the list `fruits = [\"apple\", \"banana\", \"cherry\"]` and print each element.\n",
    "\n",
    "```python\n",
    "# Exercise 13\n",
    "```"
   ]
  },
  {
   "cell_type": "code",
   "execution_count": 79,
   "id": "be7b588b",
   "metadata": {
    "id": "bea983a3"
   },
   "outputs": [
    {
     "name": "stdout",
     "output_type": "stream",
     "text": [
      "apple\n",
      "banana\n",
      "cherry\n"
     ]
    }
   ],
   "source": [
    "fruits = [\"apple\", \"banana\", \"cherry\"]\n",
    "for i in fruits:\n",
    "    print(i)"
   ]
  },
  {
   "cell_type": "markdown",
   "id": "1f5f476a",
   "metadata": {
    "id": "bea983a3"
   },
   "source": [
    "---\n",
    "\n",
    "### Exercise 14:\n",
    "Check if the value `3` exists in the set `numbers = {1, 2, 3, 4, 5}`.\n",
    "\n",
    "```python\n",
    "# Exercise 14\n",
    "```"
   ]
  },
  {
   "cell_type": "code",
   "execution_count": 80,
   "id": "c4fb6a41",
   "metadata": {
    "id": "bea983a3"
   },
   "outputs": [
    {
     "name": "stdout",
     "output_type": "stream",
     "text": [
      "{1, 2, 3, 4, 5}\n",
      "{1, 2, 3, 4, 5}\n",
      "{1, 2, 3, 4, 5, 6}\n"
     ]
    }
   ],
   "source": [
    "numbers = {1, 2, 3, 4, 5}\n",
    "\n",
    "print(numbers)\n",
    "numbers.add(3)\n",
    "print(numbers)\n",
    "\n",
    "# Adding a new element\n",
    "numbers.add(6)\n",
    "print(numbers)\n"
   ]
  },
  {
   "cell_type": "markdown",
   "id": "6dbee774",
   "metadata": {
    "id": "bea983a3"
   },
   "source": [
    "---\n",
    "\n",
    "### Exercise 15:\n",
    "Use the `len()` function to find the length of the tuple `numbers = (10, 20, 30)`.\n",
    "\n",
    "```python\n",
    "# Exercise 15\n",
    "```"
   ]
  },
  {
   "cell_type": "code",
   "execution_count": 81,
   "id": "8edb2540",
   "metadata": {
    "id": "bea983a3"
   },
   "outputs": [
    {
     "name": "stdout",
     "output_type": "stream",
     "text": [
      "3\n"
     ]
    }
   ],
   "source": [
    "numbers = (10, 20, 30)\n",
    "print(len(numbers))"
   ]
  },
  {
   "cell_type": "markdown",
   "id": "12d987ed",
   "metadata": {
    "id": "bea983a3"
   },
   "source": [
    "---\n",
    "\n",
    "### Exercise 16:\n",
    "Add the value `100` at the end of the list `scores = [80, 85, 90, 95]`.\n",
    "\n",
    "```python\n",
    "# Exercise 16\n",
    "```"
   ]
  },
  {
   "cell_type": "code",
   "execution_count": 82,
   "id": "8273b59d",
   "metadata": {
    "id": "bea983a3"
   },
   "outputs": [
    {
     "name": "stdout",
     "output_type": "stream",
     "text": [
      "[80, 85, 90, 95, 100]\n"
     ]
    }
   ],
   "source": [
    "cores = [80, 85, 90, 95]\n",
    "cores.append(100)\n",
    "print(cores)"
   ]
  },
  {
   "cell_type": "markdown",
   "id": "5dfaa2a7",
   "metadata": {
    "id": "bea983a3"
   },
   "source": [
    "---\n",
    "\n",
    "### Exercise 17:\n",
    "Write a function that takes a list as input and returns the sum of all elements in the list.\n",
    "\n",
    "```python\n",
    "# Exercise 17\n",
    "```"
   ]
  },
  {
   "cell_type": "code",
   "execution_count": 83,
   "id": "872633f6",
   "metadata": {
    "id": "bea983a3"
   },
   "outputs": [
    {
     "name": "stdout",
     "output_type": "stream",
     "text": [
      "The sum of the elements in the list is : 150\n"
     ]
    }
   ],
   "source": [
    "def sum_list_elements(input_list):\n",
    "      total = 0\n",
    "      for item in input_list:\n",
    "        total = total + item\n",
    "      return total\n",
    "\n",
    "\n",
    "my_numbers = [10, 20, 30, 40, 50]\n",
    "\n",
    "result = sum_list_elements(my_numbers)\n",
    "print(f\"The sum of the elements in the list is : {result}\")\n"
   ]
  },
  {
   "cell_type": "markdown",
   "id": "51ba9ca9",
   "metadata": {
    "id": "bea983a3"
   },
   "source": [
    "---\n",
    "\n",
    "### Exercise 18:\n",
    "Create a set containing the unique elements of the list `numbers = [1, 2, 2, 3, 4, 4, 5]`.\n",
    "\n",
    "```python\n",
    "# Exercise 18\n",
    "```"
   ]
  },
  {
   "cell_type": "code",
   "execution_count": 84,
   "id": "6c8a8d98",
   "metadata": {
    "id": "bea983a3"
   },
   "outputs": [
    {
     "name": "stdout",
     "output_type": "stream",
     "text": [
      "{1, 2, 3, 4, 5}\n"
     ]
    }
   ],
   "source": [
    "numbers = [1, 2, 2, 3, 4, 4, 5]\n",
    "unique_numbers_set = set(numbers)\n",
    "print(unique_numbers_set)"
   ]
  },
  {
   "cell_type": "markdown",
   "id": "333359e1",
   "metadata": {
    "id": "bea983a3"
   },
   "source": [
    "---\n",
    "\n",
    "### Exercise 19:\n",
    "Convert the string `\"hello\"` into a list of characters.\n",
    "\n",
    "```python\n",
    "# Exercise 19\n",
    "```"
   ]
  },
  {
   "cell_type": "code",
   "execution_count": 85,
   "id": "c1a879cd",
   "metadata": {
    "id": "bea983a3"
   },
   "outputs": [
    {
     "ename": "TypeError",
     "evalue": "'list' object is not callable",
     "output_type": "error",
     "traceback": [
      "\u001b[31m---------------------------------------------------------------------------\u001b[39m",
      "\u001b[31mTypeError\u001b[39m                                 Traceback (most recent call last)",
      "\u001b[36mCell\u001b[39m\u001b[36m \u001b[39m\u001b[32mIn[85]\u001b[39m\u001b[32m, line 2\u001b[39m\n\u001b[32m      1\u001b[39m my_string = \u001b[33m\"\u001b[39m\u001b[33mhello\u001b[39m\u001b[33m\"\u001b[39m\n\u001b[32m----> \u001b[39m\u001b[32m2\u001b[39m char_list = \u001b[38;5;28;43mlist\u001b[39;49m\u001b[43m(\u001b[49m\u001b[43mmy_string\u001b[49m\u001b[43m)\u001b[49m\n\u001b[32m      3\u001b[39m \u001b[38;5;28mprint\u001b[39m(char_list)\n",
      "\u001b[31mTypeError\u001b[39m: 'list' object is not callable"
     ]
    }
   ],
   "source": [
    "my_string = \"hello\"\n",
    "char_list = list(my_string)\n",
    "print(char_list)"
   ]
  },
  {
   "cell_type": "markdown",
   "id": "6dac5cea",
   "metadata": {
    "id": "bea983a3"
   },
   "source": [
    "---\n",
    "\n",
    "### Exercise 20:\n",
    "Write a Python function that reverses a tuple `(1, 2, 3, 4)`.\n",
    "\n",
    "```python\n",
    "# Exercise 20\n",
    "```"
   ]
  },
  {
   "cell_type": "code",
   "execution_count": null,
   "id": "bd9cd204",
   "metadata": {
    "id": "bea983a3"
   },
   "outputs": [],
   "source": [
    "number_tuple= (1,2,3,4)\n",
    "print(number_tuple[::-1])"
   ]
  },
  {
   "cell_type": "markdown",
   "id": "9764f5a8",
   "metadata": {
    "id": "bea983a3"
   },
   "source": [
    "---\n",
    "\n",
    "### Exercise 21:\n",
    "Merge two dictionaries `dict1 = {\"a\": 1, \"b\": 2}` and `dict2 = {\"c\": 3, \"d\": 4}` into a single dictionary.\n",
    "\n",
    "```python\n",
    "# Exercise 21\n",
    "```"
   ]
  },
  {
   "cell_type": "code",
   "execution_count": null,
   "id": "5c1910ce",
   "metadata": {
    "id": "bea983a3"
   },
   "outputs": [],
   "source": [
    "dict1 = {\"a\": 1, \"b\": 2}\n",
    "dict2 = {\"c\": 3, \"d\": 4}\n",
    "dict1.update(dict2)\n",
    "print(dict1)"
   ]
  },
  {
   "cell_type": "markdown",
   "id": "2baa7dd9",
   "metadata": {
    "id": "bea983a3"
   },
   "source": [
    "---\n",
    "\n",
    "### Exercise 22:\n",
    "Create a dictionary where keys are numbers from 1 to 5, and values are their squares.\n",
    "\n",
    "```python\n",
    "# Exercise 22\n",
    "```"
   ]
  },
  {
   "cell_type": "code",
   "execution_count": null,
   "id": "0135e81d",
   "metadata": {
    "id": "bea983a3"
   },
   "outputs": [],
   "source": [
    "squares_dict = {num : num**2 for num in range(1, 6)}\n",
    "print(squares_dict)"
   ]
  },
  {
   "cell_type": "markdown",
   "id": "b70f86ac",
   "metadata": {
    "id": "bea983a3"
   },
   "source": []
  },
  {
   "cell_type": "markdown",
   "id": "2bd42a18",
   "metadata": {
    "id": "bea983a3"
   },
   "source": [
    "---\n",
    "\n",
    "### Exercise 23:\n",
    "Write a Python program to iterate through a dictionary and print each key-value pair.\n",
    "\n",
    "```python\n",
    "# Exercise 23\n",
    "```"
   ]
  },
  {
   "cell_type": "code",
   "execution_count": null,
   "id": "faa50515",
   "metadata": {
    "id": "bea983a3"
   },
   "outputs": [],
   "source": [
    "dictA = {\"a\": 15, \"b\":25 , \"c\":20, \"d\":26, \"e\" :15 }\n",
    "\n",
    "for key, value in dictA.items():\n",
    "    print(f\"{key}: {value}\")\n"
   ]
  },
  {
   "cell_type": "markdown",
   "id": "e9517bf5",
   "metadata": {
    "id": "bea983a3"
   },
   "source": []
  },
  {
   "cell_type": "markdown",
   "id": "379f1d1b",
   "metadata": {
    "id": "bea983a3"
   },
   "source": [
    "---\n",
    "\n",
    "### Exercise 24:\n",
    "Create a list of the first 5 letters of the alphabet using the `chr()` function.\n",
    "\n",
    "```python\n",
    "# Exercise 24\n",
    "```"
   ]
  },
  {
   "cell_type": "code",
   "execution_count": null,
   "id": "a66dfa2c",
   "metadata": {
    "id": "bea983a3"
   },
   "outputs": [],
   "source": [
    "print(chr(65)+chr(66)+chr(67)+chr(68)+chr(69))\n",
    "lowercase_alphabet = [chr(i) for i in range(65,69)]\n",
    "uppercase_alphabet = [chr(i) for i in range(65,69)]\n",
    "print(lowercase_alphabet)\n",
    "print(uppercase_alphabet)\n"
   ]
  },
  {
   "cell_type": "markdown",
   "id": "dcc43c58",
   "metadata": {
    "id": "bea983a3"
   },
   "source": [
    "---\n",
    "\n",
    "### Exercise 25:\n",
    "Use the `zip()` function to combine two lists `[1, 2, 3]` and `[\"a\", \"b\", \"c\"]` into a list of tuples.\n",
    "\n",
    "```python\n",
    "# Exercise 25\n",
    "```"
   ]
  },
  {
   "cell_type": "code",
   "execution_count": null,
   "id": "f0bb55e3",
   "metadata": {
    "id": "bea983a3"
   },
   "outputs": [],
   "source": [
    "listA = [1,2,3]\n",
    "key = [\"a\", \"b\", \"c\"]\n",
    "res=zip(listA,key)\n",
    "print(list(res))"
   ]
  },
  {
   "cell_type": "markdown",
   "id": "6e043aca",
   "metadata": {
    "id": "bea983a3"
   },
   "source": [
    "---\n",
    "\n",
    "### Exercise 26:\n",
    "Find the index of the value `50` in the list `[10, 20, 30, 40, 50]`.\n",
    "\n",
    "```python\n",
    "# Exercise 26\n",
    "```"
   ]
  },
  {
   "cell_type": "code",
   "execution_count": null,
   "id": "14cc236f",
   "metadata": {
    "id": "bea983a3"
   },
   "outputs": [],
   "source": [
    "listB=[10, 20, 30, 40, 50]\n",
    "print(listB.index(50))"
   ]
  },
  {
   "cell_type": "markdown",
   "id": "d44ff980",
   "metadata": {
    "id": "bea983a3"
   },
   "source": [
    "---\n",
    "\n",
    "### Exercise 27:\n",
    "Sort the list `names = [\"Alice\", \"Bob\", \"Charlie\", \"David\"]` in alphabetical order.\n",
    "\n",
    "```python\n",
    "# Exercise 27\n",
    "```"
   ]
  },
  {
   "cell_type": "code",
   "execution_count": null,
   "id": "879bed2f",
   "metadata": {
    "id": "bea983a3"
   },
   "outputs": [],
   "source": [
    "names = [\"Alice\", \"Bob\", \"Franck\", \"Charlie\", \"David\"]\n",
    "names.sort()\n",
    "print(names)"
   ]
  },
  {
   "cell_type": "markdown",
   "id": "8e9d2a8f",
   "metadata": {
    "id": "bea983a3"
   },
   "source": [
    "---\n",
    "\n",
    "### Exercise 28:\n",
    "Write a Python function that takes a list of integers as input and returns the largest number.\n",
    "\n",
    "```python\n",
    "# Exercise 28\n",
    "```"
   ]
  },
  {
   "cell_type": "code",
   "execution_count": null,
   "id": "4efadb8c",
   "metadata": {
    "id": "bea983a3"
   },
   "outputs": [],
   "source": [
    "def find_largest_number(numbers):\n",
    "    if not numbers:\n",
    "        raise ValueError(\"The input list cannot be empty.\")\n",
    "  \n",
    "    largest_num = numbers[0]  # Initialize with the first element\n",
    "    for num in numbers:\n",
    "        if num > largest_num:\n",
    "            largest_num = num\n",
    "    return largest_num\n",
    "\n",
    "list_intergers = [1,2,4,6,9,7,8]\n",
    "largestnumber = find_largest_number(list_intergers)\n",
    "print(largestnumber)"
   ]
  },
  {
   "cell_type": "markdown",
   "id": "d28aa872",
   "metadata": {
    "id": "bea983a3"
   },
   "source": [
    "---\n",
    "\n",
    "### Exercise 29:\n",
    "Use the `count()` method to count how many times `\"apple\"` appears in the list `fruits = [\"apple\", \"banana\", \"apple\", \"orange\"]`.\n",
    "\n",
    "```python\n",
    "# Exercise 29\n",
    "```"
   ]
  },
  {
   "cell_type": "code",
   "execution_count": null,
   "id": "5adea1fb",
   "metadata": {
    "id": "bea983a3"
   },
   "outputs": [],
   "source": [
    "fruits = [\"apple\", \"banana\", \"apple\", \"orange\"]\n",
    "print(fruits.count(\"apple\"))"
   ]
  },
  {
   "cell_type": "markdown",
   "id": "d392fe91",
   "metadata": {
    "id": "bea983a3"
   },
   "source": [
    "---\n",
    "\n",
    "### Exercise 30:\n",
    "Create a dictionary `person` where keys are `\"name\"`, `\"age\"`, and `\"city\"`, and values are `\"Alice\"`, `25`, and `\"New York\"` respectively. Then access the value of the `\"city\"` key.\n",
    "\n",
    "```python\n",
    "# Exercise 30\n",
    "```"
   ]
  },
  {
   "cell_type": "code",
   "execution_count": null,
   "id": "ce80cd4d",
   "metadata": {},
   "outputs": [],
   "source": [
    "person = {\"name\": \"Alice\",\"age\": 25,\"city\": \"New York\"}\n",
    "print(person[\"city\"])\n"
   ]
  },
  {
   "cell_type": "markdown",
   "id": "5a8430ba",
   "metadata": {
    "id": "bea983a3"
   },
   "source": [
    "---\n",
    "\n",
    "### Exercise 31:\n",
    "Write a Python function that takes a list as input and returns a new list with all duplicates removed.\n",
    "\n",
    "```python\n",
    "# Exercise 31\n",
    "```"
   ]
  },
  {
   "cell_type": "code",
   "execution_count": null,
   "id": "07fa360e",
   "metadata": {},
   "outputs": [],
   "source": [
    "def remove_duplicates(input_list):\n",
    "    return list(set(input_list))\n",
    "\n",
    "my_list = [1, 2, 2, 3, 4, 4, 5]\n",
    "unique_list = remove_duplicates(my_list)\n",
    "print(unique_list)\n"
   ]
  },
  {
   "cell_type": "markdown",
   "id": "5c462e2c",
   "metadata": {
    "id": "bea983a3"
   },
   "source": [
    "---\n",
    "\n",
    "### Exercise 32:\n",
    "Write a Python function that takes two lists and returns their intersection.\n",
    "\n",
    "```python\n",
    "# Exercise 32\n",
    "```"
   ]
  },
  {
   "cell_type": "code",
   "execution_count": null,
   "id": "587f379c",
   "metadata": {},
   "outputs": [],
   "source": [
    "def intersection_of_lists(list1, list2):\n",
    "    return list(set(list1) & set(list2))    \n",
    "listA = [1, 2, 3, 4, 5]\n",
    "listB = [4, 5, 6, 7, 8]\n",
    "common_elements = intersection_of_lists(listA, listB)\n",
    "print(common_elements)"
   ]
  },
  {
   "cell_type": "markdown",
   "id": "9340acfe",
   "metadata": {
    "id": "bea983a3"
   },
   "source": [
    "---\n",
    "\n",
    "### Exercise 33:\n",
    "Create a generator that yields the squares of numbers from 1 to 10.\n",
    "\n",
    "```python\n",
    "# Exercise 33\n",
    "```"
   ]
  },
  {
   "cell_type": "code",
   "execution_count": null,
   "id": "42d4811e",
   "metadata": {},
   "outputs": [],
   "source": [
    "def square_generator():\n",
    "    for i in range(1, 11):\n",
    "        yield i ** 2\n",
    "for square in square_generator():\n",
    "    print(square)"
   ]
  },
  {
   "cell_type": "markdown",
   "id": "f3f9ceae",
   "metadata": {
    "id": "bea983a3"
   },
   "source": [
    "---\n",
    "\n",
    "### Exercise 34:\n",
    "Write a Python function that takes a dictionary as input and returns the sum of all its values.\n",
    "\n",
    "```python\n",
    "# Exercise 34\n",
    "```"
   ]
  },
  {
   "cell_type": "code",
   "execution_count": null,
   "id": "45e18405",
   "metadata": {},
   "outputs": [],
   "source": [
    "def sum_dict_values(data):\n",
    "    return sum(data.values())\n",
    "\n",
    "\n",
    "my_dict = {\"a\": 10, \"b\": 20, \"c\": 30}\n",
    "total = sum_dict_values(my_dict)\n",
    "print(\"Sum of values:\", total)\n"
   ]
  },
  {
   "cell_type": "markdown",
   "id": "4fdbeb9d",
   "metadata": {
    "id": "bea983a3"
   },
   "source": [
    "---\n",
    "\n",
    "### Exercise 35:\n",
    "Use the `sorted()` function to sort the list `[3, 1, 4, 1, 5, 9]` in ascending order.\n",
    "\n",
    "```python\n",
    "# Exercise 35\n",
    "```"
   ]
  },
  {
   "cell_type": "code",
   "execution_count": null,
   "id": "68767574",
   "metadata": {},
   "outputs": [],
   "source": [
    "list_numbers = [1, 2, 3, 4, 5]  \n",
    "list_sorted = sorted(list_numbers, reverse=True)\n",
    "print(list_sorted)"
   ]
  },
  {
   "cell_type": "markdown",
   "id": "4d1f9ebd",
   "metadata": {
    "id": "bea983a3"
   },
   "source": [
    "---\n",
    "\n",
    "### Exercise 36:\n",
    "Write a Python function that takes a list of strings as input and returns the longest string.\n",
    "\n",
    "```python\n",
    "# Exercise 36\n",
    "```"
   ]
  },
  {
   "cell_type": "code",
   "execution_count": null,
   "id": "3bb9ead0",
   "metadata": {},
   "outputs": [],
   "source": [
    "def longest_string(strings):\n",
    "    if not strings:\n",
    "        return None\n",
    "    longest = strings[0]\n",
    "    for s in strings:\n",
    "        if len(s) > len(longest):\n",
    "            longest = s\n",
    "    return longest\n",
    "\n",
    "string_list = [\"apple\", \"banana\", \"cherry\", \"blueberry\", \"kiwi\"]\n",
    "longest = longest_string(string_list)\n",
    "print(\"The longest string is:\", longest)"
   ]
  },
  {
   "cell_type": "markdown",
   "id": "d4cfbc38",
   "metadata": {
    "id": "bea983a3"
   },
   "source": [
    "---\n",
    "\n",
    "### Exercise 37:\n",
    "Check if all the elements in the list `[1, 2, 3, 4, 5]` are greater than 0 using the `all()` function.\n",
    "\n",
    "```python\n",
    "# Exercise 37\n",
    "```"
   ]
  },
  {
   "cell_type": "code",
   "execution_count": null,
   "id": "957cebf2",
   "metadata": {},
   "outputs": [],
   "source": [
    "numbers = [1, 2, 3, 4, 5]\n",
    "# Check if all elements are greater than 0\n",
    "result = all(num > 0 for num in numbers)\n",
    "\n",
    "print(result)\n"
   ]
  },
  {
   "cell_type": "markdown",
   "id": "f8457599",
   "metadata": {
    "id": "bea983a3"
   },
   "source": [
    "---\n",
    "\n",
    "### Exercise 38:\n",
    "Create a list of tuples where each tuple contains a number and its square for numbers from 1 to 5.\n",
    "\n",
    "```python\n",
    "# Exercise 38\n",
    "```"
   ]
  },
  {
   "cell_type": "code",
   "execution_count": null,
   "id": "0a92085e",
   "metadata": {},
   "outputs": [],
   "source": [
    "list_numbers = [1, 2, 3, 4, 5]# Create the list of tuples\n",
    "squares = [(num, num ** 2) for num in range(1, 6)]\n",
    "\n",
    "\n",
    "print(squares)\n"
   ]
  },
  {
   "cell_type": "markdown",
   "id": "34a05673",
   "metadata": {
    "id": "bea983a3"
   },
   "source": [
    "---\n",
    "\n",
    "### Exercise 39:\n",
    "Write a Python function that takes a list of tuples and returns a list of the second elements from each tuple.\n",
    "\n",
    "```python\n",
    "# Exercise 39\n",
    "```"
   ]
  },
  {
   "cell_type": "code",
   "execution_count": null,
   "id": "8ce20ac4",
   "metadata": {},
   "outputs": [],
   "source": [
    "def get_second_elements(tuples_list):\n",
    "    return [t[1] for t in tuples_list]\n",
    "\n",
    "sample_list = [(1, 'a'), (2, 'b'), (3, 'c')]\n",
    "result = get_second_elements(sample_list)\n",
    "print(result)\n"
   ]
  },
  {
   "cell_type": "markdown",
   "id": "749143c0",
   "metadata": {
    "id": "bea983a3"
   },
   "source": [
    "---\n",
    "\n",
    "### Exercise 40:\n",
    "Write a Python function that flattens a list of lists into a single list.\n",
    "\n",
    "```python\n",
    "# Exercise 40\n",
    "```"
   ]
  },
  {
   "cell_type": "code",
   "execution_count": null,
   "id": "382691f1",
   "metadata": {},
   "outputs": [],
   "source": [
    "def flatten_list(nested_list):\n",
    "    return [item for sublist in nested_list for item in sublist]\n",
    "\n",
    "nested = [[1, 2], [3, 4], [5]]\n",
    "flat = flatten_list(nested)\n",
    "print(flat)"
   ]
  },
  {
   "cell_type": "markdown",
   "id": "bea983a3",
   "metadata": {
    "id": "bea983a3"
   },
   "source": [
    "---\n",
    "\n",
    "### Exercise 41:\n",
    "Use the `enumerate()` function to iterate through the list `[\"apple\", \"banana\", \"cherry\"]` and print the index and value.\n",
    "\n",
    "```python\n",
    "# Exercise 41\n",
    "```\n"
   ]
  },
  {
   "cell_type": "code",
   "execution_count": null,
   "id": "7af86ebe",
   "metadata": {},
   "outputs": [],
   "source": [
    "fruits = [\"apple\", \"banana\", \"cherry\"]\n",
    "\n",
    "for index, value in enumerate(fruits):\n",
    "    print(f\"Index: {index}, Value: {value}\")\n"
   ]
  },
  {
   "cell_type": "markdown",
   "id": "28e7c4b3",
   "metadata": {},
   "source": [
    "\n",
    "---\n",
    "\n",
    "### Exercise 42:\n",
    "Write a Python program that checks if a tuple is empty.\n",
    "\n",
    "```python\n",
    "# Exercise 42\n",
    "```\n"
   ]
  },
  {
   "cell_type": "code",
   "execution_count": null,
   "id": "9313d6ed",
   "metadata": {},
   "outputs": [],
   "source": [
    "def is_tuple_empty(t):\n",
    "    return len(t) == 0\n",
    "\n",
    "my_tuple = ()\n",
    "if is_tuple_empty(my_tuple):\n",
    "    print(\"The tuple is empty.\")\n",
    "else:\n",
    "    print(\"The tuple is not empty.\")\n"
   ]
  },
  {
   "cell_type": "markdown",
   "id": "e2d863f0",
   "metadata": {},
   "source": [
    "\n",
    "---\n",
    "\n",
    "### Exercise 43:\n",
    "Create a list of even numbers between 1 and 20 using the `range()` function.\n",
    "\n",
    "```python\n",
    "# Exercise 43\n",
    "```\n"
   ]
  },
  {
   "cell_type": "code",
   "execution_count": null,
   "id": "9fd03fc6",
   "metadata": {},
   "outputs": [],
   "source": [
    "even_numbers = list(range(2, 21, 2))\n",
    "print(even_numbers)\n"
   ]
  },
  {
   "cell_type": "markdown",
   "id": "99f62f01",
   "metadata": {},
   "source": [
    "---\n",
    "\n",
    "### Exercise 44:\n",
    "Write a Python function that takes a list of numbers as input and returns the list in reverse order.\n",
    "\n",
    "```python\n",
    "# Exercise 44\n",
    "```\n"
   ]
  },
  {
   "cell_type": "code",
   "execution_count": null,
   "id": "2602af4b",
   "metadata": {},
   "outputs": [],
   "source": [
    "def reverse_list(numbers):\n",
    "    return numbers[::-1]\n",
    "\n",
    "original = [1, 2, 3, 4, 5]\n",
    "reversed_list = reverse_list(original)\n",
    "print(reversed_list)\n"
   ]
  },
  {
   "cell_type": "markdown",
   "id": "6d1eafb7",
   "metadata": {},
   "source": [
    "\n",
    "---\n",
    "\n",
    "### Exercise 45:\n",
    "Create a dictionary comprehension that maps numbers from 1 to 5 to their cubes.\n",
    "\n",
    "```python\n",
    "# Exercise 45\n",
    "```\n"
   ]
  },
  {
   "cell_type": "code",
   "execution_count": null,
   "id": "f8b4adf9",
   "metadata": {},
   "outputs": [],
   "source": [
    "cubes = {x: x**3 for x in range(1, 6)}\n",
    "print(cubes)"
   ]
  },
  {
   "cell_type": "markdown",
   "id": "15c3c06f",
   "metadata": {},
   "source": [
    "\n",
    "---\n",
    "\n",
    "### Exercise 46:\n",
    "Write a Python program that creates a new list containing only the unique elements of the list `[1, 2, 2, 3, 4, 4, 5]`.\n",
    "\n",
    "```python\n",
    "# Exercise 46\n",
    "```\n"
   ]
  },
  {
   "cell_type": "code",
   "execution_count": null,
   "id": "3b9b32ae",
   "metadata": {},
   "outputs": [],
   "source": [
    "listA = [1, 2, 2, 3, 4, 4, 5]\n",
    "unique_list = list(set(listA))\n",
    "print(unique_list)"
   ]
  },
  {
   "cell_type": "markdown",
   "id": "ad7fd2a7",
   "metadata": {},
   "source": [
    "\n",
    "---\n",
    "\n",
    "### Exercise 47:\n",
    "Write a Python function that takes a list of dictionaries and returns a list of the values for a given key.\n",
    "\n",
    "```python\n",
    "# Exercise 47\n",
    "```\n"
   ]
  },
  {
   "cell_type": "code",
   "execution_count": null,
   "id": "221449bf",
   "metadata": {},
   "outputs": [],
   "source": [
    "def list_of_dictionaries(keys, values):\n",
    "    return [dict(zip(keys, value_tuple)) for value_tuple in values]\n",
    "keys = ['name', 'age', 'city']\n",
    "values = [\n",
    "    ('Gedeon', 30, 'Brazzaville'),\n",
    "    ('Mardochet', 25, 'OUESSO'),\n",
    "    ('LEKOUNDA', 35, 'Pointe-Noire')\n",
    "]\n",
    "result = list_of_dictionaries(keys, values)\n",
    "print(result)\n"
   ]
  },
  {
   "cell_type": "markdown",
   "id": "0dc23564",
   "metadata": {},
   "source": [
    "\n",
    "---\n",
    "\n",
    "### Exercise 48:\n",
    "Write a Python function that uses a generator to yield the Fibonacci sequence up to `n` terms.\n",
    "\n",
    "```python\n",
    "# Exercise 48\n",
    "```\n"
   ]
  },
  {
   "cell_type": "code",
   "execution_count": null,
   "id": "1fb5c3b1",
   "metadata": {},
   "outputs": [],
   "source": [
    "def fibonacci_generator(n):\n",
    "    a, b = 0, 1\n",
    "    for _ in range(n):\n",
    "        yield a\n",
    "        a, b = b, a + b\n",
    "\n",
    "for num in fibonacci_generator(10):\n",
    "    print(num)\n"
   ]
  },
  {
   "cell_type": "markdown",
   "id": "24dc782c",
   "metadata": {},
   "source": [
    "\n",
    "---\n",
    "\n",
    "### Exercise 49:\n",
    "Write a Python function that takes a string and returns a list of all unique characters in the string.\n",
    "\n",
    "```python\n",
    "# Exercise 49\n",
    "```\n"
   ]
  },
  {
   "cell_type": "code",
   "execution_count": null,
   "id": "c9d97f7f",
   "metadata": {},
   "outputs": [],
   "source": [
    "def unique_characters(s):\n",
    "    return list(set(s))\n",
    "\n",
    "text = \"hello world\"\n",
    "unique_chars = unique_characters(text)\n",
    "print(unique_chars)\n"
   ]
  },
  {
   "cell_type": "markdown",
   "id": "1bb2547a",
   "metadata": {},
   "source": [
    "\n",
    "---\n",
    "\n",
    "### Exercise 50:\n",
    "Write a Python function that merges two sorted lists into a single sorted list.\n",
    "\n",
    "```python\n",
    "# Exercise 50\n",
    "```\n"
   ]
  },
  {
   "cell_type": "code",
   "execution_count": null,
   "id": "b38f79b2",
   "metadata": {},
   "outputs": [],
   "source": [
    "def two_sorted_lists(list1, list2):\n",
    "    return sorted(list1 + list2)\n",
    "\n",
    "list1 = [1, 5, 2, 3]\n",
    "list2 = [8, 4, 7, 6]\n",
    "merged_sorted = two_sorted_lists(list1, list2)\n",
    "print(merged_sorted)"
   ]
  },
  {
   "cell_type": "markdown",
   "id": "08b72487",
   "metadata": {},
   "source": [
    "\n",
    "---\n",
    "\n",
    "### Exercise 51:\n",
    "Use the\n",
    "\n",
    " `filter()` function to filter out odd numbers from the list `[1, 2, 3, 4, 5, 6]`.\n",
    "\n",
    "```python\n",
    "# Exercise 51\n",
    "```\n"
   ]
  },
  {
   "cell_type": "code",
   "execution_count": null,
   "id": "c11d56b8",
   "metadata": {},
   "outputs": [],
   "source": [
    "numbers = [1, 2, 3, 4, 5, 6]\n",
    "even_numbers = list(filter(lambda x: x % 2 == 0, numbers))\n",
    "\n",
    "print(even_numbers)\n"
   ]
  },
  {
   "cell_type": "markdown",
   "id": "f489552b",
   "metadata": {},
   "source": [
    "\n",
    "---\n",
    "\n",
    "### Exercise 52:\n",
    "Write a Python program that converts a list of tuples `[(1, 2), (3, 4), (5, 6)]` into a dictionary.\n",
    "\n",
    "```python\n",
    "# Exercise 52\n",
    "```\n"
   ]
  },
  {
   "cell_type": "code",
   "execution_count": null,
   "id": "f5f25afa",
   "metadata": {},
   "outputs": [],
   "source": [
    "tuple_list = [(1, 2), (3, 4), (5, 6)]\n",
    "result_dict = dict(tuple_list)\n",
    "\n",
    "print(result_dict)\n"
   ]
  },
  {
   "cell_type": "markdown",
   "id": "4e574b24",
   "metadata": {},
   "source": [
    "\n",
    "---\n",
    "\n",
    "### Exercise 53:\n",
    "Write a Python function that takes two sets and returns their symmetric difference.\n",
    "\n",
    "```python\n",
    "# Exercise 53\n",
    "```\n"
   ]
  },
  {
   "cell_type": "code",
   "execution_count": null,
   "id": "f39bc6ed",
   "metadata": {},
   "outputs": [],
   "source": [
    "def symmetric_difference(set1, set2):\n",
    "    return set1.symmetric_difference(set2)\n",
    "\n",
    "a = {1, 2, 3}\n",
    "b = {3, 4, 5}\n",
    "result = symmetric_difference(a, b)\n",
    "print(result)\n"
   ]
  },
  {
   "cell_type": "markdown",
   "id": "70226b3a",
   "metadata": {},
   "source": [
    "\n",
    "---\n",
    "\n",
    "### Exercise 54:\n",
    "Write a Python program that finds the common elements in three lists `list1`, `list2`, and `list3`.\n",
    "\n",
    "```python\n",
    "# Exercise 54\n",
    "```\n"
   ]
  },
  {
   "cell_type": "code",
   "execution_count": null,
   "id": "347d7f2c",
   "metadata": {},
   "outputs": [],
   "source": [
    "def find_common_elements(list1, list2, list3):\n",
    "    return list(set(list1) & set(list2) & set(list3))\n",
    "\n",
    "list1 = [1, 2, 3, 4]\n",
    "list2 = [2, 3, 5, 6]\n",
    "list3 = [0, 2, 3, 7]\n",
    "\n",
    "common = find_common_elements(list1, list2, list3)\n",
    "print(\"Common elements:\", common)\n"
   ]
  },
  {
   "cell_type": "markdown",
   "id": "24c127b0",
   "metadata": {},
   "source": [
    "\n",
    "---\n",
    "\n",
    "### Exercise 55:\n",
    "Write a Python function that returns the factorial of a number using recursion.\n",
    "\n",
    "```python\n",
    "# Exercise 55\n",
    "```\n"
   ]
  },
  {
   "cell_type": "code",
   "execution_count": null,
   "id": "d5d9b001",
   "metadata": {},
   "outputs": [],
   "source": [
    "def factorial(n):\n",
    "    if n < 0:\n",
    "        print(\"Factorial is not defined for negative numbers.\")\n",
    "    if n == 0 or n == 1:\n",
    "        return 1\n",
    "    return n * factorial(n - 1)\n",
    "\n",
    "print(factorial(5))  # Output: 120\n"
   ]
  },
  {
   "cell_type": "markdown",
   "id": "b56976ae",
   "metadata": {},
   "source": [
    "\n",
    "---\n",
    "\n",
    "### Exercise 56:\n",
    "Write a Python program that removes all empty strings from the list `[\"apple\", \"\", \"banana\", \"\", \"cherry\"]`.\n",
    "\n",
    "```python\n",
    "# Exercise 56\n",
    "```\n"
   ]
  },
  {
   "cell_type": "code",
   "execution_count": null,
   "id": "b281fd20",
   "metadata": {},
   "outputs": [],
   "source": [
    "fruits = [\"apple\", \"\", \"banana\", \"\", \"cherry\"]\n",
    "filtered_fruits = [fruit for fruit in fruits if fruit != \"\"]\n",
    "\n",
    "print(filtered_fruits)\n"
   ]
  },
  {
   "cell_type": "markdown",
   "id": "5b55153c",
   "metadata": {},
   "source": [
    "\n",
    "---\n",
    "\n",
    "### Exercise 57:\n",
    "Write a Python function that takes a dictionary and returns a new dictionary with the keys and values swapped.\n",
    "\n",
    "```python\n",
    "# Exercise 57\n",
    "```\n"
   ]
  },
  {
   "cell_type": "code",
   "execution_count": null,
   "id": "96da9b5a",
   "metadata": {},
   "outputs": [],
   "source": [
    "def swap_keys_values(d):\n",
    "    return {value : key for key, value in d.items()}\n",
    "\n",
    "original_dict = {'a': 1, 'b': 2, 'c': 3}\n",
    "swapped_dict = swap_keys_values(original_dict)\n",
    "print(swapped_dict)\n"
   ]
  },
  {
   "cell_type": "markdown",
   "id": "40f525f2",
   "metadata": {},
   "source": [
    "\n",
    "---\n",
    "\n",
    "### Exercise 58:\n",
    "Write a Python function that takes a list of integers and returns a new list with only the even numbers.\n",
    "\n",
    "```python\n",
    "# Exercise 58\n",
    "```\n"
   ]
  },
  {
   "cell_type": "code",
   "execution_count": null,
   "id": "e2325199",
   "metadata": {},
   "outputs": [],
   "source": [
    "def get_even_numbers(numbers):\n",
    "    return [num for num in numbers if num % 2 == 0]\n",
    "\n",
    "original_list = [1, 2, 3, 4, 5, 6]\n",
    "even_list = get_even_numbers(original_list)\n",
    "print(even_list)\n"
   ]
  },
  {
   "cell_type": "markdown",
   "id": "3712c88e",
   "metadata": {},
   "source": [
    "\n",
    "---\n",
    "\n",
    "### Exercise 59:\n",
    "Write a Python function that takes a list of tuples and returns a list of the first elements of each tuple.\n",
    "\n",
    "```python\n",
    "# Exercise 59\n",
    "```\n"
   ]
  },
  {
   "cell_type": "code",
   "execution_count": null,
   "id": "02ba59b7",
   "metadata": {},
   "outputs": [],
   "source": [
    "def get_first_elements(tuple_list):\n",
    "    return [t[0] for t in tuple_list]\n",
    "\n",
    "tuples = [(10, 20), (30, 40), (50, 60)]\n",
    "first_elements = get_first_elements(tuples)\n",
    "print(first_elements)\n"
   ]
  },
  {
   "cell_type": "code",
   "execution_count": null,
   "id": "cb466a5b",
   "metadata": {},
   "outputs": [],
   "source": [
    "def get_first_elements(tuple_list):\n",
    "    return [t[0] for t in tuple_list]\n",
    "\n",
    "tuples = [(1, 2), (3, 4), (5, 6)]\n",
    "first_elements = get_first_elements(tuples)\n",
    "print(first_elements)"
   ]
  },
  {
   "cell_type": "markdown",
   "id": "db369ff7",
   "metadata": {},
   "source": [
    "\n",
    "---\n",
    "\n",
    "### Exercise 60:\n",
    "Write a Python program that removes duplicates from a list without changing the order of elements.\n",
    "\n",
    "```python\n",
    "# Exercise 60\n",
    "```\n"
   ]
  },
  {
   "cell_type": "code",
   "execution_count": null,
   "id": "0057e31f",
   "metadata": {},
   "outputs": [],
   "source": [
    "def remove_duplicates_ordered(lst):\n",
    "    seen = set(lst)\n",
    "    result = list(seen)\n",
    "    return result\n",
    "\n",
    "original_list = [1, 2, 2, 3, 1, 4, 3]\n",
    "cleaned_list = remove_duplicates_ordered(original_list)\n",
    "print(cleaned_list)\n"
   ]
  },
  {
   "cell_type": "markdown",
   "id": "737a5134",
   "metadata": {},
   "source": [
    "\n",
    "---\n",
    "\n",
    "### Exercise 61:\n",
    "Use the `map()` function to convert a list of strings to a list of their lengths.\n",
    "\n",
    "```python\n",
    "# Exercise 61\n",
    "```\n"
   ]
  },
  {
   "cell_type": "code",
   "execution_count": null,
   "id": "bd78c625",
   "metadata": {},
   "outputs": [],
   "source": [
    "list_1 = [\"aaa\",\"bbb\", \"ccc\", \"ddd\"]\n",
    "res = map(len, list_1)\n",
    "print(list(res))"
   ]
  },
  {
   "cell_type": "markdown",
   "id": "1317d340",
   "metadata": {},
   "source": [
    "\n",
    "---\n",
    "\n",
    "### Exercise 62:\n",
    "Write a Python program that calculates the average of a list of numbers.\n",
    "\n",
    "```python\n",
    "# Exercise 62\n",
    "```\n"
   ]
  },
  {
   "cell_type": "code",
   "execution_count": null,
   "id": "33cb9d27",
   "metadata": {},
   "outputs": [],
   "source": [
    "def calculate_average(input_list):\n",
    "    res = 0 \n",
    "    for i in input_list:\n",
    "        res += i \n",
    "    return (res/len(input_list))\n",
    "\n",
    "list_2 = [1,2,3,4,6,8]\n",
    "\n",
    "print(\"la moyenne de la list : \", calculate_average(list_2))"
   ]
  },
  {
   "cell_type": "markdown",
   "id": "a0149f95",
   "metadata": {},
   "source": [
    "\n",
    "---\n",
    "\n",
    "### Exercise 63:\n",
    "Write a Python function that generates a list of the first `n` Fibonacci numbers.\n",
    "\n",
    "```python\n",
    "# Exercise 63\n",
    "```\n"
   ]
  },
  {
   "cell_type": "code",
   "execution_count": null,
   "id": "13f87021",
   "metadata": {},
   "outputs": [],
   "source": [
    "def fibonnaci_number(n):\n",
    "    if n <= 0:\n",
    "        return []\n",
    "    elif n == 1:\n",
    "        return [0]\n",
    "    else:\n",
    "        fib_list = [0, 1]\n",
    "        while len(fib_list) < n:\n",
    "            next_fib = fib_list[-1] + fib_list[-2]\n",
    "            fib_list.append(next_fib)\n",
    "        return fib_list\n",
    "    \n",
    "print(\" le resultat de la suite de fibonnaci : \", fibonnaci_number(10))"
   ]
  },
  {
   "cell_type": "markdown",
   "id": "21af1bcd",
   "metadata": {},
   "source": [
    "\n",
    "---\n",
    "\n",
    "### Exercise 64:\n",
    "Write a Python program that counts how many times each element appears in the list `[\"apple\", \"banana\", \"apple\", \"cherry\"]`.\n",
    "\n",
    "```python\n",
    "# Exercise 64\n",
    "```\n"
   ]
  },
  {
   "cell_type": "code",
   "execution_count": null,
   "id": "7a7357af",
   "metadata": {},
   "outputs": [],
   "source": [
    "from collections import Counter\n",
    "\n",
    "# The input list\n",
    "fruits = [\"apple\", \"banana\", \"apple\", \"cherry\"]\n",
    "\n",
    "# Use Counter to count the occurrences of each element\n",
    "element_counts = Counter(fruits)\n",
    "\n",
    "# Print the results\n",
    "print(element_counts) "
   ]
  },
  {
   "cell_type": "markdown",
   "id": "db502116",
   "metadata": {},
   "source": [
    "\n",
    "---\n",
    "\n",
    "### Exercise 65:\n",
    "Write a Python program that removes all occurrences of a specific value from a list.\n",
    "\n",
    "```python\n",
    "# Exercise 65\n",
    "```\n"
   ]
  },
  {
   "cell_type": "code",
   "execution_count": 11,
   "id": "bdaa6584",
   "metadata": {},
   "outputs": [
    {
     "name": "stdout",
     "output_type": "stream",
     "text": [
      "Original list: [1, 2, 3, 4, 2, 5, 2, 6]\n",
      "Value to remove: 2\n",
      "List after removing all occurrences of 2: [1, 3, 4, 5, 6]\n"
     ]
    }
   ],
   "source": [
    "def remove_occurrences(input_list, value_to_remove):\n",
    "      return [item for item in input_list if item != value_to_remove]\n",
    "\n",
    "\n",
    "my_list = [1, 2, 3, 4, 2, 5, 2, 6]\n",
    "value = 2\n",
    "\n",
    "new_list = remove_occurrences(my_list, value)\n",
    "print(f\"Original list: {my_list}\")\n",
    "print(f\"Value to remove: {value}\")\n",
    "print(f\"List after removing all occurrences of {value}: {new_list}\")"
   ]
  },
  {
   "cell_type": "markdown",
   "id": "279119da",
   "metadata": {},
   "source": [
    "\n",
    "---\n",
    "\n",
    "### Exercise 66:\n",
    "Write a Python function that takes a list of strings and returns a list of the strings that start with a vowel.\n",
    "\n",
    "```python\n",
    "# Exercise 66\n",
    "```\n"
   ]
  },
  {
   "cell_type": "code",
   "execution_count": 13,
   "id": "5863fb0d",
   "metadata": {},
   "outputs": [],
   "source": [
    "def get_vowel_starting_strings(input_list):\n",
    "    vowels = \"aeiouAEIOU\"\n",
    "    vowel_strings = []\n",
    "    for word in input_list:\n",
    "        if word and word[0] in vowels:\n",
    "            vowel_starting_strings.append(word)\n",
    "    return vowel_starting_strings"
   ]
  },
  {
   "cell_type": "markdown",
   "id": "c7386c48",
   "metadata": {},
   "source": [
    "\n",
    "---\n",
    "\n",
    "### Exercise 67:\n",
    "Write a Python program that finds the intersection of two sets `set1` and `set2`.\n",
    "\n",
    "```python\n",
    "# Exercise 67\n",
    "```\n"
   ]
  },
  {
   "cell_type": "code",
   "execution_count": 12,
   "id": "d96885f5",
   "metadata": {},
   "outputs": [
    {
     "name": "stdout",
     "output_type": "stream",
     "text": [
      "The intersection using .intersection() is: {4, 5}\n"
     ]
    }
   ],
   "source": [
    "set1 = {1, 2, 3, 4, 5}\n",
    "set2 = {4, 5, 6, 7, 8}\n",
    "\n",
    "intersection_set = set1.intersection(set2)\n",
    "print(f\"The intersection using .intersection() is: {intersection_set}\")"
   ]
  },
  {
   "cell_type": "markdown",
   "id": "3e0710f0",
   "metadata": {},
   "source": [
    "\n",
    "---\n",
    "\n",
    "### Exercise 68:\n",
    "Write a Python function that flattens a nested list.\n",
    "\n",
    "```python\n",
    "# Exercise 68\n",
    "```\n"
   ]
  },
  {
   "cell_type": "markdown",
   "id": "21932473",
   "metadata": {},
   "source": [
    "\n",
    "---\n",
    "\n",
    "### Exercise 69:\n",
    "Write a Python program that checks if all the elements in a list are unique.\n",
    "\n",
    "```python\n",
    "# Exercise 69\n",
    "```\n"
   ]
  },
  {
   "cell_type": "code",
   "execution_count": 14,
   "id": "1eac8d72",
   "metadata": {},
   "outputs": [
    {
     "name": "stdout",
     "output_type": "stream",
     "text": [
      "List 1: [1, 2, 3, 4, 5] - All elements unique? True\n",
      "List 2: [1, 2, 3, 2, 5] - All elements unique? False\n",
      "List 3: [] - All elements unique? True\n",
      "List 4: ['apple', 'banana', 'cherry'] - All elements unique? True\n",
      "List 5: ['apple', 'banana', 'apple'] - All elements unique? False\n"
     ]
    }
   ],
   "source": [
    "def allelements_unique(input_list):\n",
    "    return len(input_list) == len(set(input_list))\n",
    "\n",
    "list1 = [1, 2, 3, 4, 5]\n",
    "list2 = [1, 2, 3, 2, 5]\n",
    "list3 = []\n",
    "list4 = [\"apple\", \"banana\", \"cherry\"]\n",
    "list5 = [\"apple\", \"banana\", \"apple\"]"
   ]
  },
  {
   "cell_type": "markdown",
   "id": "53fd1f82",
   "metadata": {},
   "source": [
    "\n",
    "---\n",
    "\n",
    "### Exercise 70:\n",
    "Use the `reduce()` function from the `functools` module to multiply all elements in a list.\n",
    "\n",
    "```python\n",
    "# Exercise 70\n",
    "```\n"
   ]
  },
  {
   "cell_type": "code",
   "execution_count": null,
   "id": "e37d60a3",
   "metadata": {},
   "outputs": [],
   "source": [
    "from functools import reduce\n",
    "\n",
    "numbers = [2, 3, 4, 5]\n",
    "\n",
    "product = reduce(lambda x, y: x * y, numbers)\n",
    "\n",
    "print(product)  \n"
   ]
  },
  {
   "cell_type": "markdown",
   "id": "b3530488",
   "metadata": {},
   "source": [
    "\n",
    "---\n",
    "\n",
    "### Exercise 71:\n",
    "Write a Python function that takes a list of strings and returns a dictionary where keys are strings and values are their lengths.\n",
    "\n",
    "```python\n",
    "# Exercise 71\n",
    "```\n"
   ]
  },
  {
   "cell_type": "code",
   "execution_count": null,
   "id": "a69ce26b",
   "metadata": {},
   "outputs": [],
   "source": [
    "def strings_to_length_dict(strings):\n",
    "    return {s : len(s) for s in strings}\n",
    "\n",
    "words = [\"apple\", \"banana\", \"cherry\"]\n",
    "result = strings_to_length_dict(words)\n",
    "print(result)\n"
   ]
  },
  {
   "cell_type": "markdown",
   "id": "9d1c1a2d",
   "metadata": {},
   "source": [
    "\n",
    "---\n",
    "\n",
    "### Exercise 72:\n",
    "Write a Python program that counts the number of vowels in a string.\n",
    "\n",
    "```python\n",
    "# Exercise 72\n",
    "```\n"
   ]
  },
  {
   "cell_type": "code",
   "execution_count": null,
   "id": "3c8f68e1",
   "metadata": {},
   "outputs": [],
   "source": [
    "def count_vowels(s):\n",
    "    vowels = \"aeiouAEIOU\"\n",
    "    return sum(1 for char in s if char in vowels)\n",
    "\n",
    "text = \"Hello, World!\"\n",
    "vowel_count = count_vowels(text)\n",
    "print(f\"Number of vowels: {vowel_count}\")"
   ]
  },
  {
   "cell_type": "markdown",
   "id": "685958a8",
   "metadata": {},
   "source": [
    "\n",
    "---\n",
    "\n",
    "### Exercise 73:\n",
    "Create a list of tuples where each tuple contains a number from 1 to 5 and its factorial.\n",
    "\n",
    "```python\n",
    "# Exercise 73\n",
    "```\n"
   ]
  },
  {
   "cell_type": "code",
   "execution_count": null,
   "id": "7328a29e",
   "metadata": {},
   "outputs": [],
   "source": [
    "factorials = [(n, factorial(n)) for n in range(1, 6)]\n",
    "\n",
    "print(factorials)\n"
   ]
  },
  {
   "cell_type": "markdown",
   "id": "1d0c5268",
   "metadata": {},
   "source": [
    "\n",
    "---\n",
    "\n",
    "### Exercise 74:\n",
    "Write a Python program that converts a list of dictionaries into a single dictionary by merging them.\n",
    "\n",
    "```python\n",
    "# Exercise 74\n",
    "```\n"
   ]
  },
  {
   "cell_type": "code",
   "execution_count": 86,
   "id": "8d7909af",
   "metadata": {},
   "outputs": [
    {
     "name": "stdout",
     "output_type": "stream",
     "text": [
      "{'a': 4, 'b': 2, 'c': 3}\n"
     ]
    }
   ],
   "source": [
    "def merge_dicts(dict_list):\n",
    "\n",
    "    merge = {}\n",
    "    for d in dict_list:\n",
    "        merge.update(d)\n",
    "    return merge\n",
    "\n",
    "dicts = [{'a': 1}, {'b': 2}, {'c': 3}, {'a': 4}]\n",
    "result = merge_dicts(dicts)\n",
    "print(result)\n"
   ]
  },
  {
   "cell_type": "markdown",
   "id": "9a01362d",
   "metadata": {},
   "source": [
    "\n",
    "---\n",
    "\n",
    "### Exercise 75:\n",
    "Write a Python function that checks if a set is a subset of another set.\n",
    "\n",
    "```python\n",
    "# Exercise 75\n",
    "```\n"
   ]
  },
  {
   "cell_type": "code",
   "execution_count": null,
   "id": "212e88e5",
   "metadata": {},
   "outputs": [],
   "source": [
    "def is_subset(small_set, large_set):\n",
    "\n",
    "    return small_set.issubset(large_set)\n",
    "\n",
    "a = {1, 2}\n",
    "b = {1, 2, 3, 4}\n",
    "\n",
    "print(is_subset(a, b))  # Output: True\n",
    "print(is_subset(b, a))  # Output: False\n"
   ]
  },
  {
   "cell_type": "markdown",
   "id": "8a3afb53",
   "metadata": {},
   "source": [
    "\n",
    "---\n",
    "\n",
    "### Exercise 76:\n",
    "Write a Python program that sorts a list of tuples based on the second element in each tuple.\n",
    "\n",
    "```python\n",
    "# Exercise 76\n",
    "```\n"
   ]
  },
  {
   "cell_type": "code",
   "execution_count": null,
   "id": "891bb7c6",
   "metadata": {},
   "outputs": [],
   "source": [
    "def sort_by_second_element(tuples_list):\n",
    "    pass\n",
    "\n"
   ]
  },
  {
   "cell_type": "markdown",
   "id": "d689771b",
   "metadata": {},
   "source": [
    "\n",
    "---\n",
    "\n",
    "### Exercise 77:\n",
    "Write a Python function that takes a list of integers and returns a new list with only the positive integers.\n",
    "\n",
    "```python\n",
    "# Exercise 77\n",
    "```\n"
   ]
  },
  {
   "cell_type": "code",
   "execution_count": 87,
   "id": "bbdf735e",
   "metadata": {},
   "outputs": [
    {
     "name": "stdout",
     "output_type": "stream",
     "text": [
      "Nombres positifs : [4, 7, 2]\n"
     ]
    }
   ],
   "source": [
    "def filter_positive_numbers(numbers):\n",
    "    positive_numbers = []\n",
    "    for num in numbers:\n",
    "        if num > 0:\n",
    "            positive_numbers.append(num)\n",
    "    return positive_numbers\n",
    "\n",
    "liste = [-3, 0, 4, -1, 7, 2]\n",
    "resultat = filter_positive_numbers(liste)\n",
    "print(\"Nombres positifs :\", resultat)\n",
    "\n"
   ]
  },
  {
   "cell_type": "markdown",
   "id": "dc2de27c",
   "metadata": {},
   "source": [
    "\n",
    "---\n",
    "\n",
    "### Exercise 78:\n",
    "Write a Python function that takes two sets and returns their union.\n",
    "\n",
    "```python\n",
    "# Exercise 78\n",
    "```\n"
   ]
  },
  {
   "cell_type": "code",
   "execution_count": 88,
   "id": "643b0128",
   "metadata": {},
   "outputs": [
    {
     "name": "stdout",
     "output_type": "stream",
     "text": [
      "Union des ensembles : {1, 2, 3, 4, 5}\n"
     ]
    }
   ],
   "source": [
    "def union_of_sets(set1, set2):\n",
    "\n",
    "    if not isinstance(set1, set) or not isinstance(set2, set):\n",
    "        raise TypeError(\"parameters must have a union.\")\n",
    "  \n",
    "    return set1.union(set2)\n",
    "\n",
    "a = {1, 2, 3}\n",
    "b = {3, 4, 5}\n",
    "\n",
    "resultat = union_of_sets(a, b)\n",
    "print(\"Union des ensembles :\", resultat)\n"
   ]
  },
  {
   "cell_type": "markdown",
   "id": "cb733ba4",
   "metadata": {},
   "source": [
    "\n",
    "---\n",
    "\n",
    "### Exercise 79:\n",
    "Write a Python function that takes a list of numbers and returns the product of all the numbers.\n",
    "\n",
    "```python\n",
    "# Exercise 79\n",
    "```\n"
   ]
  },
  {
   "cell_type": "code",
   "execution_count": 89,
   "id": "5f9af365",
   "metadata": {},
   "outputs": [
    {
     "name": "stdout",
     "output_type": "stream",
     "text": [
      "Product is : 24\n"
     ]
    }
   ],
   "source": [
    "def product_of_numbers(numbers):\n",
    "\n",
    "    if not numbers:\n",
    "        return 0 \n",
    "    product = 1\n",
    "    for num in numbers:\n",
    "        product *= num\n",
    "    return product\n",
    "\n",
    "liste = [2, 3, 4]\n",
    "resultat = product_of_numbers(liste)\n",
    "print(\"Product is :\", resultat)\n"
   ]
  },
  {
   "cell_type": "markdown",
   "id": "00bd0852",
   "metadata": {},
   "source": [
    "\n",
    "---\n",
    "\n",
    "### Exercise 80:\n",
    "Write a Python program that converts a list of characters into a string.\n",
    "\n",
    "```python\n",
    "# Exercise 80\n",
    "```\n"
   ]
  },
  {
   "cell_type": "code",
   "execution_count": 2,
   "id": "af28e881",
   "metadata": {},
   "outputs": [
    {
     "name": "stdout",
     "output_type": "stream",
     "text": [
      "The list of characters: ['H', 'e', 'l', 'l', 'o', ',', ' ', 'W', 'o', 'r', 'l', 'd', '!']\n",
      "The converted string: Hello, World!\n"
     ]
    }
   ],
   "source": [
    "def char_list_to_string(char_list):\n",
    "\n",
    "  return \"\".join(char_list)\n",
    "\n",
    "charactersList = ['H', 'e', 'l', 'l', 'o', ',', ' ', 'W', 'o', 'r', 'l', 'd', '!']\n",
    "stringList = char_list_to_string(charactersList)\n",
    "print(f\"The list of characters: {charactersList}\")\n",
    "print(f\"The converted string: {stringList}\")"
   ]
  },
  {
   "cell_type": "markdown",
   "id": "9a149621",
   "metadata": {},
   "source": [
    "\n",
    "---\n",
    "\n",
    "### Exercise 81:\n",
    "Write a Python program that finds the second largest number in a list of integers.\n",
    "\n",
    "```python\n",
    "# Exercise 81\n",
    "```\n"
   ]
  },
  {
   "cell_type": "code",
   "execution_count": 3,
   "id": "3ccd6837",
   "metadata": {},
   "outputs": [
    {
     "name": "stdout",
     "output_type": "stream",
     "text": [
      "45\n"
     ]
    }
   ],
   "source": [
    "a = [10, 20, 4, 45, 99]\n",
    "\n",
    "max1 = max2 = float('-inf')\n",
    "\n",
    "for n in a:\n",
    "  \n",
    "    if n > max1:\n",
    "        max2 = max1  \n",
    "        max1 = n     \n",
    "        \n",
    "    elif n > max2 and n != max1:\n",
    "        max2 = n  \n",
    "\n",
    "print(max2)"
   ]
  },
  {
   "cell_type": "markdown",
   "id": "1bea4438",
   "metadata": {},
   "source": [
    "\n",
    "---\n",
    "\n",
    "### Exercise 82:\n",
    "Write a Python function that takes a dictionary and returns a list of its keys in sorted order.\n",
    "\n",
    "```python\n",
    "# Exercise 82\n",
    "```\n"
   ]
  },
  {
   "cell_type": "code",
   "execution_count": null,
   "id": "f0566be6",
   "metadata": {},
   "outputs": [],
   "source": [
    "def get_sorted_keys(input_dict):\n",
    "  return sorted(input_dict.keys())\n",
    "\n"
   ]
  },
  {
   "cell_type": "markdown",
   "id": "dca2ff3d",
   "metadata": {},
   "source": [
    "\n",
    "---\n",
    "\n",
    "### Exercise 83:\n",
    "Write a Python program that finds the most common element in a list.\n",
    "\n",
    "```python\n",
    "# Exercise 83\n",
    "```\n"
   ]
  },
  {
   "cell_type": "code",
   "execution_count": 7,
   "id": "1d0dfa00",
   "metadata": {},
   "outputs": [
    {
     "name": "stdout",
     "output_type": "stream",
     "text": [
      "The most common element in [1, 2, 3, 2, 1, 4, 2, 5, 2, 3, 1] is: 2\n"
     ]
    }
   ],
   "source": [
    "from collections import Counter\n",
    "\n",
    "def find_most_common_element(input_list):\n",
    "    if not input_list:\n",
    "        return None\n",
    "    element_counts = Counter(input_list)\n",
    "    common= element_counts.most_common(1)\n",
    "    most_common = common[0][0]\n",
    "    return most_common\n",
    "\n",
    "my_list = [1, 2, 3, 2, 1, 4, 2, 5, 2, 3, 1]\n",
    "common_element = find_most_common_element(my_list)\n",
    "print(f\"The most common element in {my_list} is: {common_element}\")"
   ]
  },
  {
   "cell_type": "markdown",
   "id": "92250706",
   "metadata": {},
   "source": [
    "\n",
    "---\n",
    "\n",
    "### Exercise 84:\n",
    "Write a Python function that takes a list of tuples and returns a list of the tuples sorted by the first element.\n",
    "\n",
    "```python\n",
    "# Exercise 84\n",
    "```\n"
   ]
  },
  {
   "cell_type": "code",
   "execution_count": 8,
   "id": "1499ef96",
   "metadata": {},
   "outputs": [
    {
     "name": "stdout",
     "output_type": "stream",
     "text": [
      "Original list: [('apple', 3), ('banana', 1), ('cherry', 2)]\n",
      "Sorted list: [('apple', 3), ('banana', 1), ('cherry', 2)]\n"
     ]
    }
   ],
   "source": [
    "def sort_tuples(list_of_tuples):\n",
    "    return sorted(list_of_tuples, key=lambda x: x[0])\n",
    "\n",
    "\n",
    "data = [(\"apple\", 3), (\"banana\", 1), (\"cherry\", 2)]\n",
    "sorted_data = sort_tuples(data)\n",
    "\n",
    "print(f\"Original list: {data}\")\n",
    "print(f\"Sorted list: {sorted_data}\")"
   ]
  },
  {
   "cell_type": "markdown",
   "id": "05871d70",
   "metadata": {},
   "source": [
    "\n",
    "---\n",
    "\n",
    "### Exercise 85:\n",
    "Write a Python program that removes duplicates from a list of dictionaries.\n",
    "\n",
    "```python\n",
    "# Exercise 85\n",
    "```\n"
   ]
  },
  {
   "cell_type": "code",
   "execution_count": null,
   "id": "b5d04ce1",
   "metadata": {},
   "outputs": [],
   "source": []
  },
  {
   "cell_type": "markdown",
   "id": "4a716093",
   "metadata": {},
   "source": [
    "\n",
    "---\n",
    "\n",
    "### Exercise 86:\n",
    "Write a Python function that takes a list of numbers and returns the minimum and maximum numbers in the list.\n",
    "\n",
    "```python\n",
    "# Exercise 86\n",
    "```\n"
   ]
  },
  {
   "cell_type": "code",
   "execution_count": null,
   "id": "c9de13c8",
   "metadata": {},
   "outputs": [],
   "source": [
    "def find_min_max(numbers):\n",
    "\n",
    "    if not numbers: \n",
    "        return None, None\n",
    "    \n",
    "    min_num = numbers[0]\n",
    "    max_num = numbers[0]\n",
    "    \n",
    "    for num in numbers[1:]:\n",
    "        if num < min_num:\n",
    "            min_num = num\n",
    "        elif num > max_num:\n",
    "            max_num = num\n",
    "    \n",
    "    return min_num, max_num"
   ]
  },
  {
   "cell_type": "markdown",
   "id": "0bc3d25e",
   "metadata": {},
   "source": [
    "\n",
    "---\n",
    "\n",
    "### Exercise 87:\n",
    "Write a Python program that creates a list of tuples from two lists.\n",
    "\n",
    "```python\n",
    "# Exercise 87\n",
    "```\n"
   ]
  },
  {
   "cell_type": "code",
   "execution_count": 10,
   "id": "4d5e126c",
   "metadata": {},
   "outputs": [
    {
     "name": "stdout",
     "output_type": "stream",
     "text": [
      "List 1: [1, 2, 3, 4]\n",
      "List 2: ['a', 'b', 'c', 'd']\n",
      "List of tuples: [(1, 'a'), (2, 'b'), (3, 'c'), (4, 'd')]\n"
     ]
    }
   ],
   "source": [
    "def list_tuples(list1, list2):\n",
    "      return list(zip(list1, list2))\n",
    "\n",
    "\n",
    "list_a = [1, 2, 3, 4]\n",
    "list_b = ['a', 'b', 'c', 'd']\n",
    "\n",
    "result_list_tuples = list_tuples(list_a, list_b)\n",
    "print(f\"List 1: {list_a}\")\n",
    "print(f\"List 2: {list_b}\")\n",
    "print(f\"List of tuples: {result_list_tuples}\")"
   ]
  },
  {
   "cell_type": "markdown",
   "id": "76c98676",
   "metadata": {},
   "source": [
    "\n",
    "---\n",
    "\n",
    "### Exercise 88:\n",
    "Write a Python function that takes a list of strings and returns a list of the strings in reverse order.\n",
    "\n",
    "```python\n",
    "# Exercise 88\n",
    "```\n"
   ]
  },
  {
   "cell_type": "code",
   "execution_count": null,
   "id": "4feb77be",
   "metadata": {},
   "outputs": [],
   "source": [
    "def reverse_list(string_list):\n",
    "      return string_list[::-1]\n",
    "\n",
    "my_list = [\"apple\", \"banana\", \"cherry\", \"date\"]\n",
    "reversed_list = reverse_list(my_list)\n",
    "print(reversed_list)"
   ]
  },
  {
   "cell_type": "markdown",
   "id": "c35c74c6",
   "metadata": {},
   "source": [
    "\n",
    "---\n",
    "\n",
    "### Exercise 89:\n",
    "Write a Python function that takes a list of integers and returns the sum of all odd numbers.\n",
    "\n",
    "```python\n",
    "# Exercise 89\n",
    "```\n"
   ]
  },
  {
   "cell_type": "code",
   "execution_count": null,
   "id": "faff9dcf",
   "metadata": {},
   "outputs": [],
   "source": [
    "def sum_of_odds(numbers):\n",
    "    return sum(num for num in numbers if num % 2 != 0)\n",
    "\n",
    "print(sum_of_odds([1, 2, 3, 4, 5]))  # Output: 9\n",
    "print(sum_of_odds([10, 20, 30]))     # Output: 0\n",
    "print(sum_of_odds([7, 11, 13]))      # Output: 31\n"
   ]
  },
  {
   "cell_type": "markdown",
   "id": "fd5340d9",
   "metadata": {},
   "source": [
    "\n",
    "---\n",
    "\n",
    "### Exercise 90:\n",
    "Write a Python program that checks if a string is a palindrome.\n",
    "\n",
    "```python\n",
    "# Exercise 90\n",
    "```\n"
   ]
  },
  {
   "cell_type": "code",
   "execution_count": null,
   "id": "cc3e8178",
   "metadata": {},
   "outputs": [],
   "source": [
    "def is_palindrome(s):\n",
    "    s = s.replace(\" \", \"\").lower()\n",
    "    return s == s[::-1]\n",
    "\n",
    "text = input(\"Enter a string: \")\n",
    "if is_palindrome(text):\n",
    "    print(\"Yes, it's a palindrome.\")\n",
    "else:\n",
    "    print(\"No, it's not a palindrome.\")\n"
   ]
  },
  {
   "cell_type": "markdown",
   "id": "06e65784",
   "metadata": {},
   "source": [
    "\n",
    "---\n",
    "\n",
    "### Exercise 91:\n",
    "Write a Python program that finds the median of a list of numbers.\n",
    "\n",
    "```python\n",
    "# Exercise 91\n",
    "```\n"
   ]
  },
  {
   "cell_type": "code",
   "execution_count": null,
   "id": "b6c56f3a",
   "metadata": {},
   "outputs": [],
   "source": [
    "def find_median(numbers):\n",
    "    sorted_nums = sorted(numbers)\n",
    "    n = len(sorted_nums)\n",
    "    mid = n // 2\n",
    "\n",
    "    if n == 0:\n",
    "        return None  # Handle empty list\n",
    "    elif n % 2 == 1:\n",
    "        return sorted_nums[mid]\n",
    "    else:\n",
    "        return (sorted_nums[mid - 1] + sorted_nums[mid]) / 2\n",
    "\n",
    "\n",
    "data = [5, 2, 9, 1, 7]\n",
    "median = find_median(data)\n",
    "print(\"Median:\", median)\n"
   ]
  },
  {
   "cell_type": "markdown",
   "id": "4f348d6c",
   "metadata": {},
   "source": [
    "\n",
    "---\n",
    "\n",
    "### Exercise 92:\n",
    "Write a Python function that takes a list of dictionaries and returns a dictionary with the total value for each key.\n",
    "\n",
    "```python\n",
    "# Exercise 92\n",
    "```\n"
   ]
  },
  {
   "cell_type": "code",
   "execution_count": null,
   "id": "a72c6498",
   "metadata": {},
   "outputs": [],
   "source": [
    "def sum_values_by_key(dict_list):\n",
    "    total_dict = {}\n",
    "    for d in dict_list:\n",
    "        for key, value in d.items():\n",
    "            total_dict[key] = total_dict.get(key, 0) + value\n",
    "    return total_dict\n",
    "\n",
    "data = [\n",
    "    {'a': 5, 'b': 3},\n",
    "    {'a': 2, 'c': 7},\n",
    "    {'b': 4, 'c': 1}\n",
    "]\n",
    "\n",
    "result = sum_values_by_key(data)\n",
    "print(result)  # Output: {'a': 7, 'b': 7, 'c': 8}\n"
   ]
  },
  {
   "cell_type": "markdown",
   "id": "2192ac5f",
   "metadata": {},
   "source": [
    "\n",
    "---\n",
    "\n",
    "### Exercise 93:\n",
    "Write a Python program that calculates the mode of a list of numbers.\n",
    "\n",
    "```python\n",
    "# Exercise 93\n",
    "```\n"
   ]
  },
  {
   "cell_type": "code",
   "execution_count": null,
   "id": "6760a76b",
   "metadata": {},
   "outputs": [],
   "source": [
    "from collections import Counter\n",
    "\n",
    "def find_mode(numbers):\n",
    "    if not numbers:\n",
    "        return None  # Handle empty list\n",
    "    counts = Counter(numbers)\n",
    "    max_count = max(counts.values())\n",
    "    mode = [num for num, count in counts.items() if count == max_count]\n",
    "    return mode\n",
    "\n",
    "# Example usage\n",
    "data = [4, 1, 2, 2, 3, 4, 4]\n",
    "mode_result = find_mode(data)\n",
    "print(\"Mode:\", mode_result)"
   ]
  },
  {
   "cell_type": "markdown",
   "id": "2b71b658",
   "metadata": {},
   "source": [
    "\n",
    "---\n",
    "\n",
    "### Exercise 94:\n",
    "Write a Python function that takes a list of numbers and returns the sum of the squares of all the numbers.\n",
    "\n",
    "```python\n",
    "# Exercise 94\n",
    "```\n"
   ]
  },
  {
   "cell_type": "code",
   "execution_count": null,
   "id": "3a6c297a",
   "metadata": {},
   "outputs": [],
   "source": [
    "def sum_of_squares(numbers):\n",
    "    return sum(x**2 for x in numbers)\n",
    "\n",
    "print(sum_of_squares([1, 2, 3]))     # Output: 14 (1² + 2² + 3²)\n",
    "print(sum_of_squares([-1, -2, 4]))   # Output: 21\n",
    "print(sum_of_squares([]))           # Output: 0\n"
   ]
  },
  {
   "cell_type": "markdown",
   "id": "59f1e81b",
   "metadata": {},
   "source": [
    "\n",
    "---\n",
    "\n",
    "### Exercise 95:\n",
    "Write a Python program that creates a list of tuples, where each tuple contains a number and its cube for numbers from 1 to 5.\n",
    "\n",
    "```python\n",
    "# Exercise 95\n",
    "```\n"
   ]
  },
  {
   "cell_type": "code",
   "execution_count": null,
   "id": "91748089",
   "metadata": {},
   "outputs": [],
   "source": [
    "cubes = [(n, n**3) for n in range(1, 6)]\n",
    "\n",
    "print(cubes)\n",
    "\n"
   ]
  },
  {
   "cell_type": "markdown",
   "id": "b88b9882",
   "metadata": {},
   "source": [
    "\n",
    "---\n",
    "\n",
    "### Exercise 96:\n",
    "Write a Python function that returns a list of all prime numbers up to `n`.\n",
    "\n",
    "```python\n",
    "# Exercise 96\n",
    "```\n"
   ]
  },
  {
   "cell_type": "code",
   "execution_count": null,
   "id": "14990236",
   "metadata": {},
   "outputs": [],
   "source": [
    "def primes_up_to(n):\n",
    "    if n < 2:\n",
    "        return []\n",
    "    primes = []\n",
    "    for num in range(2, n + 1):\n",
    "        is_prime = True\n",
    "        for i in range(2, int(num**0.5) + 1):\n",
    "            if num % i == 0:\n",
    "                is_prime = False\n",
    "                break\n",
    "        if is_prime:\n",
    "            primes.append(num)\n",
    "    return primes\n",
    "print(primes_up_to(20))"
   ]
  },
  {
   "cell_type": "markdown",
   "id": "3c88fd39",
   "metadata": {},
   "source": [
    "\n",
    "---\n",
    "\n",
    "### Exercise 97:\n",
    "Write a Python program that finds the common keys between two dictionaries.\n",
    "\n",
    "```python\n",
    "# Exercise 97\n",
    "```\n"
   ]
  },
  {
   "cell_type": "code",
   "execution_count": null,
   "id": "e758720a",
   "metadata": {},
   "outputs": [],
   "source": [
    "def common_keys(dict1, dict2):\n",
    "    # Use a list comprehension to avoid calling the built-in list()\n",
    "    # which may be shadowed by a variable named 'list' in the notebook.\n",
    "    return [k for k in dict1.keys() if k in dict2]\n",
    "\n",
    "# Example usage\n",
    "a = {'x': 1, 'y': 2, 'z': 3}\n",
    "b = {'y': 10, 'z': 20, 'w': 30}\n",
    "\n",
    "result = common_keys(a, b)\n",
    "print(\"Common keys:\", result)\n"
   ]
  },
  {
   "cell_type": "markdown",
   "id": "fd079408",
   "metadata": {},
   "source": [
    "\n",
    "---\n",
    "\n",
    "### Exercise 98:\n",
    "Write a Python function that takes a list of strings and returns a list of the strings that contain more than 5 characters.\n",
    "\n",
    "```python\n",
    "# Exercise 98\n",
    "```\n"
   ]
  },
  {
   "cell_type": "code",
   "execution_count": null,
   "id": "5d60a6d2",
   "metadata": {},
   "outputs": [],
   "source": [
    "def filter_long_strings(strings):\n",
    "    return [s for s in strings if len(s) > 5]\n",
    "\n",
    "words = [\"apple\", \"banana\", \"kiwi\", \"strawberry\", \"fig\", \"mango\"]\n",
    "result = filter_long_strings(words)\n",
    "print(result)\n"
   ]
  },
  {
   "cell_type": "markdown",
   "id": "3cd6ff60",
   "metadata": {},
   "source": [
    "\n",
    "---\n",
    "\n",
    "### Exercise 99:\n",
    "Write a Python program that converts a list of strings into a list of tuples, where each tuple contains the string and its length.\n",
    "\n",
    "```python\n",
    "# Exercise 99\n",
    "```\n"
   ]
  },
  {
   "cell_type": "code",
   "execution_count": null,
   "id": "3b7a4eaa",
   "metadata": {},
   "outputs": [],
   "source": [
    "def strings_with_lengths(strings):\n",
    "    return [(s, len(s)) for s in strings]\n",
    "\n",
    "words = [\"apple\", \"banana\", \"kiwi\", \"strawberry\"]\n",
    "result = strings_with_lengths(words)\n",
    "print(result)\n"
   ]
  },
  {
   "cell_type": "markdown",
   "id": "c37e0921",
   "metadata": {},
   "source": [
    "\n",
    "---\n",
    "\n",
    "### Exercise 100:\n",
    "Write a Python function that takes a list of dictionaries and returns a new dictionary by summing the values of each key across all dictionaries.\n",
    "\n",
    "```python\n",
    "# Exercise 100\n",
    "```\n",
    "\n",
    "---"
   ]
  },
  {
   "cell_type": "code",
   "execution_count": null,
   "id": "fa69a135",
   "metadata": {},
   "outputs": [],
   "source": [
    "def sum_dict_values(dict_list):\n",
    "    result = {}\n",
    "    for d in dict_list:\n",
    "        for key, value in d.items():\n",
    "            result[key] = result.get(key, 0) + value\n",
    "    return result\n",
    "\n",
    "data = [\n",
    "    {'a': 1, 'b': 2},\n",
    "    {'a': 3, 'c': 4},\n",
    "    {'b': 5, 'c': 6}\n",
    "]\n",
    "\n",
    "print(sum_dict_values(data))"
   ]
  }
 ],
 "metadata": {
  "colab": {
   "provenance": []
  },
  "kernelspec": {
   "display_name": "Python 3 (ipykernel)",
   "language": "python",
   "name": "python3"
  },
  "language_info": {
   "codemirror_mode": {
    "name": "ipython",
    "version": 3
   },
   "file_extension": ".py",
   "mimetype": "text/x-python",
   "name": "python",
   "nbconvert_exporter": "python",
   "pygments_lexer": "ipython3",
   "version": "3.10.12"
  }
 },
 "nbformat": 4,
 "nbformat_minor": 5
}
