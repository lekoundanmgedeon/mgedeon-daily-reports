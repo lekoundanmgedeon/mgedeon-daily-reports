{
 "cells": [
  {
   "cell_type": "markdown",
   "id": "d68c1dee",
   "metadata": {
    "id": "d68c1dee"
   },
   "source": [
    "# Practical_2: String and files"
   ]
  },
  {
   "cell_type": "markdown",
   "id": "bea983a3",
   "metadata": {
    "id": "bea983a3"
   },
   "source": [
    "---\n",
    "\n",
    "### Exercise 1:\n",
    "Create a string variable `text` and assign it the value `\"Python is amazing!\"`.\n",
    "\n",
    "```python\n",
    "# Exercise 1\n",
    "```\n"
   ]
  },
  {
   "cell_type": "code",
   "execution_count": null,
   "id": "40fac31a",
   "metadata": {
    "colab": {
     "base_uri": "https://localhost:8080/"
    },
    "executionInfo": {
     "elapsed": 44,
     "status": "ok",
     "timestamp": 1760742108540,
     "user": {
      "displayName": "LEKOUNDA NGOLO Mardochet Gédéon",
      "userId": "16230545383008448897"
     },
     "user_tz": 0
    },
    "id": "40fac31a",
    "outputId": "ae71efb1-b9f2-47c9-f1fe-dc8b6ceca97c"
   },
   "outputs": [
    {
     "name": "stdout",
     "output_type": "stream",
     "text": [
      "Python is amazing!\n"
     ]
    }
   ],
   "source": [
    "text = \"Python is amazing!\"\n",
    "print(text)"
   ]
  },
  {
   "cell_type": "markdown",
   "id": "cb7b0d26",
   "metadata": {
    "id": "cb7b0d26"
   },
   "source": [
    "\n",
    "---\n",
    "\n",
    "### Exercise 2:\n",
    "Find the length of the string `\"Hello, World!\"` and store it in a variable `length`.\n",
    "\n",
    "```python\n",
    "# Exercise 2\n",
    "```\n"
   ]
  },
  {
   "cell_type": "code",
   "execution_count": 1,
   "id": "19386752",
   "metadata": {
    "colab": {
     "base_uri": "https://localhost:8080/"
    },
    "executionInfo": {
     "elapsed": 74,
     "status": "ok",
     "timestamp": 1760743937193,
     "user": {
      "displayName": "LEKOUNDA NGOLO Mardochet Gédéon",
      "userId": "16230545383008448897"
     },
     "user_tz": 0
    },
    "id": "19386752",
    "outputId": "53a3b84d-a912-41cc-845d-3cf9620d5fb0"
   },
   "outputs": [
    {
     "name": "stdout",
     "output_type": "stream",
     "text": [
      "La taille est de :  10\n"
     ]
    }
   ],
   "source": [
    "length=len(\"Hello word\")\n",
    "print(\"La taille est de : \", length)"
   ]
  },
  {
   "cell_type": "markdown",
   "id": "44f38713",
   "metadata": {
    "id": "44f38713"
   },
   "source": [
    "\n",
    "---\n",
    "\n",
    "### Exercise 3:\n",
    "Convert the string `\"python programming\"` to uppercase and store it in a variable `upper_text`.\n",
    "\n",
    "```python\n",
    "# Exercise 3\n",
    "```\n"
   ]
  },
  {
   "cell_type": "code",
   "execution_count": 2,
   "id": "qWKyljJ0afSt",
   "metadata": {
    "colab": {
     "base_uri": "https://localhost:8080/"
    },
    "executionInfo": {
     "elapsed": 5,
     "status": "ok",
     "timestamp": 1760743940862,
     "user": {
      "displayName": "LEKOUNDA NGOLO Mardochet Gédéon",
      "userId": "16230545383008448897"
     },
     "user_tz": 0
    },
    "id": "qWKyljJ0afSt",
    "outputId": "034fd44c-e991-498c-cbbe-fff92928374d"
   },
   "outputs": [
    {
     "name": "stdout",
     "output_type": "stream",
     "text": [
      "PYTHON PROGRAMMING\n"
     ]
    }
   ],
   "source": [
    "text2 = \"python programming\"\n",
    "upper_text = text2.upper()\n",
    "print(upper_text)"
   ]
  },
  {
   "cell_type": "markdown",
   "id": "e4bbc496",
   "metadata": {
    "id": "e4bbc496"
   },
   "source": [
    "\n",
    "---\n",
    "\n",
    "### Exercise 4:\n",
    "Extract the first 5 characters from the string `\"Artificial Intelligence\"`.\n",
    "\n",
    "```python\n",
    "# Exercise 4\n",
    "```\n"
   ]
  },
  {
   "cell_type": "code",
   "execution_count": 3,
   "id": "bc5a1d0e",
   "metadata": {
    "colab": {
     "base_uri": "https://localhost:8080/"
    },
    "executionInfo": {
     "elapsed": 37,
     "status": "ok",
     "timestamp": 1760743970931,
     "user": {
      "displayName": "LEKOUNDA NGOLO Mardochet Gédéon",
      "userId": "16230545383008448897"
     },
     "user_tz": 0
    },
    "id": "bc5a1d0e",
    "outputId": "c45674c2-8195-436c-d1a0-ef2df4fceff5"
   },
   "outputs": [
    {
     "name": "stdout",
     "output_type": "stream",
     "text": [
      "Artifi\n"
     ]
    }
   ],
   "source": [
    "text3 = \"Artificial Intelligence\"\n",
    "print(text3[:6])"
   ]
  },
  {
   "cell_type": "markdown",
   "id": "3e034481",
   "metadata": {
    "id": "3e034481"
   },
   "source": [
    "\n",
    "---\n",
    "\n",
    "### Exercise 5:\n",
    "Concatenate the strings `\"Hello\"` and `\"World\"` with a space in between.\n",
    "\n",
    "```python\n",
    "# Exercise 5\n",
    "```\n"
   ]
  },
  {
   "cell_type": "code",
   "execution_count": 4,
   "id": "31a58552",
   "metadata": {
    "colab": {
     "base_uri": "https://localhost:8080/"
    },
    "executionInfo": {
     "elapsed": 32,
     "status": "ok",
     "timestamp": 1760744026675,
     "user": {
      "displayName": "LEKOUNDA NGOLO Mardochet Gédéon",
      "userId": "16230545383008448897"
     },
     "user_tz": 0
    },
    "id": "31a58552",
    "outputId": "f210656a-ddb9-457e-d351-ae47ba29540d"
   },
   "outputs": [
    {
     "name": "stdout",
     "output_type": "stream",
     "text": [
      "Hello  World\n",
      "Hello World\n"
     ]
    }
   ],
   "source": [
    "print(\"Hello\",\"\", \"World\")\n",
    "text4 =\"Hello\"+\" \"+\"World\"\n",
    "print(text4)"
   ]
  },
  {
   "cell_type": "markdown",
   "id": "234361fe",
   "metadata": {
    "id": "234361fe"
   },
   "source": [
    "\n",
    "---\n",
    "\n",
    "### Exercise 6:\n",
    "Replace the word `\"dog\"` with `\"cat\"` in the string `\"The quick brown dog jumps over the lazy dog.\"`.\n",
    "\n",
    "```python\n",
    "# Exercise 6\n",
    "```\n"
   ]
  },
  {
   "cell_type": "code",
   "execution_count": 5,
   "id": "e60e92f4",
   "metadata": {
    "colab": {
     "base_uri": "https://localhost:8080/"
    },
    "executionInfo": {
     "elapsed": 15,
     "status": "ok",
     "timestamp": 1760744038049,
     "user": {
      "displayName": "LEKOUNDA NGOLO Mardochet Gédéon",
      "userId": "16230545383008448897"
     },
     "user_tz": 0
    },
    "id": "e60e92f4",
    "outputId": "325283bf-cb3f-42dc-ef2c-6e19c2f3baf3"
   },
   "outputs": [
    {
     "name": "stdout",
     "output_type": "stream",
     "text": [
      "The quick brown cat jumps over the lazy cat.\n"
     ]
    }
   ],
   "source": [
    "sentence = \"The quick brown dog jumps over the lazy dog.\"\n",
    "new_sentence = sentence.replace(\"dog\", \"cat\")\n",
    "print(new_sentence)\n"
   ]
  },
  {
   "cell_type": "markdown",
   "id": "d8330bfc",
   "metadata": {
    "id": "d8330bfc"
   },
   "source": [
    "\n",
    "---\n",
    "\n",
    "### Exercise 7:\n",
    "Split the string `\"apple,banana,orange\"` by commas and store the result in a list `fruits_list`.\n",
    "\n",
    "```python\n",
    "# Exercise 7\n",
    "```\n"
   ]
  },
  {
   "cell_type": "code",
   "execution_count": 6,
   "id": "3941baf8",
   "metadata": {
    "colab": {
     "base_uri": "https://localhost:8080/"
    },
    "executionInfo": {
     "elapsed": 35,
     "status": "ok",
     "timestamp": 1760744046797,
     "user": {
      "displayName": "LEKOUNDA NGOLO Mardochet Gédéon",
      "userId": "16230545383008448897"
     },
     "user_tz": 0
    },
    "id": "3941baf8",
    "outputId": "c9bcd66e-0ef4-4683-dd0b-6335304bdb94"
   },
   "outputs": [
    {
     "name": "stdout",
     "output_type": "stream",
     "text": [
      "['apple', 'banana', 'orange']\n"
     ]
    }
   ],
   "source": [
    "fruits = \"apple,banana,orange\"\n",
    "fruits_list = fruits.split(\",\")\n",
    "print(fruits_list)"
   ]
  },
  {
   "cell_type": "markdown",
   "id": "3b8e4865",
   "metadata": {
    "id": "3b8e4865"
   },
   "source": [
    "\n",
    "---\n",
    "\n",
    "### Exercise 8:\n",
    "Use string formatting to create the sentence `\"My name is Alice and I am 25 years old.\"`, where the name and age are variables.\n",
    "\n",
    "```python\n",
    "# Exercise 8\n",
    "```\n"
   ]
  },
  {
   "cell_type": "code",
   "execution_count": null,
   "id": "51859d2c",
   "metadata": {
    "colab": {
     "base_uri": "https://localhost:8080/"
    },
    "executionInfo": {
     "elapsed": 11,
     "status": "ok",
     "timestamp": 1760744074579,
     "user": {
      "displayName": "LEKOUNDA NGOLO Mardochet Gédéon",
      "userId": "16230545383008448897"
     },
     "user_tz": 0
    },
    "id": "51859d2c",
    "outputId": "936a78cf-3df8-492f-bdac-6fbc9c1d8183"
   },
   "outputs": [
    {
     "name": "stdout",
     "output_type": "stream",
     "text": [
      "My name is Alice and I am 25 years old.\n"
     ]
    }
   ],
   "source": [
    "name = \"Alice\"\n",
    "age = 25\n",
    "print(f\"My name is {name} and I am {age} years old.\")"
   ]
  },
  {
   "cell_type": "markdown",
   "id": "271d17f5",
   "metadata": {
    "id": "271d17f5"
   },
   "source": [
    "\n",
    "---\n",
    "\n",
    "### Exercise 9:\n",
    "Check if the string `\"python\"` is present in the sentence `\"I love python programming\"`.\n",
    "\n",
    "```python\n",
    "# Exercise 9\n",
    "```\n"
   ]
  },
  {
   "cell_type": "code",
   "execution_count": null,
   "id": "68cf13b7",
   "metadata": {
    "colab": {
     "base_uri": "https://localhost:8080/"
    },
    "executionInfo": {
     "elapsed": 37,
     "status": "ok",
     "timestamp": 1760744080472,
     "user": {
      "displayName": "LEKOUNDA NGOLO Mardochet Gédéon",
      "userId": "16230545383008448897"
     },
     "user_tz": 0
    },
    "id": "68cf13b7",
    "outputId": "f106bd6e-6d61-48d5-82f9-5fb05df3cc85"
   },
   "outputs": [
    {
     "name": "stdout",
     "output_type": "stream",
     "text": [
      "True\n"
     ]
    }
   ],
   "source": [
    "sentence = \"I love python programming\"\n",
    "print(\"python\" in sentence)"
   ]
  },
  {
   "cell_type": "markdown",
   "id": "21894f27",
   "metadata": {
    "id": "21894f27"
   },
   "source": [
    "\n",
    "---\n",
    "\n",
    "### Exercise 10:\n",
    "Count the number of occurrences of the letter `\"e\"` in the string `\"Elephant is an elegant animal\"`.\n",
    "\n",
    "```python\n",
    "# Exercise 10\n",
    "```\n"
   ]
  },
  {
   "cell_type": "code",
   "execution_count": null,
   "id": "a5941ee5",
   "metadata": {
    "colab": {
     "base_uri": "https://localhost:8080/"
    },
    "executionInfo": {
     "elapsed": 6,
     "status": "ok",
     "timestamp": 1760744087207,
     "user": {
      "displayName": "LEKOUNDA NGOLO Mardochet Gédéon",
      "userId": "16230545383008448897"
     },
     "user_tz": 0
    },
    "id": "a5941ee5",
    "outputId": "58f2bffa-a1ca-47e2-e030-2ea1d7dc06b1"
   },
   "outputs": [
    {
     "name": "stdout",
     "output_type": "stream",
     "text": [
      "3\n"
     ]
    }
   ],
   "source": [
    "sentence = \"Elephant is an elegant animal\"\n",
    "print(sentence.count('e'))"
   ]
  },
  {
   "cell_type": "markdown",
   "id": "73cebd99",
   "metadata": {
    "id": "73cebd99"
   },
   "source": [
    "\n",
    "---\n",
    "\n",
    "### Exercise 11:\n",
    "Remove any leading and trailing spaces from the string `\"   Data Science   \"`.\n",
    "\n",
    "```python\n",
    "# Exercise 11\n",
    "```\n"
   ]
  },
  {
   "cell_type": "code",
   "execution_count": 7,
   "id": "578c4583",
   "metadata": {
    "colab": {
     "base_uri": "https://localhost:8080/"
    },
    "executionInfo": {
     "elapsed": 50,
     "status": "ok",
     "timestamp": 1760744091728,
     "user": {
      "displayName": "LEKOUNDA NGOLO Mardochet Gédéon",
      "userId": "16230545383008448897"
     },
     "user_tz": 0
    },
    "id": "578c4583",
    "outputId": "a5662476-f83b-42bc-b52d-712b1a8898b0"
   },
   "outputs": [
    {
     "name": "stdout",
     "output_type": "stream",
     "text": [
      "Data Science\n"
     ]
    }
   ],
   "source": [
    "data = \"   Data Science   \"\n",
    "print(data.strip())"
   ]
  },
  {
   "cell_type": "markdown",
   "id": "eff481b4",
   "metadata": {
    "id": "eff481b4"
   },
   "source": [
    "\n",
    "---\n",
    "\n",
    "### Exercise 12:\n",
    "Convert the string `\"100\"` into an integer and store it in a variable `int_value`.\n",
    "\n",
    "```python\n",
    "# Exercise 12\n",
    "```\n"
   ]
  },
  {
   "cell_type": "code",
   "execution_count": 8,
   "id": "5bda9c9d",
   "metadata": {
    "colab": {
     "base_uri": "https://localhost:8080/"
    },
    "executionInfo": {
     "elapsed": 15,
     "status": "ok",
     "timestamp": 1760744095679,
     "user": {
      "displayName": "LEKOUNDA NGOLO Mardochet Gédéon",
      "userId": "16230545383008448897"
     },
     "user_tz": 0
    },
    "id": "5bda9c9d",
    "outputId": "15626eee-7749-4f68-afbe-168da89e2a3d"
   },
   "outputs": [
    {
     "name": "stdout",
     "output_type": "stream",
     "text": [
      " int value :  100\n"
     ]
    }
   ],
   "source": [
    "string_value =\"100\"\n",
    "int_value = int(string_value)\n",
    "print(' int value : ', int_value)"
   ]
  },
  {
   "cell_type": "markdown",
   "id": "8015debb",
   "metadata": {
    "id": "8015debb"
   },
   "source": [
    "\n",
    "---\n",
    "\n",
    "### Exercise 13:\n",
    "Extract the substring `\"pro\"` from the string `\"programming\"`.\n",
    "\n",
    "```python\n",
    "# Exercise 13\n",
    "```\n"
   ]
  },
  {
   "cell_type": "code",
   "execution_count": 9,
   "id": "dbe996be",
   "metadata": {
    "colab": {
     "base_uri": "https://localhost:8080/"
    },
    "executionInfo": {
     "elapsed": 45,
     "status": "ok",
     "timestamp": 1760744140650,
     "user": {
      "displayName": "LEKOUNDA NGOLO Mardochet Gédéon",
      "userId": "16230545383008448897"
     },
     "user_tz": 0
    },
    "id": "dbe996be",
    "outputId": "86bbc184-17ba-4db9-c83b-6d3862b8a7d5"
   },
   "outputs": [
    {
     "name": "stdout",
     "output_type": "stream",
     "text": [
      "pro\n"
     ]
    }
   ],
   "source": [
    "text = \"programming\"\n",
    "print(text[:3])"
   ]
  },
  {
   "cell_type": "markdown",
   "id": "e4dfbe1a",
   "metadata": {
    "id": "e4dfbe1a"
   },
   "source": [
    "\n",
    "---\n",
    "\n",
    "### Exercise 14:\n",
    "Check if the string `\"data\"` starts with `\"da\"` and ends with `\"ta\"`.\n",
    "\n",
    "```python\n",
    "# Exercise 14\n",
    "```\n"
   ]
  },
  {
   "cell_type": "code",
   "execution_count": 10,
   "id": "87732ceb",
   "metadata": {
    "colab": {
     "base_uri": "https://localhost:8080/"
    },
    "executionInfo": {
     "elapsed": 38,
     "status": "ok",
     "timestamp": 1760744161258,
     "user": {
      "displayName": "LEKOUNDA NGOLO Mardochet Gédéon",
      "userId": "16230545383008448897"
     },
     "user_tz": 0
    },
    "id": "87732ceb",
    "outputId": "3d5a6d28-134d-4f38-ad68-1fb2aebd79ba"
   },
   "outputs": [
    {
     "name": "stdout",
     "output_type": "stream",
     "text": [
      "True\n",
      "True\n"
     ]
    }
   ],
   "source": [
    "string = \"data\"\n",
    "print(string.startswith(\"da\"))\n",
    "print(string.endswith(\"ta\"))"
   ]
  },
  {
   "cell_type": "markdown",
   "id": "5450107a",
   "metadata": {
    "id": "5450107a"
   },
   "source": [
    "\n",
    "---\n",
    "\n",
    "### Exercise 15:\n",
    "Reverse the string `\"machine learning\"` and store the result in `reversed_text`.\n",
    "\n",
    "```python\n",
    "# Exercise 15\n",
    "```\n"
   ]
  },
  {
   "cell_type": "code",
   "execution_count": 11,
   "id": "ed9951bf",
   "metadata": {
    "colab": {
     "base_uri": "https://localhost:8080/"
    },
    "executionInfo": {
     "elapsed": 8,
     "status": "ok",
     "timestamp": 1760744174929,
     "user": {
      "displayName": "LEKOUNDA NGOLO Mardochet Gédéon",
      "userId": "16230545383008448897"
     },
     "user_tz": 0
    },
    "id": "ed9951bf",
    "outputId": "c350676f-6c51-453b-a74a-b1855274b670"
   },
   "outputs": [
    {
     "name": "stdout",
     "output_type": "stream",
     "text": [
      "gninrael enihcam\n"
     ]
    }
   ],
   "source": [
    "text = \"machine learning\"\n",
    "reversed_text = text[::-1]\n",
    "print(reversed_text)"
   ]
  },
  {
   "cell_type": "markdown",
   "id": "c40e7bcc",
   "metadata": {
    "id": "c40e7bcc"
   },
   "source": [
    "\n",
    "---\n",
    "\n",
    "### Exercise 16:\n",
    "Convert the first letter of each word in the string `\"machine learning is fun\"` to uppercase.\n",
    "\n",
    "```python\n",
    "# Exercise 16\n",
    "```\n"
   ]
  },
  {
   "cell_type": "code",
   "execution_count": 12,
   "id": "e8e00a2c",
   "metadata": {
    "colab": {
     "base_uri": "https://localhost:8080/"
    },
    "executionInfo": {
     "elapsed": 28,
     "status": "ok",
     "timestamp": 1760744183065,
     "user": {
      "displayName": "LEKOUNDA NGOLO Mardochet Gédéon",
      "userId": "16230545383008448897"
     },
     "user_tz": 0
    },
    "id": "e8e00a2c",
    "outputId": "0feb569d-e7a1-4972-80cf-25fe5a3afea6"
   },
   "outputs": [
    {
     "name": "stdout",
     "output_type": "stream",
     "text": [
      "Machine Learning Is Fun\n"
     ]
    }
   ],
   "source": [
    "letter = \"machine learning is fun\"\n",
    "print(letter.title())"
   ]
  },
  {
   "cell_type": "markdown",
   "id": "8b74cbec",
   "metadata": {
    "id": "8b74cbec"
   },
   "source": [
    "\n",
    "---\n",
    "\n",
    "### Exercise 17:\n",
    "Create a multiline string representing a poem and store it in a variable `poem`.\n",
    "\n",
    "```python\n",
    "# Exercise 17\n",
    "```\n"
   ]
  },
  {
   "cell_type": "code",
   "execution_count": 13,
   "id": "593509e7",
   "metadata": {
    "colab": {
     "base_uri": "https://localhost:8080/"
    },
    "executionInfo": {
     "elapsed": 20,
     "status": "ok",
     "timestamp": 1760744187528,
     "user": {
      "displayName": "LEKOUNDA NGOLO Mardochet Gédéon",
      "userId": "16230545383008448897"
     },
     "user_tz": 0
    },
    "id": "593509e7",
    "outputId": "2c4b3f07-ba6d-4fcf-d6aa-4fa580fe5c75"
   },
   "outputs": [
    {
     "name": "stdout",
     "output_type": "stream",
     "text": [
      "The sun dips low in crimson light,\n",
      "Whispers fade into the night.\n",
      "Leaves dance softly on the breeze,\n",
      "Nature hums in gentle ease.\n",
      "\n",
      "Stars emerge in velvet skies,\n",
      "Dreams take wing as daylight dies.\n",
      "Peaceful hearts begin to roam,\n",
      "In moonlit silence, we find home.\n"
     ]
    }
   ],
   "source": [
    "poem = \"\"\"The sun dips low in crimson light,\n",
    "Whispers fade into the night.\n",
    "Leaves dance softly on the breeze,\n",
    "Nature hums in gentle ease.\n",
    "\n",
    "Stars emerge in velvet skies,\n",
    "Dreams take wing as daylight dies.\n",
    "Peaceful hearts begin to roam,\n",
    "In moonlit silence, we find home.\"\"\"\n",
    "\n",
    "print(poem)\n"
   ]
  },
  {
   "cell_type": "markdown",
   "id": "bb6f9496",
   "metadata": {
    "id": "bb6f9496"
   },
   "source": [
    "\n",
    "---\n",
    "\n",
    "### Exercise 18:\n",
    "Write a string to a file named `\"output.txt\"`.\n",
    "\n",
    "```python\n",
    "# Exercise 18\n",
    "```\n"
   ]
  },
  {
   "cell_type": "code",
   "execution_count": 22,
   "id": "05cfec05",
   "metadata": {
    "id": "05cfec05"
   },
   "outputs": [],
   "source": [
    "text = \"This is the content I want to write to the file.\"\n",
    "with open(\"files/output.txt\", \"w\") as file:\n",
    "    file.write(text)\n"
   ]
  },
  {
   "cell_type": "markdown",
   "id": "1b312c8d",
   "metadata": {
    "id": "1b312c8d"
   },
   "source": [
    "\n",
    "---\n",
    "\n",
    "### Exercise 19:\n",
    "Read the contents of a file named `\"data.txt\"` and print it line by line.\n",
    "\n",
    "```python\n",
    "# Exercise 19\n",
    "```\n"
   ]
  },
  {
   "cell_type": "code",
   "execution_count": null,
   "id": "47f3a996",
   "metadata": {
    "id": "47f3a996"
   },
   "outputs": [],
   "source": [
    "with open(\"files/data.txt\", \"r\") as file:\n",
    "    for line in file:\n",
    "        print(line.strip())\n"
   ]
  },
  {
   "cell_type": "markdown",
   "id": "6a9c03aa",
   "metadata": {
    "id": "6a9c03aa"
   },
   "source": [
    "\n",
    "---\n",
    "\n",
    "### Exercise 20:\n",
    "Check if a file `\"example.txt\"` exists before opening it.\n",
    "\n",
    "```python\n",
    "# Exercise 20\n",
    "```\n"
   ]
  },
  {
   "cell_type": "code",
   "execution_count": 23,
   "id": "5272ed91",
   "metadata": {
    "id": "5272ed91"
   },
   "outputs": [
    {
     "name": "stdout",
     "output_type": "stream",
     "text": [
      "bonjour depuis un fichier\n"
     ]
    }
   ],
   "source": [
    "import os\n",
    "file_path = \"files/example.txt\"\n",
    "\n",
    "if os.path.exists(file_path):\n",
    "    with open(file_path, \"r\") as file:\n",
    "        for line in file:\n",
    "            print(line.strip())\n",
    "else:\n",
    "    print(f\"Le fichier '{file_path}' n'existe pas.\")"
   ]
  },
  {
   "cell_type": "markdown",
   "id": "ff998025",
   "metadata": {
    "id": "ff998025"
   },
   "source": [
    "\n",
    "---\n",
    "\n",
    "### Exercise 21:\n",
    "Append a new line `\"This is a new line\"` to an existing file `\"notes.txt\"`.\n",
    "\n",
    "```python\n",
    "# Exercise 21\n",
    "```\n"
   ]
  },
  {
   "cell_type": "code",
   "execution_count": 24,
   "id": "41ccddee",
   "metadata": {
    "executionInfo": {
     "elapsed": 19,
     "status": "ok",
     "timestamp": 1760744504859,
     "user": {
      "displayName": "LEKOUNDA NGOLO Mardochet Gédéon",
      "userId": "16230545383008448897"
     },
     "user_tz": 0
    },
    "id": "41ccddee"
   },
   "outputs": [],
   "source": [
    "with open(\"files/notes.txt\", \"a\") as file:\n",
    "    file.write(\"This is a new line\\n\")\n"
   ]
  },
  {
   "cell_type": "markdown",
   "id": "62a5920f",
   "metadata": {
    "id": "62a5920f"
   },
   "source": [
    "\n",
    "---\n",
    "\n",
    "### Exercise 22:\n",
    "Read the contents of a file `\"log.txt\"` and store each line in a list `log_lines`.\n",
    "\n",
    "```python\n",
    "# Exercise 22\n",
    "```\n"
   ]
  },
  {
   "cell_type": "code",
   "execution_count": 25,
   "id": "446d65c5",
   "metadata": {
    "colab": {
     "base_uri": "https://localhost:8080/",
     "height": 217
    },
    "executionInfo": {
     "elapsed": 33,
     "status": "error",
     "timestamp": 1760744620177,
     "user": {
      "displayName": "LEKOUNDA NGOLO Mardochet Gédéon",
      "userId": "16230545383008448897"
     },
     "user_tz": 0
    },
    "id": "446d65c5",
    "outputId": "d7a8b06a-29f7-4122-c659-063128f5d926"
   },
   "outputs": [
    {
     "name": "stdout",
     "output_type": "stream",
     "text": [
      "['bonjour depuis un fichier']\n"
     ]
    }
   ],
   "source": [
    "file = open('files/example.txt', 'r')\n",
    "lines = file.readlines()\n",
    "print(lines)\n",
    "file.close()\n"
   ]
  },
  {
   "cell_type": "markdown",
   "id": "6449c3ac",
   "metadata": {
    "id": "6449c3ac"
   },
   "source": [
    "\n",
    "---\n",
    "\n",
    "### Exercise 23:\n",
    "Create a new file `\"report.txt\"` and write the string `\"Data analysis report\"` to it.\n",
    "\n",
    "```python\n",
    "# Exercise 23\n",
    "```\n"
   ]
  },
  {
   "cell_type": "code",
   "execution_count": null,
   "id": "deec3fc0",
   "metadata": {
    "id": "deec3fc0"
   },
   "outputs": [],
   "source": [
    "file = open('files/report.txt', 'w')\n",
    "file.write('Data analysis report')\n",
    "file.close()"
   ]
  },
  {
   "cell_type": "markdown",
   "id": "dfcfcb54",
   "metadata": {
    "id": "dfcfcb54"
   },
   "source": [
    "\n",
    "---\n",
    "\n",
    "### Exercise 24:\n",
    "Replace the word `\"error\"` with `\"issue\"` in a file `\"log.txt\"`.\n",
    "\n",
    "```python\n",
    "# Exercise 24\n",
    "```\n"
   ]
  },
  {
   "cell_type": "code",
   "execution_count": null,
   "id": "797081b6",
   "metadata": {
    "id": "797081b6"
   },
   "outputs": [
    {
     "name": "stdout",
     "output_type": "stream",
     "text": [
      "Replacement complete!\n"
     ]
    }
   ],
   "source": [
    "with open(\"files/log.txt\", \"r\") as file:\n",
    "    content = file.read()\n",
    "updated_content = content.replace(\"error\", \"issue\")\n",
    "with open(\"log.txt\", \"w\") as file:\n",
    "    file.write(updated_content)\n",
    "\n",
    "print(\"Replacement complete!\")\n"
   ]
  },
  {
   "cell_type": "markdown",
   "id": "26b48db2",
   "metadata": {
    "id": "26b48db2"
   },
   "source": [
    "\n",
    "---\n",
    "\n",
    "### Exercise 25:\n",
    "Count the number of words in a text file `\"document.txt\"`.\n",
    "\n",
    "```python\n",
    "# Exercise 25\n",
    "```\n"
   ]
  },
  {
   "cell_type": "code",
   "execution_count": null,
   "id": "381d0734",
   "metadata": {
    "id": "381d0734"
   },
   "outputs": [],
   "source": [
    "with open(\"document.txt\", \"r\") as file:\n",
    "    content = file.read()\n",
    "    words = content.split()\n",
    "    word_count = len(words)\n",
    "\n",
    "print(f\"The number of words in 'document.txt' is: {word_count}\")"
   ]
  },
  {
   "cell_type": "markdown",
   "id": "4803940f",
   "metadata": {
    "id": "4803940f"
   },
   "source": [
    "\n",
    "---\n",
    "\n",
    "### Exercise 26:\n",
    "Write a Python script that reads a file `\"essay.txt\"` and prints the total number of lines, words, and characters.\n",
    "\n",
    "```python\n",
    "# Exercise 26\n",
    "```\n"
   ]
  },
  {
   "cell_type": "code",
   "execution_count": 30,
   "id": "b07a9080",
   "metadata": {
    "id": "b07a9080"
   },
   "outputs": [
    {
     "name": "stdout",
     "output_type": "stream",
     "text": [
      "content on file issue from log\n",
      "30\n"
     ]
    }
   ],
   "source": [
    "file = open('files/log.txt', 'r')\n",
    "content = file.read()\n",
    "file.close()\n",
    "print(content)\n",
    "# use len() to get the number of characters, or provide a substring to count occurrences\n",
    "print(len(content))\n"
   ]
  },
  {
   "cell_type": "markdown",
   "id": "83567f81",
   "metadata": {
    "id": "83567f81"
   },
   "source": [
    "\n",
    "---\n",
    "\n",
    "### Exercise 27:\n",
    "Copy the contents of one file `\"source.txt\"` to another file `\"destination.txt\"`.\n",
    "\n",
    "```python\n",
    "# Exercise 27\n",
    "```\n"
   ]
  },
  {
   "cell_type": "code",
   "execution_count": null,
   "id": "3c1e447d",
   "metadata": {
    "id": "3c1e447d"
   },
   "outputs": [],
   "source": [
    "with open(\"files/source.txt\", \"r\") as source_file:\n",
    "    content = source_file.read()\n",
    "with open(\"files/destination.txt\", \"w\") as destination_file:\n",
    "    destination_file.write(content)"
   ]
  },
  {
   "cell_type": "markdown",
   "id": "c984b5a2",
   "metadata": {
    "id": "c984b5a2"
   },
   "source": [
    "\n",
    "---\n",
    "\n",
    "### Exercise 28:\n",
    "Write a Python function that takes a filename as input and returns the number of lines in the file.\n",
    "\n",
    "```python\n",
    "# Exercise 28\n",
    "```\n"
   ]
  },
  {
   "cell_type": "code",
   "execution_count": 37,
   "id": "1026e26c",
   "metadata": {
    "id": "1026e26c"
   },
   "outputs": [
    {
     "name": "stdout",
     "output_type": "stream",
     "text": [
      "The number of lines in 'data.txt' is: 0\n"
     ]
    }
   ],
   "source": [
    "import os\n",
    "\n",
    "def count_lines_in_file(filename):\n",
    "    if os.path.exists(filename):\n",
    "        try:\n",
    "            with open(file_path, \"r\") as file:\n",
    "                for items in file:\n",
    "                    items=len(file.readlines())\n",
    "                return items\n",
    "        except FileNotFoundError:\n",
    "            print(f\"Error: The file '{filename}' was not found.\")\n",
    "            return 0\n",
    "    else:\n",
    "     return print(f\"Le fichier '{filename}' n'existe pas.\")\n",
    "    \n",
    "line_count = count_lines_in_file(\"files/data.txt\")\n",
    "print(f\"The number of lines in 'data.txt' is: {line_count}\")"
   ]
  },
  {
   "cell_type": "markdown",
   "id": "f19250a7",
   "metadata": {
    "id": "f19250a7"
   },
   "source": [
    "\n",
    "---\n",
    "\n",
    "### Exercise 29:\n",
    "Extract all the words from a text file `\"article.txt\"` that contain more than 5 characters.\n",
    "\n",
    "```python\n",
    "# Exercise 29\n",
    "```\n"
   ]
  },
  {
   "cell_type": "code",
   "execution_count": 40,
   "id": "3c5c795d",
   "metadata": {
    "id": "3c5c795d"
   },
   "outputs": [
    {
     "name": "stdout",
     "output_type": "stream",
     "text": [
      "[]\n"
     ]
    }
   ],
   "source": [
    "import re\n",
    "with open(\"files/article.txt\", \"r\") as file:\n",
    "    text = file.read()\n",
    "\n",
    "words = re.findall(r'\\b\\w+\\b', text)\n",
    "long_words = [word for word in words if len(word) > 5]\n",
    "\n",
    "print(long_words)\n"
   ]
  },
  {
   "cell_type": "markdown",
   "id": "120fc93b",
   "metadata": {
    "id": "120fc93b"
   },
   "source": [
    "\n",
    "---\n",
    "\n",
    "### Exercise 30:\n",
    "Convert the contents of a file `\"notes.txt\"` to uppercase and save the result in another file `\"uppercase_notes.txt\"`.\n",
    "\n",
    "```python\n",
    "# Exercise 30\n",
    "```\n"
   ]
  },
  {
   "cell_type": "code",
   "execution_count": null,
   "id": "83bf4860",
   "metadata": {
    "id": "83bf4860"
   },
   "outputs": [],
   "source": [
    "\n",
    "with open(\"files/notes.txt\", \"r\") as file:\n",
    "    content = file.read()\n",
    "uppercase_content = content.upper()\n",
    "\n",
    "\n",
    "with open(\"files/uppercase_notes.txt\", \"w\") as new_file:\n",
    "    new_file.write(uppercase_content)\n",
    "\n",
    "print(\"The content has been converted to uppercase and saved in 'uppercase_notes.txt'.\")\n"
   ]
  },
  {
   "cell_type": "markdown",
   "id": "0b20e4f6",
   "metadata": {
    "id": "0b20e4f6"
   },
   "source": [
    "\n",
    "---\n",
    "\n",
    "### Exercise 31:\n",
    "Write a Python script that reads a file and removes all empty lines.\n",
    "\n",
    "```python\n",
    "# Exercise 31\n",
    "```\n"
   ]
  },
  {
   "cell_type": "code",
   "execution_count": 47,
   "id": "5700772f",
   "metadata": {
    "id": "5700772f"
   },
   "outputs": [
    {
     "name": "stdout",
     "output_type": "stream",
     "text": [
      "Empty lines have been removed from 'example.txt'.\n"
     ]
    }
   ],
   "source": [
    "with open(\"files/example.txt\", \"r\") as file:\n",
    "    lines = file.readlines()\n",
    "non_empty_lines = [line for line in lines if line.strip() != \"\"]\n",
    "\n",
    "with open(\"example.txt\", \"w\") as file:\n",
    "    file.writelines(non_empty_lines)\n",
    "\n",
    "print(\"Empty lines have been removed from 'example.txt'.\")\n"
   ]
  },
  {
   "cell_type": "markdown",
   "id": "1e3f805f",
   "metadata": {
    "id": "1e3f805f"
   },
   "source": [
    "\n",
    "---\n",
    "\n",
    "### Exercise 32:\n",
    "Open a file `\"config.txt\"` in both read and write mode.\n",
    "\n",
    "```python\n",
    "# Exercise 32\n",
    "```\n"
   ]
  },
  {
   "cell_type": "markdown",
   "id": "c0f24d92",
   "metadata": {
    "id": "c0f24d92"
   },
   "source": []
  },
  {
   "cell_type": "code",
   "execution_count": 62,
   "id": "ed4daf20",
   "metadata": {
    "id": "ed4daf20"
   },
   "outputs": [
    {
     "name": "stdout",
     "output_type": "stream",
     "text": [
      "File content:\n",
      "\n"
     ]
    },
    {
     "ename": "ValueError",
     "evalue": "I/O operation on closed file.",
     "output_type": "error",
     "traceback": [
      "\u001b[31m---------------------------------------------------------------------------\u001b[39m",
      "\u001b[31mValueError\u001b[39m                                Traceback (most recent call last)",
      "\u001b[36mCell\u001b[39m\u001b[36m \u001b[39m\u001b[32mIn[62]\u001b[39m\u001b[32m, line 6\u001b[39m\n\u001b[32m      3\u001b[39m     \u001b[38;5;28mprint\u001b[39m(\u001b[33m\"\u001b[39m\u001b[33mFile content:\u001b[39m\u001b[33m\"\u001b[39m)\n\u001b[32m      5\u001b[39m \u001b[38;5;28mprint\u001b[39m(content)\n\u001b[32m----> \u001b[39m\u001b[32m6\u001b[39m \u001b[43mfile\u001b[49m\u001b[43m.\u001b[49m\u001b[43mwrite\u001b[49m\u001b[43m(\u001b[49m\u001b[33;43m\"\u001b[39;49m\u001b[38;5;130;43;01m\\n\u001b[39;49;00m\u001b[33;43mNew line added.\u001b[39;49m\u001b[33;43m\"\u001b[39;49m\u001b[43m)\u001b[49m\n",
      "\u001b[31mValueError\u001b[39m: I/O operation on closed file."
     ]
    }
   ],
   "source": [
    "with open(\"files/config.txt\", \"r+\") as file:\n",
    "    content = file.read()\n",
    "    print(\"File content:\")\n",
    "\n",
    "print(content)\n",
    "file.write(\"\\nNew line added.\")\n"
   ]
  },
  {
   "cell_type": "markdown",
   "id": "c9dcaaad",
   "metadata": {
    "id": "c9dcaaad"
   },
   "source": [
    "\n",
    "---\n",
    "\n",
    "### Exercise 33:\n",
    "Write a Python function that reads a file and prints the longest line in the file.\n",
    "\n",
    "```python\n",
    "# Exercise 33\n",
    "```\n"
   ]
  },
  {
   "cell_type": "markdown",
   "id": "722e045a",
   "metadata": {
    "id": "722e045a"
   },
   "source": []
  },
  {
   "cell_type": "code",
   "execution_count": 51,
   "id": "be784c3e",
   "metadata": {
    "id": "be784c3e"
   },
   "outputs": [
    {
     "name": "stdout",
     "output_type": "stream",
     "text": [
      "Longest line:\n",
      "bonjour depuis un fichier\n"
     ]
    }
   ],
   "source": [
    "def print_longest_line(filename):\n",
    "    with open(filename, 'r') as file:\n",
    "        lines = file.readlines()\n",
    "    longest_line = max(lines, key=len)\n",
    "    print(\"Longest line:\")\n",
    "    print(longest_line.strip())\n",
    "\n",
    "print_longest_line(\"example.txt\")\n"
   ]
  },
  {
   "cell_type": "markdown",
   "id": "7a09f1c6",
   "metadata": {
    "id": "7a09f1c6"
   },
   "source": [
    "\n",
    "---\n",
    "\n",
    "### Exercise 34:\n",
    "Write a Python script to count the frequency of each letter in a text file `\"message.txt\"`.\n",
    "\n",
    "```python\n",
    "# Exercise 34\n",
    "```\n"
   ]
  },
  {
   "cell_type": "markdown",
   "id": "96a9238e",
   "metadata": {
    "id": "96a9238e"
   },
   "source": [
    "\n",
    "---\n",
    "\n",
    "### Exercise 35:\n",
    "Write a Python script that reads a file and prints the total number of characters, excluding spaces.\n",
    "\n",
    "```python\n",
    "# Exercise 35\n",
    "```\n"
   ]
  },
  {
   "cell_type": "markdown",
   "id": "fcda157d",
   "metadata": {
    "id": "fcda157d"
   },
   "source": []
  },
  {
   "cell_type": "code",
   "execution_count": null,
   "id": "33e8ee2e",
   "metadata": {
    "id": "33e8ee2e"
   },
   "outputs": [],
   "source": [
    "with open(\"example.txt\", \"r\") as file:\n",
    "    content = file.read()\n",
    "\n",
    "content_without_spaces = content.replace(\" \", \"\")\n",
    "character_count = len(content_without_spaces)\n",
    "\n",
    "print(\"Total number of characters (excluding spaces):\", character_count)\n"
   ]
  },
  {
   "cell_type": "markdown",
   "id": "ac2b71cf",
   "metadata": {
    "id": "ac2b71cf"
   },
   "source": [
    "\n",
    "---\n",
    "\n",
    "### Exercise 36:\n",
    "Create a Python script to check whether a file is empty or not.\n",
    "\n",
    "```python\n",
    "# Exercise 36\n",
    "```\n"
   ]
  },
  {
   "cell_type": "code",
   "execution_count": 52,
   "id": "1bfdeddb",
   "metadata": {},
   "outputs": [
    {
     "name": "stdout",
     "output_type": "stream",
     "text": [
      "The file 'files/example.txt' is not empty.\n"
     ]
    }
   ],
   "source": [
    "import os\n",
    "filename = \"files/example.txt\"\n",
    "\n",
    "if os.path.exists(filename):\n",
    "    if os.path.getsize(filename) == 0:\n",
    "        print(f\"The file '{filename}' is empty.\")\n",
    "    else:\n",
    "        print(f\"The file '{filename}' is not empty.\")\n",
    "else:\n",
    "    print(f\"The file '{filename}' does not exist.\")\n"
   ]
  },
  {
   "cell_type": "markdown",
   "id": "c8481b75",
   "metadata": {
    "id": "c8481b75"
   },
   "source": [
    "\n",
    "---\n",
    "\n",
    "### Exercise 37:\n",
    "Write a Python function that reads a file and removes all punctuation marks from the text.\n",
    "\n",
    "```python\n",
    "# Exercise 37\n",
    "```\n"
   ]
  },
  {
   "cell_type": "markdown",
   "id": "f57c83a4",
   "metadata": {
    "id": "f57c83a4"
   },
   "source": []
  },
  {
   "cell_type": "code",
   "execution_count": 53,
   "id": "85359fb6",
   "metadata": {
    "id": "85359fb6"
   },
   "outputs": [
    {
     "name": "stdout",
     "output_type": "stream",
     "text": [
      "bonjour depuis un fichier\n"
     ]
    }
   ],
   "source": [
    "import string\n",
    "\n",
    "def remove_punctuation(filename):\n",
    "\n",
    "    with open(filename, 'r') as file:\n",
    "        text = file.read()\n",
    "    new_sentences = str.maketrans('', '', string.punctuation)\n",
    "    cleaned_text = text.translate(new_sentences)\n",
    "    return cleaned_text\n",
    "\n",
    "result = remove_punctuation(\"example.txt\")\n",
    "print(result)"
   ]
  },
  {
   "cell_type": "markdown",
   "id": "99abd6c3",
   "metadata": {
    "id": "99abd6c3"
   },
   "source": [
    "\n",
    "---\n",
    "\n",
    "### Exercise 38:\n",
    "Create a Python function that writes a list of strings to a file, each string on a new line.\n",
    "\n",
    "```python\n",
    "# Exercise 38\n",
    "```\n"
   ]
  },
  {
   "cell_type": "markdown",
   "id": "114875dd",
   "metadata": {
    "id": "114875dd"
   },
   "source": []
  },
  {
   "cell_type": "code",
   "execution_count": 54,
   "id": "3276cb58",
   "metadata": {
    "id": "3276cb58"
   },
   "outputs": [],
   "source": [
    "def write_lines_to_file(filename, lines):\n",
    "    with open(filename, 'w') as file:\n",
    "        for line in lines:\n",
    "            file.write(line + '\\n')\n",
    "my_list = [\"Hello\", \"Welcome to Python\", \"This is a new line\"]\n",
    "write_lines_to_file(\"files/output.txt\", my_list)\n"
   ]
  },
  {
   "cell_type": "markdown",
   "id": "269ad075",
   "metadata": {
    "id": "269ad075"
   },
   "source": [
    "\n",
    "---\n",
    "\n",
    "### Exercise 39:\n",
    "Write a Python script to count the number of lines that start with a specific letter (e.g., \"A\") in a text file.\n",
    "\n",
    "```python\n",
    "# Exercise 39\n",
    "```\n"
   ]
  },
  {
   "cell_type": "markdown",
   "id": "9fcb8212",
   "metadata": {
    "id": "9fcb8212"
   },
   "source": []
  },
  {
   "cell_type": "code",
   "execution_count": 55,
   "id": "bf97e6ad",
   "metadata": {
    "id": "bf97e6ad"
   },
   "outputs": [
    {
     "name": "stdout",
     "output_type": "stream",
     "text": [
      "Number of lines starting with 'A': 0\n"
     ]
    }
   ],
   "source": [
    "def count_lines_starting_with(filename, letter):\n",
    "    count = 0\n",
    "    with open(filename, 'r') as file:\n",
    "        for line in file:\n",
    "            if line.lstrip().startswith(letter):\n",
    "                count += 1\n",
    "    print(f\"Number of lines starting with '{letter}':\", count)\n",
    "\n",
    "count_lines_starting_with(\"files/example.txt\", \"A\")"
   ]
  },
  {
   "cell_type": "markdown",
   "id": "3407f09c",
   "metadata": {
    "id": "3407f09c"
   },
   "source": [
    "\n",
    "---\n",
    "\n",
    "### Exercise 40:\n",
    "Write a Python function that takes a string as input and writes it to a file `\"output.txt\"` in reverse order.\n",
    "\n",
    "```python\n",
    "# Exercise 40\n",
    "```\n"
   ]
  },
  {
   "cell_type": "markdown",
   "id": "147cd182",
   "metadata": {
    "id": "147cd182"
   },
   "source": []
  },
  {
   "cell_type": "code",
   "execution_count": 56,
   "id": "21146471",
   "metadata": {
    "id": "21146471"
   },
   "outputs": [],
   "source": [
    "def write_reversed_string(text):\n",
    "    reversed_text = text[::-1]\n",
    "    with open(\"output.txt\", \"w\") as file:\n",
    "        file.write(reversed_text)\n",
    "\n",
    "write_reversed_string(\"Hello, Python!\")\n"
   ]
  },
  {
   "cell_type": "markdown",
   "id": "018be539",
   "metadata": {
    "id": "018be539"
   },
   "source": [
    "\n",
    "---\n",
    "\n",
    "### Exercise 41:\n",
    "Write a Python script that reads a file and prints all the lines that contain the word `\"Python\"`.\n",
    "\n",
    "```python\n",
    "# Exercise 41\n",
    "```\n"
   ]
  },
  {
   "cell_type": "code",
   "execution_count": null,
   "id": "8b89d0b0",
   "metadata": {
    "id": "8b89d0b0"
   },
   "outputs": [
    {
     "name": "stdout",
     "output_type": "stream",
     "text": [
      "bonjour depuis un fichier. python Python\n"
     ]
    }
   ],
   "source": [
    "with open(\"files/example.txt\", \"r\") as file:\n",
    "    for line in file:\n",
    "        if \"Python\" in line:\n",
    "            print(line.strip())"
   ]
  },
  {
   "cell_type": "markdown",
   "id": "4e922976",
   "metadata": {
    "id": "4e922976"
   },
   "source": [
    "\n",
    "---\n",
    "\n",
    "### Exercise 42:\n",
    "Write a Python script that opens a file and removes all numeric digits from the file's content.\n",
    "\n",
    "```python\n",
    "# Exercise 42\n",
    "```\n"
   ]
  },
  {
   "cell_type": "code",
   "execution_count": null,
   "id": "93f8f7ae",
   "metadata": {
    "id": "93f8f7ae"
   },
   "outputs": [],
   "source": [
    "def remove_digits_from_file(filename):\n",
    "    with open(filename, 'r') as file:\n",
    "        content = file.read()\n",
    "    cleaned_content = ''.join(char for char in content if not char.isdigit())\n",
    "\n",
    "    with open(filename, 'w') as file:\n",
    "        file.write(cleaned_content)\n",
    "        \n",
    "    print(f\"All numeric digits have been removed from '{filename}'.\")\n",
    "\n",
    "remove_digits_from_file(\"example.txt\")\n"
   ]
  },
  {
   "cell_type": "markdown",
   "id": "4a5a9d65",
   "metadata": {
    "id": "4a5a9d65"
   },
   "source": [
    "\n",
    "---\n",
    "\n",
    "### Exercise 43:\n",
    "Write a Python script to find the most frequent word in a text file `\"book.txt\"`.\n",
    "\n",
    "```python\n",
    "# Exercise 43\n",
    "```\n"
   ]
  },
  {
   "cell_type": "markdown",
   "id": "aa85913e",
   "metadata": {
    "id": "aa85913e"
   },
   "source": []
  },
  {
   "cell_type": "code",
   "execution_count": null,
   "id": "6aec172e",
   "metadata": {
    "id": "6aec172e"
   },
   "outputs": [],
   "source": []
  },
  {
   "cell_type": "markdown",
   "id": "26718e96",
   "metadata": {
    "id": "26718e96"
   },
   "source": [
    "\n",
    "---\n",
    "\n",
    "### Exercise 44:\n",
    "Write a Python script that reads a file and prints all the lines that contain exactly 5 words.\n",
    "\n",
    "```python\n",
    "# Exercise 44\n",
    "```\n"
   ]
  },
  {
   "cell_type": "code",
   "execution_count": null,
   "id": "bf8e167e",
   "metadata": {
    "id": "bf8e167e"
   },
   "outputs": [],
   "source": [
    "with open(\"example.txt\", \"r\") as file:\n",
    "    for line in file:\n",
    "        words = line.strip().split()\n",
    "        if len(words) == 5:\n",
    "            print(line.strip())"
   ]
  },
  {
   "cell_type": "markdown",
   "id": "101857f6",
   "metadata": {
    "id": "101857f6"
   },
   "source": [
    "\n",
    "---\n",
    "\n",
    "### Exercise 45:\n",
    "Write a Python script to read a file and print the first and last line of the file.\n",
    "\n",
    "```python\n",
    "# Exercise 45\n",
    "```\n"
   ]
  },
  {
   "cell_type": "code",
   "execution_count": null,
   "id": "a17c7596",
   "metadata": {
    "id": "a17c7596"
   },
   "outputs": [],
   "source": []
  },
  {
   "cell_type": "markdown",
   "id": "38b70b29",
   "metadata": {
    "id": "38b70b29"
   },
   "source": [
    "\n",
    "---\n",
    "\n",
    "### Exercise 46:\n",
    "Write a Python script that checks if a file `\"students.txt\"` is writable.\n",
    "\n",
    "```python\n",
    "# Exercise 46\n",
    "```\n"
   ]
  },
  {
   "cell_type": "code",
   "execution_count": 44,
   "id": "ac0a224c",
   "metadata": {
    "id": "ac0a224c"
   },
   "outputs": [
    {
     "name": "stdout",
     "output_type": "stream",
     "text": [
      "The file 'students.txt' does not exist.\n"
     ]
    }
   ],
   "source": [
    "import os\n",
    "\n",
    "if os.path.exists(\"files/students.txt\"):\n",
    "    try:\n",
    "        with open(\"files/students.txt\", \"a\") as file:\n",
    "            file.write(\"\")  # Try writing nothing\n",
    "        print(\"The file 'students.txt' is writable.\")\n",
    "    except IOError:\n",
    "        print(\"The file 'students.txt' is not writable.\")\n",
    "else:\n",
    "    print(\"The file 'students.txt' does not exist.\")\n"
   ]
  },
  {
   "cell_type": "markdown",
   "id": "c283bd42",
   "metadata": {
    "id": "c283bd42"
   },
   "source": [
    "\n",
    "---\n",
    "\n",
    "### Exercise 47:\n",
    "Create a Python function that opens a file and returns the number of unique words in the file.\n",
    "\n",
    "```python\n",
    "# Exercise 47\n",
    "```\n"
   ]
  },
  {
   "cell_type": "markdown",
   "id": "59e88552",
   "metadata": {
    "id": "59e88552"
   },
   "source": []
  },
  {
   "cell_type": "code",
   "execution_count": null,
   "id": "7c2a4201",
   "metadata": {
    "id": "7c2a4201"
   },
   "outputs": [
    {
     "name": "stdout",
     "output_type": "stream",
     "text": [
      "Number of unique words: 5\n"
     ]
    }
   ],
   "source": [
    "import string\n",
    "\n",
    "def count_unique_words(filename):\n",
    "    with open(filename, 'r') as file:\n",
    "        text = file.read()\n",
    "    text = text.lower()\n",
    "    text = text.translate(str.maketrans('', '', string.punctuation)) #translate contenu dans la bibliotheque string\n",
    "    # decompose le text en mots\n",
    "    words = text.split()\n",
    "    # transdformer la liste de mot en un ensemble de mot unique\n",
    "    unique_words = set(words)\n",
    "    return len(unique_words)\n",
    "\n",
    "unique_count = count_unique_words(\"files/example.txt\")\n",
    "print(f\"Number of unique words: {unique_count}\")\n"
   ]
  },
  {
   "cell_type": "markdown",
   "id": "a1615341",
   "metadata": {
    "id": "a1615341"
   },
   "source": [
    "\n",
    "---\n",
    "\n",
    "### Exercise 48:\n",
    "Write a Python script that reads a file and prints all lines in reverse order.\n",
    "\n",
    "```python\n",
    "# Exercise 48\n",
    "```\n"
   ]
  },
  {
   "cell_type": "code",
   "execution_count": 43,
   "id": "fc7e87b5",
   "metadata": {
    "id": "fc7e87b5"
   },
   "outputs": [
    {
     "name": "stdout",
     "output_type": "stream",
     "text": [
      "bonjour depuis un fichier\n"
     ]
    }
   ],
   "source": [
    "# Open the file and read all lines\n",
    "with open(\"files/example.txt\", \"r\") as file:\n",
    "    lines = file.readlines()\n",
    "\n",
    "for line in reversed(lines):\n",
    "    print(line.strip())\n"
   ]
  },
  {
   "cell_type": "markdown",
   "id": "01fc2791",
   "metadata": {
    "id": "01fc2791"
   },
   "source": [
    "\n",
    "---\n",
    "\n",
    "### Exercise 49:\n",
    "Write a Python function that reads a file and returns the most common letter in the text.\n",
    "\n",
    "```python\n",
    "# Exercise 49\n",
    "```\n"
   ]
  },
  {
   "cell_type": "code",
   "execution_count": null,
   "id": "673890a4",
   "metadata": {
    "id": "673890a4"
   },
   "outputs": [
    {
     "name": "stdout",
     "output_type": "stream",
     "text": [
      "u\n"
     ]
    }
   ],
   "source": [
    "def most_common_letter(filename):\n",
    "    with open(filename, 'r') as file:\n",
    "        text = file.read()\n",
    "\n",
    "    text = text.lower()\n",
    "    letter_count = {}\n",
    "    \n",
    "    for char in text:\n",
    "        if char.isalpha():\n",
    "            if char in letter_count:\n",
    "                letter_count[char] += 1\n",
    "            else:\n",
    "                letter_count[char] = 1\n",
    "    most_common = max(letter_count, key=letter_count.get)\n",
    "    \n",
    "    return most_common\n",
    "\n",
    "print(most_common_letter(\"files/example.txt\"))\n"
   ]
  },
  {
   "cell_type": "markdown",
   "id": "68bf490a",
   "metadata": {
    "id": "68bf490a"
   },
   "source": [
    "\n",
    "---\n",
    "\n",
    "### Exercise 50:\n",
    "Write a Python script that reads a file and replaces every occurrence of `\"Python\"` with `\"Java\"`.\n",
    "\n",
    "```python\n",
    "# Exercise 50\n",
    "```\n",
    "\n",
    "---\n",
    "\n"
   ]
  },
  {
   "cell_type": "code",
   "execution_count": null,
   "id": "dcf6ca38",
   "metadata": {
    "id": "dcf6ca38"
   },
   "outputs": [],
   "source": [
    "with open(\"example.txt\", \"r\") as file:\n",
    "    content = file.read()\n",
    "updated_content = content.replace(\"Python\", \"Java\")\n",
    "\n",
    "with open(\"example.txt\", \"w\") as file:\n",
    "    file.write(updated_content)\n",
    "print(\"All occurrences of 'Python' have been replaced with 'Java'.\")\n"
   ]
  }
 ],
 "metadata": {
  "colab": {
   "provenance": []
  },
  "kernelspec": {
   "display_name": "daily-notebook",
   "language": "python",
   "name": "python3"
  },
  "language_info": {
   "codemirror_mode": {
    "name": "ipython",
    "version": 3
   },
   "file_extension": ".py",
   "mimetype": "text/x-python",
   "name": "python",
   "nbconvert_exporter": "python",
   "pygments_lexer": "ipython3",
   "version": "3.12.12"
  }
 },
 "nbformat": 4,
 "nbformat_minor": 5
}
