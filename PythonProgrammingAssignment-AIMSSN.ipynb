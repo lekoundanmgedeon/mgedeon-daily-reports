{
 "cells": [
  {
   "cell_type": "markdown",
   "id": "88c8acbe-ac9d-4ba0-adab-2e0a01c67866",
   "metadata": {},
   "source": [
    "![AIMS Logo](https://www.uni-bielefeld.de/fakultaeten/mathematik/ag/hofmanova/daad-aims/aims-senegal.png)"
   ]
  },
  {
   "cell_type": "markdown",
   "id": "710acdda-eec7-466b-b845-db9d338c889f",
   "metadata": {},
   "source": [
    "****\n",
    "\n",
    "# <center> <b> <span style=\"color:orange;\"> Python Proficiency for Scientific Computing and Data Science (PyPro-SCiDaS)  </span> </b></center>\n",
    "\n",
    "### <center> <b> <span style=\"color:green;\">An Initiation to Programming using Python (Init2Py) </span> </b></center>\n",
    "    "
   ]
  },
  {
   "cell_type": "markdown",
   "id": "bebdbf0e-70fe-4e92-b5fd-b4daf7afc691",
   "metadata": {},
   "source": [
    "****\n",
    "# <center> <b> <span style=\"color:blue;\">Assignment </span> </b></center>\n",
    "\n",
    "****\n",
    "### Instructions:\n",
    "You should solve these problems using only:\n",
    "- Standard Python data types (e.g., str, list, dict, int).\n",
    "- Built-in and user-defined functions.\n",
    "- Basic flow control (if/else, for loops, while loops).\n",
    "- Standard library modules such as math\n",
    "****"
   ]
  },
  {
   "cell_type": "markdown",
   "id": "0eb74f98",
   "metadata": {},
   "source": [
    "## Section 1: Python Fundamentals"
   ]
  },
  {
   "cell_type": "markdown",
   "id": "849b7917",
   "metadata": {},
   "source": [
    "### Exercise 1\n",
    "Compute the following expressions for a natural number $n$ chosen by the user:\n",
    "\n",
    "a) $$\\sum_{\\substack{i=0 \\\\ i \\text{ is odd}}}^{n-1} (i + 3)$$\n"
   ]
  },
  {
   "cell_type": "code",
   "execution_count": 1,
   "id": "c884045d",
   "metadata": {},
   "outputs": [
    {
     "name": "stdout",
     "output_type": "stream",
     "text": [
      "entrez un numbre  12\n"
     ]
    },
    {
     "name": "stdout",
     "output_type": "stream",
     "text": [
      "Le résultat pour n = 12 est : 54\n"
     ]
    }
   ],
   "source": [
    "#Your code here\n",
    "def somme_impairs(n):\n",
    "    total = 0\n",
    "    for i in range(1, n, 2):\n",
    "        total += i + 3\n",
    "    return total\n",
    "\n",
    "n = int(input(\"entrez un numbre \"))\n",
    "resultat = somme_impairs(n)\n",
    "print(f\"Le résultat pour n = {n} est : {resultat}\")        "
   ]
  },
  {
   "cell_type": "markdown",
   "id": "8439b5e6-7ba3-440a-891a-463eb91f51ad",
   "metadata": {},
   "source": [
    "b) $$\\prod_{\\substack{i=0 \\\\ i \\text{ is even}}}^{n-1} (i + 3)$$"
   ]
  },
  {
   "cell_type": "code",
   "execution_count": null,
   "id": "9b9b285d-00ef-4ecd-90ac-9efd2ca3d792",
   "metadata": {},
   "outputs": [
    {
     "name": "stdout",
     "output_type": "stream",
     "text": [
      "The result for n = 3 is: 15\n"
     ]
    }
   ],
   "source": [
    "# Your code here\n",
    "def compute_even_product(n):\n",
    "    product = 1\n",
    "    for i in range(n):\n",
    "        if i % 2 == 0:  # I try to check if i is even\n",
    "            product *= (i + 3) # I multiply product by (i + 3)\n",
    "    return product\n",
    "n = 3\n",
    "result = compute_even_product(n)\n",
    "print(f\"The result for n = {n} is: {result}\")\n"
   ]
  },
  {
   "cell_type": "markdown",
   "id": "669720a3",
   "metadata": {},
   "source": [
    "### Exercise 2\n",
    "a) Write python code that computes the sum of the square of the first $n$ natural numbers. One version with a \"for loop\" and another version with a \"while loop\"."
   ]
  },
  {
   "cell_type": "code",
   "execution_count": null,
   "id": "94d27ad3",
   "metadata": {},
   "outputs": [],
   "source": [
    "#Part a: For loop version\n",
    "def somme_carres_for(n):\n",
    "    total = 0\n",
    "    for i in range(1, n + 1): \n",
    "        total += i**2\n",
    "    return total\n",
    "\n",
    "n = int(input(\"entrez une valeur pour n :\"))\n",
    "\n",
    "resultat_for = somme_carres_for(n)\n",
    "\n",
    "print(f\"La somme des carrés des {n} premiers entiers (avec for) est : {resultat_for}\")"
   ]
  },
  {
   "cell_type": "code",
   "execution_count": null,
   "id": "4c55fb35",
   "metadata": {},
   "outputs": [
    {
     "name": "stdout",
     "output_type": "stream",
     "text": [
      "Entrez une valeur de n 10\n",
      "La somme des carrés des 10 premiers entiers (avec while) est : 385\n"
     ]
    }
   ],
   "source": [
    "#Part b: While loop version\n",
    "def somme_carres_while(n):\n",
    "    somme = 0\n",
    "    i = 1\n",
    "    while i <= n:\n",
    "        somme += i**2\n",
    "        i += 1\n",
    "    return somme\n",
    "n = int(input(\"Entrez une valeur de n \"))\n",
    "resultat_while = somme_carres_while(n)\n",
    "print(f\"computes the sum of the square of the first{n} is : {resultat_while}\")"
   ]
  },
  {
   "cell_type": "markdown",
   "id": "51865abb-c5c5-40ab-a1e7-d7cd45da4387",
   "metadata": {},
   "source": [
    "b) Write python code that prints, for a natural number $M$, the smallest natural number $n$ such that $1^2 + 2^2 + \\cdots + n^2 \\geq M$. One version with a \"for loop\" and another version with a \"while loop\"."
   ]
  },
  {
   "cell_type": "code",
   "execution_count": null,
   "id": "f556ff56",
   "metadata": {},
   "outputs": [
    {
     "name": "stdout",
     "output_type": "stream",
     "text": [
      "The smallest  n is : 3\n"
     ]
    }
   ],
   "source": [
    "#Part b: While loop version\n",
    "M = int(input(\"Entrez un nombre naturel M : \"))\n",
    "somme = 0\n",
    "n = 0\n",
    "while somme < M:\n",
    "    n += 1\n",
    "    somme += n ** 2\n",
    "\n",
    "print(\"The smallest n is :\", n)"
   ]
  },
  {
   "cell_type": "code",
   "execution_count": null,
   "id": "a27928e9",
   "metadata": {},
   "outputs": [],
   "source": [
    "#Part b: For loop version\n",
    "M = int(input(\"Entrez un nombre naturel M : \"))\n",
    "somme = 0\n",
    "for n in range(1, M + 1):  # M+1 est arbitraire, on sort avec break\n",
    "    somme += n ** 2\n",
    "    if somme >= M:\n",
    "        print(\"Le plus petit n est :\", n)\n",
    "        break"
   ]
  },
  {
   "cell_type": "markdown",
   "id": "ebe9f8cf",
   "metadata": {},
   "source": [
    "### Exercise 3\n",
    "Write a python script that asks the user for the values of $x$ and $y$ and uses these inputs to compute the numerical value of the expression:\n",
    "\n",
    "$$\\frac{\\sqrt{x^2+y}}{\\frac{1}{x} + 2\\sin y}$$"
   ]
  },
  {
   "cell_type": "code",
   "execution_count": null,
   "id": "45ed183b",
   "metadata": {},
   "outputs": [
    {
     "name": "stdout",
     "output_type": "stream",
     "text": [
      "The result of the expression is: 2.7838821814150108\n",
      " La reponse final est :  2.7838821814150108\n"
     ]
    }
   ],
   "source": [
    "#Your code here\n",
    "import math\n",
    "x=int(input(\"Enter the value of x :\"))\n",
    "y=int(input(\"Enter the value of y  :\"))\n",
    "y_rad = math.radians(y) # I convert y to radians for the sine function\n",
    "\n",
    "try:\n",
    "    numerator = math.sqrt( (x**2)+y)\n",
    "    denominator = ((1/x)+ 2*math.sin(y_rad))\n",
    "except ZeroDivisionError:\n",
    "    print(\"Error: Division by zero.!\")\n",
    "else:\n",
    "    result = numerator / denominator\n",
    "    print(f\"The result of the expression is: {result}\")\n",
    "\n",
    "print (\" La reponse final est : \" , result)\n"
   ]
  },
  {
   "cell_type": "markdown",
   "id": "5dd987b9",
   "metadata": {},
   "source": [
    "### Exercise 4\n",
    "\n",
    "A store charges XOF $12$ per item if fewer than $10$ items are purchased. If the number of items is between $10$ and $99$ (inclusive), the price is XOF $10$ per item. For $100$ items or more, the price drops to XOF $7$ per item.\n",
    "\n",
    "a) Write a function called `Cost` that takes as input the number of items $n$ and returns the total cost.\n"
   ]
  },
  {
   "cell_type": "code",
   "execution_count": 64,
   "id": "2e2d41c7-638a-4833-8214-88d004eac4c1",
   "metadata": {},
   "outputs": [
    {
     "name": "stdout",
     "output_type": "stream",
     "text": [
      "The total cost of items is : 700\n"
     ]
    }
   ],
   "source": [
    "#Your code here\n",
    "def cost(number_item): \n",
    "    total_cost = 0\n",
    "    if number_item < 10:\n",
    "        total_cost = 12*number_item\n",
    "    elif number_item in range(10,100):\n",
    "        total_cost = 10*number_item\n",
    "    if number_item >= 100:\n",
    "        total_cost = 7*number_item\n",
    "    return total_cost\n",
    "\n",
    "try:\n",
    "    nombre_item = int(input(\"Enter a nomber of items : \"))\n",
    "    total_final = cost(nombre_item)\n",
    "    if nombre_item < 0:\n",
    "        raise ValueError(\"The number of items cannot be negative.\")\n",
    "except TypeError:\n",
    "    print(\" Error: Invalid input type. Please enter an integer value.\")\n",
    "else:\n",
    "    print(\"The total cost of items is :\", total_final)"
   ]
  },
  {
   "cell_type": "markdown",
   "id": "d49716e4-ecee-44ea-980d-558ed78c9802",
   "metadata": {},
   "source": [
    "b) Test the function `Cost` for $n = 50 \\text{ and } 255$."
   ]
  },
  {
   "cell_type": "code",
   "execution_count": 57,
   "id": "b945be28-8c9e-4974-84fe-2e709351df63",
   "metadata": {},
   "outputs": [
    {
     "name": "stdout",
     "output_type": "stream",
     "text": [
      "pour n = 5, le total : 60\n",
      "pour n = 255, le total :  1785\n"
     ]
    }
   ],
   "source": [
    "#Your code here\n",
    "print(\"pour n = 5, le total :\", cost(5))\n",
    "print(\"pour n = 255, le total : \", cost(255))"
   ]
  },
  {
   "cell_type": "markdown",
   "id": "81add996",
   "metadata": {},
   "source": [
    "### Exercise 5\n",
    "For a fixed real number $x$ and a natural number $n$, we can define recursively $x^n$ using the relations:\n",
    "\n",
    "$$x^0 = 1 \\quad \\text{and} \\quad x^{n+1} = x \\cdot x^n$$\n",
    "\n",
    "Write a function `power(x,n)` that implements the above recursion."
   ]
  },
  {
   "cell_type": "code",
   "execution_count": 34,
   "id": "d7f39afd",
   "metadata": {},
   "outputs": [
    {
     "name": "stdout",
     "output_type": "stream",
     "text": [
      "100\n"
     ]
    }
   ],
   "source": [
    "#Your code here\n",
    "def power(x, n):\n",
    "    if n == 0:\n",
    "        return 1\n",
    "    else:\n",
    "        return x * power(x, n - 1)\n",
    "\n",
    "print(power(10,2))"
   ]
  },
  {
   "cell_type": "markdown",
   "id": "6a2c61c6",
   "metadata": {},
   "source": [
    "### Exercise 6\n",
    "\n",
    "a) Write two functions: `arithmetic_mean`, which takes two numbers and returns their [**arithmetic mean**](https://en.wikipedia.org/wiki/Arithmetic_mean)\n",
    ", and `geometric_mean`, which takes two numbers and returns their [**geometric mean**](https://en.wikipedia.org/wiki/Geometric_mean). Then write a function `avggeom` that takes two input numbers and, for 10 iterations, repeatedly computes both their arithmetic mean and geometric mean, using the results from the previous iteration as the new inputs.\n"
   ]
  },
  {
   "cell_type": "code",
   "execution_count": null,
   "id": "8c8ec37f",
   "metadata": {},
   "outputs": [
    {
     "name": "stdout",
     "output_type": "stream",
     "text": [
      "Moyenne arithmétique : 3.3289971432731074, Moyenne géométrique : 3.3289971432731074\n",
      "(6.657994286546215, 6.657994286546215)\n"
     ]
    }
   ],
   "source": [
    "#Your code here\n",
    "def arithmetic_mean(a, b):\n",
    "    return (a + b) / 2\n",
    "\n",
    "def geometric_mean(a, b):\n",
    "    return (a * b) ** 0.5\n",
    "\n",
    "def avggeom(a, b):\n",
    "    for _ in range(10):\n",
    "        a_new = arithmetic_mean(a, b)\n",
    "        b_new = geometric_mean(a, b)\n",
    "        a, b = a_new, b_new\n",
    "    return a, b\n",
    "\n",
    "x = float(input(\"Enter the value of x : \"))\n",
    "y = float(input(\"Enter the value of y : \"))\n",
    "moy_arith, moy_geom = avggeom(x, y)\n",
    "print(f\"arithmetic mean : {moy_arith}, geometric mean : {moy_geom}\")\n",
    "\n",
    "result = avggeom(10, 4)\n",
    "print(result)"
   ]
  },
  {
   "cell_type": "markdown",
   "id": "31ecdd87-a731-485f-9110-59cba9b46f5b",
   "metadata": {},
   "source": [
    "b) Write a function called `distancefn` that computes the [**Euclidean distance**](https://en.wikipedia.org/wiki/Euclidean_distance) between two points $(x_1, y_1)$ and $(x_2, y_2)$ in the plane. Use it in another program that computes the perimeter and the area of a triangle, given three points in the plane (each given as coordinates).\n",
    "\n",
    " \n"
   ]
  },
  {
   "cell_type": "code",
   "execution_count": null,
   "id": "33a9cfd9",
   "metadata": {},
   "outputs": [
    {
     "name": "stdout",
     "output_type": "stream",
     "text": [
      "La distance entre (2, 3) et (5, 7) est : 5.0\n"
     ]
    }
   ],
   "source": [
    "# Your code here\n",
    "def distancefn(x1, y1, x2, y2):\n",
    "    return ((x2 - x1)**2 + (y2 - y1)**2)**0.5\n",
    "point1 = (2, 3)\n",
    "point2 = (5, 7)\n",
    "dist = distancefn(point1[0], point1[1], point2[0], point2[1])\n",
    "print(f\"La distance entre {point1} et {point2} est : {dist}\")\n"
   ]
  },
  {
   "cell_type": "markdown",
   "id": "9fcbb79e-0cd9-41cc-aab5-530155b7faf9",
   "metadata": {},
   "source": [
    "### Exercise 7\n",
    "\n",
    "a) Let `L=[2,3,5,7,11,13,17,19,23,29,31,37,41,43,47]`. Use list comprehension to produce a list of the gaps (differences) between consecutive entries in `L`. Then find the maximum gap size and the percentage of gaps that have size $2$."
   ]
  },
  {
   "cell_type": "code",
   "execution_count": 58,
   "id": "6de22a29-0917-42e1-9eac-281aac5f8473",
   "metadata": {},
   "outputs": [
    {
     "name": "stdout",
     "output_type": "stream",
     "text": [
      "Les écarts entre les nombres premiers consécutifs sont : [1, 2, 2, 4, 2, 4, 2, 4, 6, 2, 6, 4, 2, 4]\n"
     ]
    }
   ],
   "source": [
    "# Your code here\n",
    "L=[2,3,5,7,11,13,17,19,23,29,31,37,41,43,47]\n",
    "list_gap = [ L[i+1] - L[i] for i in range(len(L) - 1)]\n",
    "print(\"Les écarts entre les nombres premiers consécutifs sont :\", list_gap)"
   ]
  },
  {
   "cell_type": "markdown",
   "id": "5c4be925-e334-475f-a478-75b39131fe4d",
   "metadata": {},
   "source": [
    "b) i) Using list comprehensions, write a function `ListComp` that takes a list of strings as input and returns three objects:\n",
    "\n",
    "- a list that consists of the strings with their first characters removed\n",
    "- a list of the lengths of the strings\n",
    "- a list that consists of only those strings that are at least 5 characters long\n"
   ]
  },
  {
   "cell_type": "code",
   "execution_count": null,
   "id": "14b517b1-1fef-4659-9952-8d66c2560aac",
   "metadata": {},
   "outputs": [],
   "source": [
    "# Your code here\n",
    "def ListComp(strings):\n",
    "    list1 = [s[1:] for s in strings if len(s) > 0]\n",
    "    lengths = [len(s) for s in strings]\n",
    "    list2 = [s for s in strings if len(s) >= 5]\n",
    "    return list1, lengths, list2\n"
   ]
  },
  {
   "cell_type": "markdown",
   "id": "8712badb-0d34-4907-8828-7fa1d78b2672",
   "metadata": {},
   "source": [
    "ii) Test your function with the list: `[\"hello\", \"world\", \"python\", \"programming\", \"AI\", \"code\"]`"
   ]
  },
  {
   "cell_type": "code",
   "execution_count": 31,
   "id": "2a7c2ddd-5db1-4fba-945b-92a661a580d1",
   "metadata": {},
   "outputs": [
    {
     "name": "stdout",
     "output_type": "stream",
     "text": [
      "(['ello', 'orld', 'ython', 'rogramming', 'I', 'ode'], [5, 5, 6, 11, 2, 4], ['hello', 'world', 'python', 'programming'])\n"
     ]
    }
   ],
   "source": [
    "# Your code here\n",
    "list2 = [\"hello\", \"world\", \"python\", \"programming\", \"AI\", \"code\"]\n",
    "print(ListComp(list2))"
   ]
  },
  {
   "cell_type": "markdown",
   "id": "e37c36d8-f769-4a73-a642-d2dd1f04fcb0",
   "metadata": {},
   "source": [
    "### Exercise 8\n",
    "\n",
    "a) Write a program that repeatedly asks the user to enter product names and prices. Store all of these in a dictionary whose keys are the product names and whose values are the prices. When the user is done entering products and prices, allow them to repeatedly enter a product name and print the corresponding price or a message if the product is not in the dictionary."
   ]
  },
  {
   "cell_type": "code",
   "execution_count": null,
   "id": "a577ce2e-6c93-44ab-8113-f95a0b1f6292",
   "metadata": {},
   "outputs": [
    {
     "name": "stdout",
     "output_type": "stream",
     "text": [
      "Invalid input. Please enter a valid price.\n",
      "{'apple': 12.0, 'mangoes': 45.0, 'annanas': 15.0}\n",
      " find product: apple, price : 12.0\n"
     ]
    }
   ],
   "source": [
    "# Your code here\n",
    "dictProducts={}\n",
    "while True:\n",
    "    try:\n",
    "        product = input(\"Enter a name of product (or 'stop' for exit ) : \")\n",
    "        if product== \"stop\":\n",
    "            break\n",
    "        else :\n",
    "            price = float(input(f\"Enter a price for {product} : \" ))\n",
    "            dictProducts[product] = price \n",
    "    except ValueError:\n",
    "        print(\"Invalid input. Please enter a valid price.\")\n",
    "    \n",
    "print(dictProducts)\n",
    "\n",
    "def rechercheProduit(product_search, dict_input):\n",
    "    trouve=False\n",
    "    for s, value in dict_input.items() : \n",
    "        if s==product_search : \n",
    "            print(f\" find product: {s}, price : {value}\")\n",
    "            trouve=True\n",
    "            break\n",
    "    if trouve== False:\n",
    "        print(\"we've not found any product\" )\n",
    "    \n",
    "search_value = input(\"Enter a product for searching \")\n",
    "rechercheProduit(search_value, dictProducts)        "
   ]
  },
  {
   "cell_type": "markdown",
   "id": "0c290f12-f56b-4377-ad30-1bc7cd0d6667",
   "metadata": {},
   "source": [
    "b) Using the dictionary created above, allow the user to enter an amount and print out a list of the products whose price is less than that amount."
   ]
  },
  {
   "cell_type": "code",
   "execution_count": null,
   "id": "656979c5-eb60-4fb8-abbe-e4c3dcc4ddd7",
   "metadata": {},
   "outputs": [
    {
     "name": "stdout",
     "output_type": "stream",
     "text": [
      "Produits dont le prix est inférieur à 12.0 :\n"
     ]
    }
   ],
   "source": [
    "# Your code here\n",
    "try : \n",
    "    montant = float(input(\"Entrez un montant pour filtrer les produits : \"))\n",
    "    print(f\"Produits dont le prix est inférieur à {montant} :\")\n",
    "except ValueError:\n",
    "    print(\"Invalid input. Please enter a valid amount.\")\n",
    "else :\n",
    "    for nom, prix in dictProducts.items():\n",
    "        if prix < montant:\n",
    "            print(f\"- {nom} : {prix}\")"
   ]
  },
  {
   "cell_type": "markdown",
   "id": "cf33be4c-5b93-489c-9731-aafad88900d9",
   "metadata": {},
   "source": [
    "c) Using the dictionary created above, evaluate the most expensive product."
   ]
  },
  {
   "cell_type": "code",
   "execution_count": 103,
   "id": "f120a069-b5eb-4ac8-8fd5-27ec6abca426",
   "metadata": {},
   "outputs": [
    {
     "name": "stdout",
     "output_type": "stream",
     "text": [
      "Produits dont le prix est inférieur à 12.0 :\n",
      "- mangoes : 45.0\n",
      "- annanas : 15.0\n"
     ]
    }
   ],
   "source": [
    "# Your code here\n",
    "try:\n",
    "    montant = float(input(\"Entrez un montant pour filtrer les produits : \"))\n",
    "except ValueError:\n",
    "    print(\"Invalid input. Please enter a valid amount.\")\n",
    "else:\n",
    "    print(f\"Produits dont le prix est inférieur à {montant} :\")\n",
    "    for nom, prix in dictProducts.items():\n",
    "        if prix > montant:\n",
    "            print(f\"- {nom} : {prix}\")"
   ]
  },
  {
   "cell_type": "markdown",
   "id": "9dc09c3e-5a73-4361-894b-0b69ea01f9c5",
   "metadata": {},
   "source": [
    "d) Using the dictionary created above, calculate the average price of all products."
   ]
  },
  {
   "cell_type": "code",
   "execution_count": null,
   "id": "1b3055d2-05dd-4bde-b53f-504ea9755ccc",
   "metadata": {},
   "outputs": [],
   "source": [
    "# Your code here\n",
    "def average_price(dict_input):\n",
    "    total = sum(dict_input.values())\n",
    "    count = len(dict_input)\n",
    "    if count == 0:\n",
    "        return 0\n",
    "    return total / count \n",
    "\n",
    "average = average_price(dictProducts)\n",
    "print(f\"Le prix moyen des produits est : {average}\")"
   ]
  },
  {
   "cell_type": "markdown",
   "id": "d608f5c3-22a4-4a77-bc29-0c54a3ae210f",
   "metadata": {},
   "source": [
    "e) Using the dictionary created above, update the prices of multiple products at once."
   ]
  },
  {
   "cell_type": "code",
   "execution_count": null,
   "id": "56dc6214-63b1-4e67-ab84-c248d12f0c93",
   "metadata": {},
   "outputs": [],
   "source": [
    "# Your code here\n",
    "def update_price(name, new_price, dict_input):\n",
    "    if name in dict_input:\n",
    "        dict_input[name] = new_price\n",
    "        print(f\"The price of {name} has been updated {new_price}.\")\n",
    "    else:\n",
    "        print(f\"Product {name} not found.\")   \n",
    "\n",
    "try:\n",
    "    product_to_update = input(\"Enter name of a product that updates : \")\n",
    "except ValueError: # I want to handle invalid input\n",
    "    print(\"Invalid input. Please enter a valid product name.\")\n",
    "else :\n",
    "    new_price = float(input(f\"Enter price for product {product_to_update} : \"))\n",
    "    update_price(product_to_update, new_price, dictProducts)\n"
   ]
  },
  {
   "cell_type": "markdown",
   "id": "69987d36-94b2-4a35-8797-3bfbfa98d72e",
   "metadata": {},
   "source": [
    "### Exercise 9\n",
    "\n",
    "Use string methods and attributes to solve the following:"
   ]
  },
  {
   "cell_type": "markdown",
   "id": "d0e93ff1-82e5-4f2b-a39b-4013979c1968",
   "metadata": {},
   "source": [
    "a) Write a function called `word_counter` that reads in the file `example.txt` and estimates the total number of words in the file. Assume words are separated by spaces."
   ]
  },
  {
   "cell_type": "code",
   "execution_count": 2,
   "id": "6a4155a9-4d99-4ded-8103-5395f2195a97",
   "metadata": {},
   "outputs": [
    {
     "name": "stdout",
     "output_type": "stream",
     "text": [
      "Nombre de mots dans le fichier : 6\n"
     ]
    }
   ],
   "source": [
    "# Your code here\n",
    "def word_counter(file_path):\n",
    "    \n",
    "    try:\n",
    "        with open(file_path, \"r\") as file:\n",
    "            content = file.read()\n",
    "            words = content.split()  \n",
    "            return len(words) \n",
    "    except FileNotFoundError:\n",
    "        print(\"file 'example.txt' no such files or directory.\")\n",
    "        return 0\n",
    "\n",
    "total_words = word_counter(\"files/example.txt\")\n",
    "print(\"Nombre de mots dans le fichier :\", total_words)\n"
   ]
  },
  {
   "cell_type": "markdown",
   "id": "cb6d8e35-f0e2-4285-aa1c-977591f8c288",
   "metadata": {},
   "source": [
    "b) Write a function called `UpLow` that reads the content of `example.txt` and then returns a dictionary containing the total number of uppercase letters and the total number of lowercase letters."
   ]
  },
  {
   "cell_type": "code",
   "execution_count": null,
   "id": "b73e1286-0941-4525-947d-3c6f7ffd71b2",
   "metadata": {},
   "outputs": [],
   "source": [
    "# Your code here\n"
   ]
  },
  {
   "cell_type": "markdown",
   "id": "09d10eca-395d-4a37-9347-98be9c9988e7",
   "metadata": {},
   "source": [
    "c) Write a function called `count_word` that reads in `example.txt` and returns how many times the `target_word` (\"the\") appears in the text. Take note that the count must be case-insensitive (e.g., \"The\", \"the\", \"THE\" all count as one) and that it must only count whole word matches, not partial matches (e.g., \"them\" should not count if the target is \"the\")."
   ]
  },
  {
   "cell_type": "code",
   "execution_count": null,
   "id": "16c56340-547d-455b-b23d-4432141c9967",
   "metadata": {},
   "outputs": [],
   "source": [
    "# Your code here\n"
   ]
  },
  {
   "cell_type": "markdown",
   "id": "1aa05af8-19f8-49f5-a3d1-7c90fa708d0e",
   "metadata": {},
   "source": [
    "d) Write a function called `swap_and_clean` that reads the content of the file `example.txt`. The function should process the text by converting all uppercase letters to lowercase and all lowercase letters to uppercase. It should also remove all characters that are not letters, such as numbers and punctuation, while keeping spaces intact. After performing these modifications, the function should write the resulting text to a new file called `output1.txt`."
   ]
  },
  {
   "cell_type": "code",
   "execution_count": null,
   "id": "c697a0ff-5e8e-4197-b3cf-01fdae99d8eb",
   "metadata": {},
   "outputs": [],
   "source": [
    "# Your code here\n"
   ]
  },
  {
   "cell_type": "markdown",
   "id": "3495f4ec-32c1-4dc4-83f2-e960f6bdd904",
   "metadata": {},
   "source": [
    "e) Write a function called `palindromes` that reads the content of `example.txt`. The function should first split the text into individual words. For each word, it should be cleaned by converting it to lowercase and removing any leading or trailing punctuation. After cleaning, the function should check whether the word is a [**palindrome**](https://en.wikipedia.org/wiki/Palindrome). A palindrome is a word that reads the same forwards and backwards eg \"madam\". If a word is a palindrome, the function should print the original, uncleaned version of that word to the console."
   ]
  },
  {
   "cell_type": "code",
   "execution_count": null,
   "id": "f6055bd5-9777-4670-bc86-c4fa1bac10fc",
   "metadata": {},
   "outputs": [],
   "source": [
    "# Your code here\n"
   ]
  },
  {
   "cell_type": "markdown",
   "id": "59d86dbf-b8db-48c3-a30e-8171f459d93f",
   "metadata": {},
   "source": [
    "f) Write a function called `extract_and_format_numbers` that reads the file `example.txt` line by line. The function should identify any numbers that appear in the text, such as `100000000`. For each number found, it should format the number by inserting commas in the appropriate places (for example, converting `100000000` to `100,000,000`). Each formatted number should then be written on a separate line in a new file called `output2.txt`."
   ]
  },
  {
   "cell_type": "code",
   "execution_count": null,
   "id": "b2fd2ea1-ba51-4677-b59f-902fb08df1db",
   "metadata": {},
   "outputs": [
    {
     "name": "stdout",
     "output_type": "stream",
     "text": [
      "False\n"
     ]
    }
   ],
   "source": [
    "# Your code here\n"
   ]
  },
  {
   "cell_type": "markdown",
   "id": "a7b3e2bc",
   "metadata": {},
   "source": [
    "### Exercise 10\n",
    "\n",
    "The [**digital root**](https://en.wikipedia.org/wiki/Digital_root) of a positive number $n$ is obtained as follows: \n",
    "- Add up the digits $n$ to get a new number.\n",
    "- Add up the digits of that to get another new number. Keep doing this until you get a number that has only one digit. That number is the digital root.\n",
    "\n",
    "For example, if $n = 45893$, we add up the digits to get $$4 + 5 + 8 + 9 + 3 = 29.$$ We then add up\n",
    "the digits of $29$ to get $$2 + 9 = 11.$$ We then add up the digits of $11$ to get $$1 + 1 = 2.$$ Since 2 has\n",
    "only one digit, 2 is our digital root.\n",
    "\n",
    "Write the Python code of the function `DigRoot` that returns the digital root of an integer $n$ given as input.\n",
    "\n"
   ]
  },
  {
   "cell_type": "code",
   "execution_count": null,
   "id": "5bce0733",
   "metadata": {},
   "outputs": [
    {
     "name": "stdout",
     "output_type": "stream",
     "text": [
      "4 + 5 + 8 + 9 + 3 = 29\n",
      "2 + 9 = 11\n",
      "1 + 1 = 2\n",
      "2\n"
     ]
    }
   ],
   "source": [
    "# Your code here\n",
    "def DigRoot(n):\n",
    "    while n >= 10:\n",
    "        digits = [int(d) for d in str(n)]\n",
    "        total = sum(digits)\n",
    "        print(\" + \".join(str(d) for d in digits), \"=\", total)\n",
    "        n = total\n",
    "    return n\n",
    "\n",
    "print(DigRoot(45893))  \n",
    "print(DigRoot(123456)) \n",
    "print(DigRoot(9))\n"
   ]
  },
  {
   "cell_type": "markdown",
   "id": "38c8dc59",
   "metadata": {},
   "source": [
    "## Section 2: Mathematical Applications"
   ]
  },
  {
   "cell_type": "markdown",
   "id": "bd7b508f",
   "metadata": {},
   "source": [
    "### Exercise 1\n",
    "Compute the first 30 terms of the sequence defined by $2x_{n+2} - x_{n+1} - 6x_n = 0$ sequence, given any two initial values $x_0$ and $x_1$."
   ]
  },
  {
   "cell_type": "code",
   "execution_count": null,
   "id": "ab40f242",
   "metadata": {},
   "outputs": [
    {
     "name": "stdout",
     "output_type": "stream",
     "text": [
      "[1, 2, 4.0, 8.0, 16.0, 32.0, 64.0, 128.0, 256.0, 512.0, 1024.0, 2048.0, 4096.0, 8192.0, 16384.0, 32768.0, 65536.0, 131072.0, 262144.0, 524288.0, 1048576.0, 2097152.0, 4194304.0, 8388608.0, 16777216.0, 33554432.0, 67108864.0, 134217728.0, 268435456.0, 536870912.0]\n"
     ]
    }
   ],
   "source": [
    "# Your code here\n",
    "def sequence_x(x0, x1, terms=30):\n",
    "    seq = [x0, x1]\n",
    "    for n in range(2, terms):\n",
    "        xn_plus_2 = 0.5 * (seq[n-1] + 6 * seq[n-2])\n",
    "        seq.append(xn_plus_2)\n",
    "    return seq\n",
    "x0 = 1\n",
    "x1 = 2\n",
    "result = sequence_x(x0, x1)\n",
    "print(result)"
   ]
  },
  {
   "cell_type": "markdown",
   "id": "4604ea6c-10e6-41c4-9a7b-9d9cf3c4f456",
   "metadata": {},
   "source": [
    "### Exercise 2\n",
    "\n",
    "Let $f$ be a continuous function defined on the closed interval $[a, b]$ such that $f(a)$ and $f(b)$ have opposite signs. By the [**Intermediate Value Theorem**](https://en.wikipedia.org/wiki/Intermediate_value_theorem), there exists a root $x_0 \\in (a, b)$ for which $f(x_0) = 0$.\n",
    "\n",
    "The [**bisection method**](https://fiveable.me/numerical-analysis-i/unit-3/bisection-method-algorithm/study-guide/5LfBknp8yfSe5lse) is an iterative method for approximating the root of such a function. At each step, it divides the interval in half and selects the subinterval where the sign change occurs, repeating this process until the interval width is smaller than a given tolerance ($\\epsilon$).\n",
    "\n",
    "a) Write a function named `bisection(f, a, b, epsilon=1e-2)` that:\n",
    "\n",
    "- Returns a tuple $(\\bar{x}, f(\\bar{x}))$, where $\\bar{x}$ is an approximation of the root such that\n",
    "$$\n",
    "|\\bar{x} - x_0| \\le \\epsilon\n",
    "$$\n",
    "if $f(a)\\cdot f(b) < 0$.  \n",
    "\n",
    "- Prints ``Bisection method failed'' if $f(a)\\cdot f(b) \\ge 0$.\n"
   ]
  },
  {
   "cell_type": "code",
   "execution_count": null,
   "id": "f7a47901",
   "metadata": {},
   "outputs": [],
   "source": [
    "# Your code here\n",
    "#Bisection method with maximum iterations (bisection method shown by the algorithm in that previous link)\n",
    "def bisection(f, a, b, tol, max_iter):\n",
    "    if f(a) * f(b) >= 0:\n",
    "        return \"Error: No root in interval\"\n",
    "\n",
    "    for i in range(1, max_iter + 1):\n",
    "        c = (a + b) / 2\n",
    "        if abs(b - a) < tol or abs(f(c)) < tol:\n",
    "            return c\n",
    "        if f(c) * f(a) < 0:\n",
    "            b = c\n",
    "        else:\n",
    "            a = c\n",
    "    return \"Error: Maximum iterations reached\"\n"
   ]
  },
  {
   "cell_type": "code",
   "execution_count": null,
   "id": "2203bd08",
   "metadata": {},
   "outputs": [
    {
     "name": "stdout",
     "output_type": "stream",
     "text": [
      "Racine trouvée : 1.4142136573791504\n"
     ]
    }
   ],
   "source": [
    "def f(x):\n",
    "    return x**2 - 2\n",
    "#case with max_iter=100\n",
    "root = bisection(f, 0, 2, tol=1e-6, max_iter=100)\n",
    "print(\"Racine trouvée :\", root)"
   ]
  },
  {
   "cell_type": "code",
   "execution_count": null,
   "id": "4e1dca70",
   "metadata": {},
   "outputs": [],
   "source": [
    "def bisection_v2(f, a, b, epsilon=1e-2):\n",
    "    # Vérifions que f(a) et f(b) ont des signes opposés\n",
    "    if f(a) * f(b) >= 0:\n",
    "        print(\"Bisection method failed\")\n",
    "        return\n",
    "\n",
    "    while abs(b - a) > epsilon:\n",
    "        c = (a + b) / 2\n",
    "        fc = f(c)\n",
    "        if abs(fc) < epsilon:\n",
    "            return (c, fc)\n",
    "        if f(a) * fc < 0:\n",
    "            b = c\n",
    "        else:\n",
    "            a = c\n",
    "    c = (a + b) / 2\n",
    "    return (c, f(c))"
   ]
  },
  {
   "cell_type": "code",
   "execution_count": null,
   "id": "201dcac9",
   "metadata": {},
   "outputs": [
    {
     "name": "stdout",
     "output_type": "stream",
     "text": [
      "Approximation de la racine : (1.4141845703125, -8.200109004974365e-05)\n"
     ]
    }
   ],
   "source": [
    "# Exemple : f(x) = x^2 - 2, racine attendue ≈ √2\n",
    "def f(x):\n",
    "    return x**2 - 2\n",
    "\n",
    "result = bisection_v2(f, 0, 2, epsilon=1e-4)\n",
    "print(\"Approximation de la racine :\", result)"
   ]
  },
  {
   "cell_type": "markdown",
   "id": "7b292b20",
   "metadata": {},
   "source": [
    "b) Test your function `bisection` for $ f(x) = x^3 -3x - 5$, $a=-10$ and $b=10$"
   ]
  },
  {
   "cell_type": "code",
   "execution_count": 45,
   "id": "65055df7",
   "metadata": {},
   "outputs": [
    {
     "name": "stdout",
     "output_type": "stream",
     "text": [
      "Approximation de la racine : (2.2802734375, 0.015796511434018612)\n"
     ]
    }
   ],
   "source": [
    "# Your code here\n",
    "def f(x):\n",
    "    return x**3 - 3*x - 5\n",
    "\n",
    "# Test avec a = -10, b = 10\n",
    "result = bisection_v2(f, -10, 10)\n",
    "print(\"Approximation de la racine :\", result)"
   ]
  },
  {
   "cell_type": "markdown",
   "id": "e4a009bd",
   "metadata": {},
   "source": [
    "### Exercise 3\n",
    "An irrational decimal fraction, [**Champernowne constant**](https://en.wikipedia.org/wiki/Champernowne_constant), is created by concatenating the positive integers: 0.12345678910<font color='red'>1</font>112131415161718192021...\n",
    "\n",
    "It can be seen that the 12th digit of the fractional part is <font color='red'>1</font>. If $d_n$ represents the nth digit of the fractional part, find the value of the following expression.\n",
    "\n",
    "$$d_1 × d_{10} × d_{100} × d_{1000} × d_{10000} × d_{100000} × d_{1000000}$$"
   ]
  },
  {
   "cell_type": "code",
   "execution_count": null,
   "id": "2adf8704",
   "metadata": {},
   "outputs": [
    {
     "data": {
      "text/plain": [
       "'0.1234567891'"
      ]
     },
     "execution_count": 96,
     "metadata": {},
     "output_type": "execute_result"
    }
   ],
   "source": [
    "def champernowne_constant(n_digits):\n",
    "    digits = ''\n",
    "    n = 1\n",
    "    while len(digits) < n_digits:\n",
    "        digits += str(n)\n",
    "        n += 1\n",
    "    return '0.' + digits[:n_digits]\n",
    "\n",
    "champernowne_constant(1) # I test first 1 digits\n",
    "champernowne_constant(10) # I test first 10 digits\n",
    "champernowne_constant(100) # I test first 100 digits\n",
    "champernowne_constant(1000)"
   ]
  },
  {
   "cell_type": "code",
   "execution_count": null,
   "id": "6e8209b5",
   "metadata": {},
   "outputs": [
    {
     "name": "stdout",
     "output_type": "stream",
     "text": [
      "d [1] = 1\n",
      "d [10] = 1\n",
      "d [100] = 5\n",
      "d [1000] = 3\n",
      "d [10000] = 7\n",
      "d [100000] = 2\n",
      "d [1000000] = 1\n",
      "\n",
      "Produit final : 210\n"
     ]
    }
   ],
   "source": [
    "# Your code here\n",
    "def champernowne_digit_at(n):\n",
    "    digits = ''\n",
    "    i = 1\n",
    "    while len(digits) < n:\n",
    "        digits += str(i)\n",
    "        i += 1\n",
    "    return int(digits[n - 1])\n",
    "\n",
    "positions = [1, 10, 100, 1000, 10000, 100000, 1000000]\n",
    "product = 1\n",
    "\n",
    "for pos in positions:\n",
    "    digit = champernowne_digit_at(pos)\n",
    "    print(f\"d [{pos}] = {digit}\")\n",
    "    product *= digit\n",
    "\n",
    "print(f\"\\nProduit final : {product}\")\n"
   ]
  },
  {
   "cell_type": "markdown",
   "id": "b71b5cf3",
   "metadata": {},
   "source": [
    "## Section 3: Advanced Programming"
   ]
  },
  {
   "cell_type": "markdown",
   "id": "09c75521",
   "metadata": {},
   "source": [
    "### Exercise 1\n",
    "\n",
    "a) Write a Python function named `factorial2` that takes a non-negative integer $n$ as input and returns $n!$ (the factorial of $n$)."
   ]
  },
  {
   "cell_type": "code",
   "execution_count": 47,
   "id": "70ed6655",
   "metadata": {},
   "outputs": [
    {
     "name": "stdout",
     "output_type": "stream",
     "text": [
      "120\n",
      "120\n"
     ]
    }
   ],
   "source": [
    "# Your code here\n",
    "def factorial2(n):\n",
    "    if n < 0:\n",
    "        raise ValueError(\"Input must be a non-negative integer.\")\n",
    "    result = 1\n",
    "    for i in range(2, n + 1):\n",
    "        result *= i\n",
    "    return result\n",
    "\n",
    "def recursive_factorial2(n):\n",
    "    if n < 0:\n",
    "        raise ValueError(\"Input must be a non-negative integer.\")\n",
    "    if n == 0 or n == 1:\n",
    "        return 1\n",
    "    else:\n",
    "        return n * recursive_factorial2(n - 1)\n",
    "print(factorial2(5)) \n",
    "print(recursive_factorial2(5))"
   ]
  },
  {
   "cell_type": "markdown",
   "id": "695589d1-8ae4-494d-b032-d8cd9683cd0a",
   "metadata": {},
   "source": [
    "b) i) Write a Python function named `QuadEqu` that solves a quadratic equation of the form:\n",
    "$$ax^2 + bx + c = 0$$\n",
    "\n",
    "Your function should:\n",
    "- Take three real numbers $a$, $b$, and $c$ as inputs, with $a$ defaulting to 1.\n",
    "- Return the real solutions of the equation (if any) in a suitable format."
   ]
  },
  {
   "cell_type": "code",
   "execution_count": null,
   "id": "849e4304-863d-49f7-a516-6437b150e7ea",
   "metadata": {},
   "outputs": [],
   "source": [
    "# Your code here\n",
    "import math\n",
    "\n",
    "def QuadEqu(b, c, a=1):\n",
    "    # Calcul of delta\n",
    "    delta = b**2 - 4*a*c\n",
    "    if delta < 0:\n",
    "        return \"No real solutions\"\n",
    "    elif delta == 0:\n",
    "        x = -b / (2*a)\n",
    "        return (x,)\n",
    "    else:\n",
    "        sqrt_delta = math.sqrt(delta)\n",
    "        x1 = (-b + sqrt_delta) / (2*a)\n",
    "        x2 = (-b - sqrt_delta) / (2*a)\n",
    "        return (x1, x2)"
   ]
  },
  {
   "cell_type": "markdown",
   "id": "f41a3fa9-a38f-4696-9bb1-9be33ee34bab",
   "metadata": {},
   "source": [
    "ii) Test the function `QuadEqu` for:\n",
    "  - $a=1, b=2, c=1$\n",
    "  - $a=2, b=2, c=40$\n",
    "  - $a=2, b=3, c=-5$"
   ]
  },
  {
   "cell_type": "code",
   "execution_count": 108,
   "id": "a755c928-76eb-4494-bd5b-39ccd3fc8678",
   "metadata": {},
   "outputs": [
    {
     "name": "stdout",
     "output_type": "stream",
     "text": [
      "Test for a=1, b=2, c=1   : No real solutions\n",
      "Test for a=1, b=2, c=40  : No real solutions\n",
      "Test for a=1, b=3, c=-5  : (-0.6, 1.0)\n"
     ]
    }
   ],
   "source": [
    "# Your code here\n",
    "print(\"Test for a=1, b=2, c=1   :\", QuadEqu(2,3,1))\n",
    "print(\"Test for a=1, b=2, c=40  :\", QuadEqu(2,2,40))\n",
    "print(\"Test for a=1, b=3, c=-5  :\", QuadEqu(2,3,-5))\n"
   ]
  },
  {
   "cell_type": "markdown",
   "id": "6288bbf2-5dcf-4eb8-b429-64bf329576bf",
   "metadata": {},
   "source": [
    "c) Write a Python program named `fact2nddeg` that repeatedly offers the user a menu with three options:\n",
    "- Compute a factorial using factorial2\n",
    "- Solve a quadratic equation using QuadEqu\n",
    "- Exit the program\n",
    "\n",
    "The program should:\n",
    "- Ask the user to select an option.\n",
    "- Request the necessary input values for the chosen option.\n",
    "- Call the corresponding function and display the result.\n",
    "- Repeat the process until the user chooses to exit."
   ]
  },
  {
   "cell_type": "code",
   "execution_count": 97,
   "id": "882a1bae",
   "metadata": {},
   "outputs": [
    {
     "name": "stdout",
     "output_type": "stream",
     "text": [
      "\n",
      "Menu:\n",
      "1. Compute a factorial using factorial2\n",
      "2. Solve a quadratic equation using QuadEqu\n",
      "3. Exit\n",
      "Result: 479001600\n",
      "\n",
      "Menu:\n",
      "1. Compute a factorial using factorial2\n",
      "2. Solve a quadratic equation using QuadEqu\n",
      "3. Exit\n",
      "Exiting the program.\n"
     ]
    }
   ],
   "source": [
    "# Your code here\n",
    "def fact2nddeg():\n",
    "    \n",
    "    while True:\n",
    "        print(\"\\nMenu:\")\n",
    "        print(\"1. Compute a factorial using factorial2\")\n",
    "        print(\"2. Solve a quadratic equation using QuadEqu\")\n",
    "        print(\"3. Exit\")\n",
    "        choice = input(\"Select an option (1/2/3): \")\n",
    "\n",
    "        if choice == '1':\n",
    "            try:\n",
    "                n = int(input(\"Enter a non-negative integer: \"))\n",
    "                result = factorial2(n)\n",
    "                print(\"Result:\", result)\n",
    "            except ValueError:\n",
    "                print(\"Invalid input. Please enter a valid integer.\")\n",
    "        elif choice == '2':\n",
    "            try:\n",
    "                a = float(input(\"Enter coefficient a: \"))\n",
    "                b = float(input(\"Enter coefficient b: \"))\n",
    "                c = float(input(\"Enter coefficient c: \"))\n",
    "                roots = QuadEqu(a, b, c)\n",
    "                if not roots:\n",
    "                    print(\"No real solutions.\")\n",
    "                else:\n",
    "                    print(\"Solutions:\", roots)\n",
    "            except ValueError:\n",
    "                print(\"Invalid input. Please enter valid numbers.\")\n",
    "\n",
    "        elif choice == '3':\n",
    "            print(\"Exiting the program.\")\n",
    "            break\n",
    "\n",
    "        else:\n",
    "            print(\"Invalid option. Please choose 1, 2, or 3.\")\n",
    "\n",
    "if __name__ == \"__main__\":\n",
    "    fact2nddeg()"
   ]
  },
  {
   "cell_type": "markdown",
   "id": "98af1679",
   "metadata": {},
   "source": [
    "### Exercise 2\n",
    "This exercise builds the essential mathematical tools used in public-key cryptography, like [**Rivest–Shamir–Adleman (RSA)**](https://en.wikipedia.org/wiki/RSA_cryptosystem). Security relies on the unique properties of prime numbers and the extreme difficulty of factoring very large numbers.\n",
    "\n",
    "The Core Principle: Prime Factoring is Hard\n",
    "   - **Easy**: Multiplying two large prime numbers ($p$ and $q$) to get a huge composite number ($N=p \\cdot q$) is very fast for computers.\n",
    "   - **Hard**: Given only the product $N$, finding the original two prime factors, $p$ and $q$, takes an enormous amount of time. The time required grows exponentially with the size of $N$. This difficulty is what guarantees security.\n",
    "\n",
    "a) Write a function called `number_of_factors` that takes a positive integer $n$ and returns how many factors the number has together with a list of its factors."
   ]
  },
  {
   "cell_type": "code",
   "execution_count": null,
   "id": "bc869862",
   "metadata": {},
   "outputs": [],
   "source": [
    "# Your code here\n",
    "def number_of_factors(n):\n",
    "    if n <= 0:\n",
    "        return (0, [])\n",
    "    factors = []\n",
    "    for i in range(1, n + 1):\n",
    "        if n % i == 0:\n",
    "            factors.append(i)\n",
    "\n",
    "    return (len(factors), factors)"
   ]
  },
  {
   "cell_type": "markdown",
   "id": "fa1fbcc4",
   "metadata": {},
   "source": [
    "b) Write a Python function called `is_prime` that takes a positive integer, $n$, as input and returns the boolean True if $n$ is a prime number and False, otherwise.\n",
    "\n",
    "Note : A prime number (or a prime) is a natural number greater than 1 and that has no positive divisors other than 1 and itself."
   ]
  },
  {
   "cell_type": "code",
   "execution_count": null,
   "id": "1a8c5643",
   "metadata": {},
   "outputs": [],
   "source": [
    "# Your code here\n",
    "def is_prime(n):\n",
    "    if n <= 1:\n",
    "        return False\n",
    "    if n == 2:\n",
    "        return True \n",
    "    if n % 2 == 0:\n",
    "        return False\n",
    "\n",
    "    for i in range(3, int(n**0.5) + 1, 2):\n",
    "        if n % i == 0:\n",
    "            return False\n",
    "    return True"
   ]
  },
  {
   "cell_type": "markdown",
   "id": "7faeebfc",
   "metadata": {},
   "source": [
    "c) Cryptographic systems need a large pool of primes. Write a function called `primes(k)` that returns a list of the first k prime numbers. (Set the default value of $k$ to 100)."
   ]
  },
  {
   "cell_type": "code",
   "execution_count": null,
   "id": "4581b7e3",
   "metadata": {},
   "outputs": [],
   "source": [
    "# Your code here"
   ]
  },
  {
   "cell_type": "markdown",
   "id": "97aaa822",
   "metadata": {},
   "source": [
    "d) Modify the `primes` function to accept an optional argument called start (default value is 2). The function should now return the first $k$ prime numbers that are greater than or equal to start. This simulates searching for primes in a specific high-security range."
   ]
  },
  {
   "cell_type": "code",
   "execution_count": null,
   "id": "ea01e512",
   "metadata": {},
   "outputs": [],
   "source": [
    "# Your code here\n"
   ]
  },
  {
   "cell_type": "markdown",
   "id": "2277d219",
   "metadata": {},
   "source": [
    "e) The [**Fundamental theorem of arithmetic**](https://en.wikipedia.org/wiki/Fundamental_theorem_of_arithmetic) states that every integer $n$ is a prime number or can be uniquely written as a product of prime powers (e.g., $12=2^2 \\cdot 3^1$. We are interested in finding the exponent of a specific prime in such a factorization. Write a function `V(n, p)` that takes a positive integer $n$ and a prime $p$, and returns the largest integer $r$ such that $p^r$ divides $n$. This value, $r$, is known as the [**p-adic valuation**](https://en.wikipedia.org/wiki/P-adic_valuation)."
   ]
  },
  {
   "cell_type": "code",
   "execution_count": 110,
   "id": "b99888bb",
   "metadata": {},
   "outputs": [],
   "source": [
    "# Your code here\n",
    "def V(n, p):\n",
    "    if n <= 0 or p <= 1:\n",
    "        raise ValueError(\"n must be > 0 and p must be a prime > 1\")\n",
    "    r = 0\n",
    "    while n % p == 0:\n",
    "        n = n // p\n",
    "        r += 1\n",
    "    return r"
   ]
  },
  {
   "cell_type": "code",
   "execution_count": null,
   "id": "e5633ca7",
   "metadata": {},
   "outputs": [
    {
     "name": "stdout",
     "output_type": "stream",
     "text": [
      "2\n",
      "1\n",
      "0\n",
      "3\n",
      "3\n"
     ]
    }
   ],
   "source": [
    "print(V(12, 2))\n",
    "print(V(12, 3))\n",
    "print(V(12, 5))   \n",
    "print(V(1000, 2)) \n",
    "print(V(1000, 5))"
   ]
  },
  {
   "cell_type": "markdown",
   "id": "0b5b6a45",
   "metadata": {},
   "source": [
    "f) We would like now to compare the prime-factor structure of two numbers, $n$ and $m$, that is, we would like to measure how different two numbers are in terms of the powers of the primes in their factorizations. Write a function `D(n, m)` that takes two positive integers, $n$ and $m$, and returns a total score $S_1$ calculated as follows:\n",
    "\n",
    " $$ S_1 = \\sum_{p\\; prime} \\Bigl| \\nu_p(n) - \\nu_p(m)\\Bigr| $$\n",
    "\n",
    "Note that `D(14,24)=4`.\n",
    "\n"
   ]
  },
  {
   "cell_type": "code",
   "execution_count": null,
   "id": "d36c528f",
   "metadata": {},
   "outputs": [],
   "source": [
    "# Your code here\n",
    "\n"
   ]
  },
  {
   "cell_type": "markdown",
   "id": "d3341aa5",
   "metadata": {},
   "source": [
    "g) The final problem requires you to analyze the average behavior of the `D(n,m)` function by computing a large, iterated sum.  Hence, write a function `P` that takes a positive integer `N` and returns the sum $S_2$ given by:\n",
    "\n",
    "$$S_2  = \\sum_{n=1}^{N}\\sum_{m=1}^{N}D(n,m).$$\n",
    "\n",
    "Note that $P(10)=210$ and $P(10^2) = 37018$.\n"
   ]
  },
  {
   "cell_type": "code",
   "execution_count": null,
   "id": "220bba4a",
   "metadata": {},
   "outputs": [],
   "source": [
    "# Your code here"
   ]
  },
  {
   "cell_type": "markdown",
   "id": "2336829c-4e61-49ad-955c-364ae234a725",
   "metadata": {},
   "source": [
    "### Exercise 3\n",
    "\n",
    "Imagine a population of bacteria that grows at a rate proportional to its current size, but with limited food supply. Suppose its growth is modeled by\n",
    "\n",
    "$$\\dfrac{dy}{dt}=0.5y$$\n",
    "\n",
    "with initial population $y(0)=2$.\n",
    "\n",
    "a) Explain in words what this equation means about how the population changes over time."
   ]
  },
  {
   "cell_type": "markdown",
   "id": "fc7a47fb-0509-4a8b-b8c2-11ee3394cb6c",
   "metadata": {},
   "source": [
    "**Your explanation here**"
   ]
  },
  {
   "cell_type": "markdown",
   "id": "6e7ac82b-5593-4daa-9320-926192c42102",
   "metadata": {},
   "source": [
    "b) [**Euler’s method**](https://en.wikipedia.org/wiki/Euler_method) is a numerical technique to approximate solutions of ordinary differential equations (ODEs) when an exact solution is hard (or impossible) to find.\n",
    "\n",
    "Suppose we have an ODE:\n",
    "$$\\dfrac{dy}{dt} = f(t, y), \\quad y(t_0)=y_0$$\n",
    "\n",
    "The idea is:\n",
    "\n",
    "- Start from an initial point $(t_0, y_0)$\n",
    "- Move forward in small steps of size $h$\n",
    "- At each step, estimate the new value of $y$ using the slope $f(t,y)$ at the current point\n",
    "\n",
    "The update formula is thus given by:\n",
    "$$y_{n+1} = y_n + h \\cdot f(t_n,y_n)$$\n",
    "$$t_{n+1} = t_n + h$$\n",
    "\n",
    "The pseudocode is given as follows:"
   ]
  },
  {
   "cell_type": "raw",
   "id": "cd6dd625-099b-4958-b019-76d584c39873",
   "metadata": {
    "vscode": {
     "languageId": "raw"
    }
   },
   "source": [
    "deuler(f, t0, y0, h, n):\n",
    "    input: \n",
    "        f  = function representing dy/dt = f(t, y)\n",
    "        t0 = initial time\n",
    "        y0 = initial value\n",
    "        h  = step size\n",
    "        n  = number of steps\n",
    "    output: approximate solution y_n after n steps\n",
    "    \n",
    "    set t = t0\n",
    "    set y = y0\n",
    "    \n",
    "    for i from 1 to n:\n",
    "        y = y + h * f(t, y)\n",
    "        t = t + h\n",
    "    \n",
    "    return y\n"
   ]
  },
  {
   "cell_type": "markdown",
   "id": "4a8b4070-f302-4515-87ac-2e9186a35596",
   "metadata": {},
   "source": [
    "c) i) Write $f(t, y) = 0.5y$ as a lambda function."
   ]
  },
  {
   "cell_type": "code",
   "execution_count": null,
   "id": "e7945c33-fc9e-4bf5-a430-7b5b57d898f7",
   "metadata": {},
   "outputs": [],
   "source": []
  },
  {
   "cell_type": "markdown",
   "id": "63cbe25c-85a0-486a-8dbc-f69658cc7003",
   "metadata": {},
   "source": [
    "ii) Now, use Euler’s method with a step size $h=0.1$ to approximate the population at $t=0.3$. Strictly use lists."
   ]
  },
  {
   "cell_type": "code",
   "execution_count": null,
   "id": "681af205-4795-4986-bdf9-b71fd19a9ddc",
   "metadata": {},
   "outputs": [],
   "source": []
  },
  {
   "cell_type": "markdown",
   "id": "3011b990-9ec4-4045-977e-806cf2a01489",
   "metadata": {},
   "source": [
    "d) Compare your result at $t=0.3$ with the exact solution $y(t) = 2\\exp^{0.5t}$, that is, compute the absolute error."
   ]
  },
  {
   "cell_type": "code",
   "execution_count": null,
   "id": "752d3ba9-b5ca-44b0-bee3-fa9fab03a03c",
   "metadata": {},
   "outputs": [],
   "source": []
  },
  {
   "cell_type": "markdown",
   "id": "23e54ea3-994e-4351-ba36-a6fdfbc07e43",
   "metadata": {},
   "source": [
    "e) Compare your answers for $y(0.3)$ with $h=0.1$ and $h=0.05$. Which one is closer to the exact solution $y(0.3) = 2\\exp^{0.15}$ ? Reflect on this."
   ]
  },
  {
   "cell_type": "code",
   "execution_count": null,
   "id": "c6eb7840-6a86-42f4-bb0d-181038445e4b",
   "metadata": {},
   "outputs": [],
   "source": []
  },
  {
   "cell_type": "markdown",
   "id": "fbd0292f-9bb4-48b9-8714-264d7a4e30c1",
   "metadata": {},
   "source": [
    "### Exercise 4\n",
    "\n",
    "Determine how many Sundays fell on the first day of a month during the twentieth century, that is, from 1 January 1901 to 31 December 2000.\n",
    "\n",
    "The following information might be useful (though you may also verify or research independently):\n",
    "\n",
    "- 1 January 1900 was a Monday.\n",
    "- The number of days in each month is as follows:\n",
    "    - September, April, June, and November each have 30 days.\n",
    "    - All other months have 31 days, except February, which has 28 days in a common year and 29 days in a leap year.\n",
    "- Leap year rules:\n",
    "    - A year is a leap year if it is divisible by 4.\n",
    "    - However, if the year is a century (i.e., divisible by 100), it is only a leap year if it is also divisible by 400."
   ]
  },
  {
   "cell_type": "code",
   "execution_count": null,
   "id": "15009fdd-575a-4ed7-bee2-72ea31ca554e",
   "metadata": {},
   "outputs": [
    {
     "name": "stdout",
     "output_type": "stream",
     "text": [
      "171\n"
     ]
    }
   ],
   "source": []
  }
 ],
 "metadata": {
  "kernelspec": {
   "display_name": "daily-notebook",
   "language": "python",
   "name": "python3"
  },
  "language_info": {
   "codemirror_mode": {
    "name": "ipython",
    "version": 3
   },
   "file_extension": ".py",
   "mimetype": "text/x-python",
   "name": "python",
   "nbconvert_exporter": "python",
   "pygments_lexer": "ipython3",
   "version": "3.10.12"
  }
 },
 "nbformat": 4,
 "nbformat_minor": 5
}
