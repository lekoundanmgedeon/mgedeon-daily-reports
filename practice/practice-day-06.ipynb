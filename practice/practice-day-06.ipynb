{
 "cells": [
  {
   "cell_type": "code",
   "execution_count": 4,
   "id": "5a6aefa9",
   "metadata": {},
   "outputs": [
    {
     "name": "stdout",
     "output_type": "stream",
     "text": [
      "Enter a number :0\n",
      "Enter another number :10\n",
      "Result: 0.0\n",
      "✅ Division performed successfully!\n",
      "🔁 End of program.\n"
     ]
    }
   ],
   "source": [
    "## Trying different cases\n",
    "\n",
    "try :\n",
    "    x = int(input(\"Enter a number :\"))\n",
    "    y = int(input(\"Enter another number :\"))\n",
    "    result = x/y \n",
    "    print(\"Result:\", result)\n",
    "except ZeroDivisionError : \n",
    "    print(\"❌ Division by zero is not allowed.\" )\n",
    "except ValueError : \n",
    "    print('⚠️ Please enter valid integers. ')\n",
    "else:\n",
    "    print(\"✅ Division performed successfully!\")\n",
    "finally:\n",
    "    print(\"🔁 End of program.\")"
   ]
  },
  {
   "cell_type": "code",
   "execution_count": null,
   "id": "99cfb860",
   "metadata": {},
   "outputs": [],
   "source": [
    "## Modifying the code \n",
    "\n",
    "try :\n",
    "    x = int(input(\"Enter a number :\"))\n",
    "    y = int(input(\"Enter another number :\"))\n",
    "    result = x/y \n",
    "    print(\"Result:\", result)\n",
    "except TypeError : \n",
    "    print(\"❌ Division by zero is not allowed.\" )\n",
    "except ValueError : \n",
    "    print('⚠️ Please enter valid integers. ')\n",
    "else:\n",
    "    print(\"✅ Division performed successfully!\")\n",
    "finally:\n",
    "    print(\"🔁 End of program.\")"
   ]
  },
  {
   "cell_type": "code",
   "execution_count": null,
   "id": "2224c3e7",
   "metadata": {},
   "outputs": [],
   "source": []
  }
 ],
 "metadata": {
  "kernelspec": {
   "display_name": "Python 3 (ipykernel)",
   "language": "python",
   "name": "python3"
  },
  "language_info": {
   "codemirror_mode": {
    "name": "ipython",
    "version": 3
   },
   "file_extension": ".py",
   "mimetype": "text/x-python",
   "name": "python",
   "nbconvert_exporter": "python",
   "pygments_lexer": "ipython3",
   "version": "3.10.12"
  }
 },
 "nbformat": 4,
 "nbformat_minor": 5
}
